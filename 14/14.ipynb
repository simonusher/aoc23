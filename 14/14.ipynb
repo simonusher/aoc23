{
 "cells": [
  {
   "cell_type": "code",
   "execution_count": 165,
   "metadata": {},
   "outputs": [
    {
     "data": {
      "text/plain": [
       "['O....#....',\n",
       " 'O.OO#....#',\n",
       " '.....##...',\n",
       " 'OO.#O....O',\n",
       " '.O.....O#.',\n",
       " 'O.#..O.#.#',\n",
       " '..O..#O..O',\n",
       " '.......O..',\n",
       " '#....###..',\n",
       " '#OO..#....']"
      ]
     },
     "execution_count": 165,
     "metadata": {},
     "output_type": "execute_result"
    }
   ],
   "source": [
    "with open(\"14/example1.txt\") as f:\n",
    "    rocks = f.read().splitlines()\n",
    "rocks"
   ]
  },
  {
   "cell_type": "code",
   "execution_count": 166,
   "metadata": {},
   "outputs": [],
   "source": [
    "def calculate_load(rocks: list[str]):\n",
    "    return sum(row.count(\"O\") * i for i, row in enumerate(rocks[::-1], start=1))"
   ]
  },
  {
   "cell_type": "code",
   "execution_count": 167,
   "metadata": {},
   "outputs": [],
   "source": [
    "def transpose(rocks: list[str]) -> list[str]:\n",
    "    return [\"\".join([row[i] for row in rocks]) for i in range(len(rocks[0]))]"
   ]
  },
  {
   "cell_type": "code",
   "execution_count": 168,
   "metadata": {},
   "outputs": [],
   "source": [
    "def flip(rocks: list[str]) -> list[str]:\n",
    "    return [r[::-1] for r in rocks]"
   ]
  },
  {
   "cell_type": "code",
   "execution_count": 169,
   "metadata": {},
   "outputs": [],
   "source": [
    "def identity(rocks: list[str]) -> list[str]:\n",
    "    return rocks"
   ]
  },
  {
   "cell_type": "code",
   "execution_count": 170,
   "metadata": {},
   "outputs": [],
   "source": [
    "TILT = {\n",
    "    \"N\": (transpose, transpose),\n",
    "    \"E\": (flip, flip),\n",
    "    \"S\": (lambda x: flip(transpose(x)), lambda x: transpose(flip(x))),\n",
    "    \"W\": (identity, identity) \n",
    "}"
   ]
  },
  {
   "cell_type": "code",
   "execution_count": 171,
   "metadata": {},
   "outputs": [],
   "source": [
    "def tilt(rocks: list[str], direction: str) -> list[str]:\n",
    "    to_f, from_f = TILT[direction]\n",
    "\n",
    "    transposed = to_f(rocks)\n",
    "    results = []\n",
    "    for row in transposed:\n",
    "        res = []\n",
    "        for part in row.split(\"#\"):\n",
    "            part_o = part.count(\"O\")\n",
    "            part_dots = part.count(\".\")\n",
    "            res.append(\"O\" * part_o + \".\" * part_dots)\n",
    "        results.append(\"#\".join(res))\n",
    "    return from_f(results)"
   ]
  },
  {
   "cell_type": "code",
   "execution_count": 172,
   "metadata": {},
   "outputs": [
    {
     "data": {
      "text/plain": [
       "['O....#....',\n",
       " 'O.OO#....#',\n",
       " '.....##...',\n",
       " 'OO.#O....O',\n",
       " '.O.....O#.',\n",
       " 'O.#..O.#.#',\n",
       " '..O..#O..O',\n",
       " '.......O..',\n",
       " '#....###..',\n",
       " '#OO..#....']"
      ]
     },
     "execution_count": 172,
     "metadata": {},
     "output_type": "execute_result"
    }
   ],
   "source": [
    "rocks"
   ]
  },
  {
   "cell_type": "code",
   "execution_count": 182,
   "metadata": {},
   "outputs": [],
   "source": [
    "def cycle(rocks: list[str]) -> list[str]:\n",
    "    for d in [\"N\", \"W\", \"S\", \"E\"]:\n",
    "        rocks = tilt(rocks, d)\n",
    "    return rocks"
   ]
  },
  {
   "cell_type": "code",
   "execution_count": 196,
   "metadata": {},
   "outputs": [],
   "source": [
    "cycles = 1000000\n",
    "\n",
    "ble = rocks\n",
    "for i in range(cycles):\n",
    "    ble = cycle(ble)"
   ]
  },
  {
   "cell_type": "code",
   "execution_count": 186,
   "metadata": {},
   "outputs": [
    {
     "data": {
      "text/plain": [
       "['.....#....',\n",
       " '....#...O#',\n",
       " '.....##...',\n",
       " '..O#......',\n",
       " '.....OOO#.',\n",
       " '.O#...O#.#',\n",
       " '....O#...O',\n",
       " '.......OOO',\n",
       " '#..OO###..',\n",
       " '#.OOO#...O']"
      ]
     },
     "execution_count": 186,
     "metadata": {},
     "output_type": "execute_result"
    }
   ],
   "source": []
  },
  {
   "cell_type": "code",
   "execution_count": 142,
   "metadata": {},
   "outputs": [],
   "source": [
    "def tilt_north(rocks: list[str]) -> list[str]:\n",
    "    transposed = transpose(rocks)\n",
    "    results = []\n",
    "    for row in transposed:\n",
    "        res = []\n",
    "        for part in row.split(\"#\"):\n",
    "            part_o = part.count(\"O\")\n",
    "            part_dots = part.count(\".\")\n",
    "            res.append(\"O\" * part_o + \".\" * part_dots)\n",
    "        results.append(\"#\".join(res))\n",
    "    return transpose(results)"
   ]
  },
  {
   "cell_type": "code",
   "execution_count": null,
   "metadata": {},
   "outputs": [],
   "source": []
  },
  {
   "cell_type": "code",
   "execution_count": null,
   "metadata": {},
   "outputs": [],
   "source": []
  },
  {
   "cell_type": "code",
   "execution_count": 143,
   "metadata": {},
   "outputs": [
    {
     "data": {
      "text/plain": [
       "112046"
      ]
     },
     "execution_count": 143,
     "metadata": {},
     "output_type": "execute_result"
    }
   ],
   "source": [
    "calculate_load(tilt_north(rocks))"
   ]
  }
 ],
 "metadata": {
  "kernelspec": {
   "display_name": "env",
   "language": "python",
   "name": "python3"
  },
  "language_info": {
   "codemirror_mode": {
    "name": "ipython",
    "version": 3
   },
   "file_extension": ".py",
   "mimetype": "text/x-python",
   "name": "python",
   "nbconvert_exporter": "python",
   "pygments_lexer": "ipython3",
   "version": "3.10.13"
  }
 },
 "nbformat": 4,
 "nbformat_minor": 2
}
