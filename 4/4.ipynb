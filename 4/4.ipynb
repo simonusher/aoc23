{
 "cells": [
  {
   "cell_type": "code",
   "execution_count": null,
   "metadata": {},
   "outputs": [],
   "source": [
    "with open(\"4/input.txt\") as f:\n",
    "    data = f.read().splitlines()\n",
    "data[:5]"
   ]
  },
  {
   "cell_type": "code",
   "execution_count": null,
   "metadata": {},
   "outputs": [],
   "source": [
    "import re\n",
    "\n",
    "def get_num_matches(card_line: str) -> int:\n",
    "    winning_numbers, numbers_had = re.match(\"^.*: (.*) \\| (.*)$\", card_line).groups()\n",
    "    winning_numbers, numbers_had = winning_numbers.strip(), numbers_had.strip()\n",
    "\n",
    "    winning_numbers = set(map(lambda x: int(x.strip()), re.split(\"\\s+\", winning_numbers)))\n",
    "    numbers_had = set(map(lambda x: int(x.strip()), re.split(\"\\s+\", numbers_had)))\n",
    "\n",
    "    overlapping_numbers = winning_numbers.intersection(numbers_had)\n",
    "    return len(overlapping_numbers)\n",
    "\n",
    "def get_points_for_card(card_line: str) -> int:\n",
    "    num_matches = get_num_matches(card_line)\n",
    "    points_for_card = 2 ** (num_matches - 1) if num_matches > 0 else 0\n",
    "    return points_for_card"
   ]
  },
  {
   "cell_type": "code",
   "execution_count": null,
   "metadata": {},
   "outputs": [],
   "source": [
    "sum(map(get_points_for_card, data))"
   ]
  },
  {
   "cell_type": "markdown",
   "metadata": {},
   "source": [
    "## Part 2"
   ]
  },
  {
   "cell_type": "code",
   "execution_count": null,
   "metadata": {},
   "outputs": [],
   "source": [
    "def get_card_copies(data: list[str]) -> dict[int, int]:\n",
    "    copies = { i: 0 for i in range(len(data)) }\n",
    "\n",
    "    for i, card in enumerate(data):\n",
    "        num_matches = get_num_matches(card)\n",
    "        multiplier = 1 + copies[i]\n",
    "\n",
    "        for copy_index in range(i+1, i+1+num_matches):\n",
    "            copies[copy_index] += multiplier\n",
    "    \n",
    "    return copies"
   ]
  },
  {
   "cell_type": "code",
   "execution_count": null,
   "metadata": {},
   "outputs": [],
   "source": [
    "copies = get_card_copies(data)\n",
    "total_scratchcards = len(data) + sum(copies.values())\n",
    "total_scratchcards"
   ]
  },
  {
   "cell_type": "code",
   "execution_count": null,
   "metadata": {},
   "outputs": [],
   "source": []
  }
 ],
 "metadata": {
  "kernelspec": {
   "display_name": "env",
   "language": "python",
   "name": "python3"
  },
  "language_info": {
   "codemirror_mode": {
    "name": "ipython",
    "version": 3
   },
   "file_extension": ".py",
   "mimetype": "text/x-python",
   "name": "python",
   "nbconvert_exporter": "python",
   "pygments_lexer": "ipython3",
   "version": "3.10.13"
  }
 },
 "nbformat": 4,
 "nbformat_minor": 2
}
