{
 "cells": [
  {
   "cell_type": "code",
   "execution_count": null,
   "metadata": {},
   "outputs": [],
   "source": [
    "from itertools import pairwise\n",
    "\n",
    "with open(\"5/input.txt\") as f:\n",
    "    data = f.read()\n",
    "data"
   ]
  },
  {
   "cell_type": "code",
   "execution_count": null,
   "metadata": {},
   "outputs": [],
   "source": [
    "categories = data.split(\"\\n\\n\")\n",
    "categories"
   ]
  },
  {
   "cell_type": "code",
   "execution_count": null,
   "metadata": {},
   "outputs": [],
   "source": [
    "seeds = list(map(lambda seed_str: int(seed_str.strip()), categories[0].replace(\"seeds: \", \"\").split(\" \")))\n",
    "seeds"
   ]
  },
  {
   "cell_type": "code",
   "execution_count": null,
   "metadata": {},
   "outputs": [],
   "source": [
    "def get_missing_ranges(category_map: list[tuple[int, int, int]]):\n",
    "    missing_ranges = []\n",
    "    for seq1, seq2 in pairwise(category_map):\n",
    "        if seq1[1] != (seq2[0] - 1):\n",
    "            source_range_start, source_range_end_inclusive, destination_range_start = seq1[1]+1, seq2[0] - 1, seq1[1]+1\n",
    "            missing_ranges.append((source_range_start, source_range_end_inclusive, destination_range_start))\n",
    "    return missing_ranges"
   ]
  },
  {
   "cell_type": "code",
   "execution_count": null,
   "metadata": {},
   "outputs": [],
   "source": [
    "category_maps = {}\n",
    "\n",
    "for category in categories[1:]:\n",
    "    category_map_name, mappings_str = category.split(\" map:\\n\", maxsplit=1)\n",
    "    from_category, to_category = category_map_name.split(\"-to-\")\n",
    "    mapping_lines = mappings_str.strip().split(\"\\n\")\n",
    "    from_to_category = []\n",
    "    for line in mapping_lines:\n",
    "        destination_range_start, source_range_start, range_length = map(int, line.split())\n",
    "        source_range_end_inclusive = source_range_start + range_length - 1\n",
    "        from_to_category.append((source_range_start, source_range_end_inclusive, destination_range_start))\n",
    "    from_to_category = sorted(from_to_category, key=lambda x: x[0])\n",
    "    missing_ranges = get_missing_ranges(from_to_category)\n",
    "    from_to_category.extend(missing_ranges)\n",
    "    from_to_category = sorted(from_to_category, key=lambda x: x[0])\n",
    "    category_maps[from_category] = (to_category, from_to_category)\n",
    "category_maps"
   ]
  },
  {
   "cell_type": "code",
   "execution_count": null,
   "metadata": {},
   "outputs": [],
   "source": [
    "def find_matching_range_linear(value: int, from_to_map: list[tuple[int, int, int]]) -> tuple[int | None, tuple[int | None, int | None], int]:\n",
    "    for i, (source_range_start, source_range_end_inclusive, destination_range_start) in enumerate(from_to_map):\n",
    "        if source_range_start <= value <= source_range_end_inclusive:\n",
    "            diff_from_source_start = value - source_range_start\n",
    "            return i, (source_range_start, source_range_end_inclusive), (destination_range_start + diff_from_source_start)\n",
    "    return value\n",
    "\n",
    "def find_matching_range_binary(value: int, from_to_map: list[tuple[int, int, int]]) -> tuple[int | None, tuple[int, int] | tuple[None, None], int]:\n",
    "    start_index, end_index = 0, len(from_to_map)\n",
    "\n",
    "    while start_index < end_index:\n",
    "        mid_index = (end_index + start_index) // 2\n",
    "        source_range_start, source_range_end_inclusive, destination_range_start = from_to_map[mid_index]\n",
    "\n",
    "        if source_range_start <= value <= source_range_end_inclusive:\n",
    "            diff_from_source_start = value - source_range_start\n",
    "            return mid_index, (source_range_start, source_range_end_inclusive), (destination_range_start + diff_from_source_start)\n",
    "        \n",
    "        elif value > source_range_end_inclusive:\n",
    "            start_index = mid_index + 1\n",
    "\n",
    "        else:\n",
    "            end_index = mid_index\n",
    "    return None, (None, None), value\n",
    "\n",
    "\n",
    "def map_from_to_category(value: int, from_to_map: list[tuple[int, int, int]]):\n",
    "    *_, mapped_value = find_matching_range_binary(value, from_to_map)\n",
    "    return mapped_value"
   ]
  },
  {
   "cell_type": "code",
   "execution_count": null,
   "metadata": {},
   "outputs": [],
   "source": [
    "def map_seeds_all_categories(start_values: list[int], category_maps: dict[str, tuple[str, list[tuple[int, int, int]]]]) -> list[int]:\n",
    "    start_category = \"seed\"\n",
    "    mapped_values = start_values\n",
    "    \n",
    "    while start_category in category_maps:\n",
    "        start_category, category_map = category_maps[start_category]\n",
    "        mapped_values = [map_from_to_category(value, category_map) for value in mapped_values]\n",
    "    \n",
    "    return mapped_values\n"
   ]
  },
  {
   "cell_type": "code",
   "execution_count": null,
   "metadata": {},
   "outputs": [],
   "source": [
    "locations = map_seeds_all_categories(seeds, category_maps)\n",
    "locations"
   ]
  },
  {
   "cell_type": "code",
   "execution_count": null,
   "metadata": {},
   "outputs": [],
   "source": [
    "min(locations)"
   ]
  },
  {
   "cell_type": "markdown",
   "metadata": {},
   "source": [
    "## Part 2"
   ]
  },
  {
   "cell_type": "code",
   "execution_count": null,
   "metadata": {},
   "outputs": [],
   "source": [
    "seed_ranges = [(range_start, range_start + range_length - 1) for range_start, range_length in list(zip(seeds[::2], seeds[1::2]))]\n",
    "seed_ranges = sorted(seed_ranges)\n",
    "seed_ranges"
   ]
  },
  {
   "cell_type": "code",
   "execution_count": null,
   "metadata": {},
   "outputs": [],
   "source": [
    "category_maps['soil'][1]"
   ]
  },
  {
   "cell_type": "code",
   "execution_count": null,
   "metadata": {},
   "outputs": [],
   "source": [
    "def ranges_overlap(first_range_start: int, first_range_end: int, second_range_start: int, second_range_end: int) -> bool:\n",
    "    return (\n",
    "        (first_range_start <= second_range_start <= first_range_end) or\n",
    "        (first_range_start <= second_range_end <= first_range_end) or\n",
    "        (second_range_start <= first_range_start <= second_range_end) or\n",
    "        (second_range_start <= first_range_end <= second_range_end)\n",
    "    )\n",
    "\n",
    "def get_overlapping_ranges(range: tuple[int, int], category_map: list[tuple[int, int, int]]) -> list[tuple[int, int, int]]:\n",
    "    range_start, range_end_inclusive = range\n",
    "    res = []\n",
    "    for value_range in category_map:\n",
    "        source_range_start, source_range_end_inclusive, _ = value_range\n",
    "        if ranges_overlap(source_range_start, source_range_end_inclusive, range_start, range_end_inclusive):\n",
    "            res.append(value_range)\n",
    "    if len(res) == 0:\n",
    "        res = [(range_start, range_end_inclusive, range_start)]\n",
    "    else:\n",
    "        (first_range_start, first_range_end_inclusive, first_destination_range_start), *rest = res\n",
    "        if first_range_start > range_start:\n",
    "            res = [(range_start, first_range_start-1, range_start), *res]\n",
    "\n",
    "        elif first_range_start < range_start:\n",
    "            destination_range_start = first_destination_range_start + (range_start - first_range_start)\n",
    "            res = [(range_start, first_range_end_inclusive, destination_range_start), *rest]\n",
    "        \n",
    "\n",
    "        *rest, (last_range_start, last_range_end_inclusive, last_destination_range_start) = res\n",
    "        if last_range_end_inclusive < range_end_inclusive:\n",
    "            res = [*res, (last_range_end_inclusive+1, range_end_inclusive, last_range_end_inclusive+1)]\n",
    "\n",
    "        elif last_range_end_inclusive > range_end_inclusive:\n",
    "            res = [*rest, (last_range_start, range_end_inclusive, last_destination_range_start)]\n",
    "\n",
    "    return res\n",
    "\n",
    "\n",
    "def get_mapped_ranges(range: tuple[int, int], category_map: list[tuple[int, int, int]]) -> list[tuple[int, int]]:\n",
    "    overlapping_ranges = get_overlapping_ranges(range, category_map)\n",
    "    mapped_ranges = []\n",
    "\n",
    "    for source_range_start, source_range_end_inclusive, destination_range_start in overlapping_ranges:\n",
    "        destination_range_end = destination_range_start + (source_range_end_inclusive - source_range_start)\n",
    "        mapped_ranges.append((destination_range_start, destination_range_end))\n",
    "    return mapped_ranges\n",
    "\n",
    "def map_seed_ranges(start_ranges: list[tuple[int, int]], category_maps: dict[str, tuple[str, list[tuple[int, int, int]]]]) -> list[tuple[int, int]]:\n",
    "    start_category = \"seed\"\n",
    "    mapped_ranges = start_ranges\n",
    "    \n",
    "    while start_category in category_maps:\n",
    "        start_category, category_map = category_maps[start_category]\n",
    "        mapped_ranges = [mapped_range for range in mapped_ranges for mapped_range in get_mapped_ranges(range, category_map)]\n",
    "    return mapped_ranges\n",
    "\n",
    "mapped_locations = map_seed_ranges(seed_ranges, category_maps)\n",
    "min(x[0] for x in mapped_locations)"
   ]
  }
 ],
 "metadata": {
  "kernelspec": {
   "display_name": "env",
   "language": "python",
   "name": "python3"
  },
  "language_info": {
   "codemirror_mode": {
    "name": "ipython",
    "version": 3
   },
   "file_extension": ".py",
   "mimetype": "text/x-python",
   "name": "python",
   "nbconvert_exporter": "python",
   "pygments_lexer": "ipython3",
   "version": "3.10.13"
  }
 },
 "nbformat": 4,
 "nbformat_minor": 2
}
