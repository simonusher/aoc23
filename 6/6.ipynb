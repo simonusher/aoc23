{
 "cells": [
  {
   "cell_type": "code",
   "execution_count": 11,
   "metadata": {},
   "outputs": [
    {
     "data": {
      "text/plain": [
       "[(62, 644), (73, 1023), (75, 1240), (65, 1023)]"
      ]
     },
     "execution_count": 11,
     "metadata": {},
     "output_type": "execute_result"
    }
   ],
   "source": [
    "from itertools import starmap\n",
    "from functools import reduce\n",
    "from operator import mul\n",
    "\n",
    "with open(\"6/input.txt\") as f:\n",
    "    data = f.read().splitlines()\n",
    "times = list(map(int, data[0].replace(\"Time:\", \"\").strip().split()))\n",
    "distances = list(map(int, data[1].replace(\"Distance:\", \"\").strip().split()))\n",
    "times_with_distances = list(zip(times, distances))\n",
    "times_with_distances"
   ]
  },
  {
   "cell_type": "code",
   "execution_count": 15,
   "metadata": {},
   "outputs": [],
   "source": [
    "def distance(time_held: int, race_time: int) -> int:\n",
    "    return time_held * (race_time - time_held)\n",
    "\n",
    "def distances(race_time: int) -> list[int]:\n",
    "    return [distance(x, race_time) for x in range(1, race_time)]"
   ]
  },
  {
   "cell_type": "code",
   "execution_count": 16,
   "metadata": {},
   "outputs": [],
   "source": [
    "def num_wins(race_time: int, record: int) -> list[int]:\n",
    "    return len([d for d in distances(race_time) if d > record])"
   ]
  },
  {
   "cell_type": "code",
   "execution_count": 17,
   "metadata": {},
   "outputs": [
    {
     "data": {
      "text/plain": [
       "393120"
      ]
     },
     "execution_count": 17,
     "metadata": {},
     "output_type": "execute_result"
    }
   ],
   "source": [
    "solution_1 = reduce(mul,starmap(num_wins, times_with_distances))\n",
    "solution_1"
   ]
  },
  {
   "cell_type": "markdown",
   "metadata": {},
   "source": [
    "# Part 2"
   ]
  },
  {
   "cell_type": "code",
   "execution_count": 18,
   "metadata": {},
   "outputs": [
    {
     "data": {
      "text/plain": [
       "(62737565, 644102312401023)"
      ]
     },
     "execution_count": 18,
     "metadata": {},
     "output_type": "execute_result"
    }
   ],
   "source": [
    "race_time = int(data[0].replace(\"Time:\", \"\").strip().replace(\" \", \"\"))\n",
    "race_distance = int(data[1].replace(\"Distance:\", \"\").strip().replace(\" \", \"\"))\n",
    "race_time, race_distance"
   ]
  },
  {
   "cell_type": "code",
   "execution_count": 19,
   "metadata": {},
   "outputs": [
    {
     "data": {
      "text/plain": [
       "36872656"
      ]
     },
     "execution_count": 19,
     "metadata": {},
     "output_type": "execute_result"
    }
   ],
   "source": [
    "solution_2 = num_wins(race_time, race_distance)\n",
    "solution_2"
   ]
  },
  {
   "cell_type": "markdown",
   "metadata": {},
   "source": [
    "## Analytical solution"
   ]
  },
  {
   "cell_type": "markdown",
   "metadata": {},
   "source": [
    "Race time: $T$  \n",
    "Record distance: $R$  \n",
    "Hold time: $x$  \n",
    "distance: $f(x)=(T-x) * x$  \n",
    "Solve $(T-x)*x>R$"
   ]
  },
  {
   "cell_type": "code",
   "execution_count": 20,
   "metadata": {},
   "outputs": [],
   "source": [
    "import math\n",
    "\n",
    "def winning_range(race_time: int, record: int) -> tuple[int, int] | None:\n",
    "    delta = race_time ** 2 - 4 * record\n",
    "    if delta < 0:\n",
    "        return None\n",
    "    elif delta == 0:\n",
    "        x0 = race_time / 2\n",
    "        if x0.is_integer() and x0 >= 0 and x0 <= race_time:\n",
    "            return (x0, x0)\n",
    "        return None\n",
    "    else:\n",
    "        x1 = (race_time - math.sqrt(delta)) / 2\n",
    "        x2 = (race_time + math.sqrt(delta)) / 2\n",
    "        if x1.is_integer():\n",
    "            x1 = int(x1) + 1\n",
    "        if x2.is_integer():\n",
    "            x2 = int(x2) - 1\n",
    "\n",
    "        x1 = math.ceil(max(x1, 1))\n",
    "        x2 = math.floor(min(x2, race_time - 1))\n",
    "        return (x1, x2)\n",
    "\n",
    "def num_wins_analytical(race_time: int, record: int) -> int:\n",
    "    match winning_range(race_time, record):\n",
    "        case None:\n",
    "            return 0\n",
    "        case range_start, range_end:\n",
    "            return range_end - range_start + 1 # for (11, 12) should equal 2 so + 1"
   ]
  },
  {
   "cell_type": "code",
   "execution_count": 21,
   "metadata": {},
   "outputs": [
    {
     "data": {
      "text/plain": [
       "393120"
      ]
     },
     "execution_count": 21,
     "metadata": {},
     "output_type": "execute_result"
    }
   ],
   "source": [
    "solution_1 = reduce(mul, starmap(num_wins_analytical, times_with_distances))\n",
    "solution_1"
   ]
  },
  {
   "cell_type": "code",
   "execution_count": 22,
   "metadata": {},
   "outputs": [
    {
     "data": {
      "text/plain": [
       "36872656"
      ]
     },
     "execution_count": 22,
     "metadata": {},
     "output_type": "execute_result"
    }
   ],
   "source": [
    "solution_2 = num_wins_analytical(race_time, race_distance)\n",
    "solution_2"
   ]
  }
 ],
 "metadata": {
  "kernelspec": {
   "display_name": "env",
   "language": "python",
   "name": "python3"
  },
  "language_info": {
   "codemirror_mode": {
    "name": "ipython",
    "version": 3
   },
   "file_extension": ".py",
   "mimetype": "text/x-python",
   "name": "python",
   "nbconvert_exporter": "python",
   "pygments_lexer": "ipython3",
   "version": "3.10.13"
  }
 },
 "nbformat": 4,
 "nbformat_minor": 2
}
