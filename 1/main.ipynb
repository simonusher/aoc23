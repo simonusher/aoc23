{
 "cells": [
  {
   "cell_type": "code",
   "execution_count": 1,
   "metadata": {},
   "outputs": [
    {
     "data": {
      "text/plain": [
       "['zlmlk1',\n",
       " 'vqjvxtc79mvdnktdsxcqc1sevenone',\n",
       " 'vsskdclbtmjmvrseven6',\n",
       " '8jkfncbeight7seven8',\n",
       " 'six8dbfrsxp']"
      ]
     },
     "execution_count": 1,
     "metadata": {},
     "output_type": "execute_result"
    }
   ],
   "source": [
    "import numpy as np\n",
    "with open(\"1/input.txt\") as f:\n",
    "    input = f.read().splitlines()\n",
    "input[:5]"
   ]
  },
  {
   "cell_type": "code",
   "execution_count": 2,
   "metadata": {},
   "outputs": [],
   "source": [
    "def get_calibration_number(input_line):\n",
    "    digits = [x for x in input_line if x.isdigit()]\n",
    "    first_digit = digits[0]\n",
    "    second_digit = digits[-1]\n",
    "    return int(first_digit + second_digit)"
   ]
  },
  {
   "cell_type": "code",
   "execution_count": 3,
   "metadata": {},
   "outputs": [
    {
     "data": {
      "text/plain": [
       "54697"
      ]
     },
     "execution_count": 3,
     "metadata": {},
     "output_type": "execute_result"
    }
   ],
   "source": [
    "calibration_numbers = [get_calibration_number(x) for x in input]\n",
    "sum(calibration_numbers)"
   ]
  },
  {
   "cell_type": "markdown",
   "metadata": {},
   "source": [
    "## Part 2"
   ]
  },
  {
   "cell_type": "code",
   "execution_count": 4,
   "metadata": {},
   "outputs": [
    {
     "data": {
      "text/plain": [
       "{'0': '0',\n",
       " '1': '1',\n",
       " '2': '2',\n",
       " '3': '3',\n",
       " '4': '4',\n",
       " '5': '5',\n",
       " '6': '6',\n",
       " '7': '7',\n",
       " '8': '8',\n",
       " '9': '9',\n",
       " 'one': '1',\n",
       " 'two': '2',\n",
       " 'three': '3',\n",
       " 'four': '4',\n",
       " 'five': '5',\n",
       " 'six': '6',\n",
       " 'seven': '7',\n",
       " 'eight': '8',\n",
       " 'nine': '9'}"
      ]
     },
     "execution_count": 4,
     "metadata": {},
     "output_type": "execute_result"
    }
   ],
   "source": [
    "str_to_digit = {\n",
    "    **{str(x): str(x) for x in range(10)},\n",
    "    \"one\": \"1\",\n",
    "    \"two\": \"2\",\n",
    "    \"three\": \"3\",\n",
    "    \"four\": \"4\",\n",
    "    \"five\": \"5\",\n",
    "    \"six\": \"6\",\n",
    "    \"seven\": \"7\",\n",
    "    \"eight\": \"8\",\n",
    "    \"nine\": \"9\",\n",
    "}\n",
    "valid_digits = list(str_to_digit.keys())\n",
    "str_to_digit"
   ]
  },
  {
   "cell_type": "code",
   "execution_count": 5,
   "metadata": {},
   "outputs": [],
   "source": [
    "def find_word(input_line, word, reversed=False):\n",
    "    if reversed:\n",
    "        input_line = input_line[::-1]\n",
    "        word = word[::-1]\n",
    "        index = input_line.find(word)\n",
    "        if index != -1:\n",
    "            index = len(input_line) - index - len(word)\n",
    "    else:\n",
    "        index = input_line.find(word)\n",
    "    if index == -1:\n",
    "        return np.nan\n",
    "    else:\n",
    "        return index\n",
    "\n",
    "def find_first_occurrence(input_line, word):\n",
    "    return find_word(input_line, word, False)\n",
    "\n",
    "def find_last_occurrence(input_line, word):\n",
    "    return find_word(input_line, word, True)"
   ]
  },
  {
   "cell_type": "code",
   "execution_count": 6,
   "metadata": {},
   "outputs": [],
   "source": [
    "import numpy as np\n",
    "\n",
    "def get_calibration_number_part_two(input_line):\n",
    "    first_occurences = [find_first_occurrence(input_line, x) for x in valid_digits]\n",
    "    first_occurence_index = np.nanargmin(first_occurences)\n",
    "    first_digit = str_to_digit[valid_digits[first_occurence_index]]\n",
    "    \n",
    "    last_occurences = [find_last_occurrence(input_line, x) for x in valid_digits]\n",
    "    last_occurence_index = np.nanargmax(last_occurences)\n",
    "    last_digit = str_to_digit[valid_digits[last_occurence_index]]\n",
    "    return int(first_digit + last_digit)\n"
   ]
  },
  {
   "cell_type": "code",
   "execution_count": 7,
   "metadata": {},
   "outputs": [
    {
     "data": {
      "text/plain": [
       "54885"
      ]
     },
     "execution_count": 7,
     "metadata": {},
     "output_type": "execute_result"
    }
   ],
   "source": [
    "calibration_numbers_part_two = [get_calibration_number_part_two(x) for x in input]\n",
    "sum(calibration_numbers_part_two)"
   ]
  },
  {
   "cell_type": "markdown",
   "metadata": {},
   "source": [
    "## Part two regex"
   ]
  },
  {
   "cell_type": "code",
   "execution_count": 8,
   "metadata": {},
   "outputs": [],
   "source": [
    "import re\n",
    "\n",
    "digit_regex = \"|\".join(str_to_digit.keys())\n",
    "\n",
    "def get_calibration_number_part_two_better(input_line):\n",
    "    occurences = re.findall(digit_regex, input_line)\n",
    "    first_digit = str_to_digit[occurences[0]]\n",
    "    last_digit = str_to_digit[occurences[-1]]\n",
    "    return int(first_digit + last_digit)"
   ]
  },
  {
   "cell_type": "code",
   "execution_count": 9,
   "metadata": {},
   "outputs": [
    {
     "data": {
      "text/plain": [
       "54885"
      ]
     },
     "execution_count": 9,
     "metadata": {},
     "output_type": "execute_result"
    }
   ],
   "source": [
    "calibration_numbers_part_two = [get_calibration_number_part_two(x) for x in input]\n",
    "sum(calibration_numbers_part_two)"
   ]
  }
 ],
 "metadata": {
  "kernelspec": {
   "display_name": "env",
   "language": "python",
   "name": "python3"
  },
  "language_info": {
   "codemirror_mode": {
    "name": "ipython",
    "version": 3
   },
   "file_extension": ".py",
   "mimetype": "text/x-python",
   "name": "python",
   "nbconvert_exporter": "python",
   "pygments_lexer": "ipython3",
   "version": "3.10.13"
  }
 },
 "nbformat": 4,
 "nbformat_minor": 2
}
