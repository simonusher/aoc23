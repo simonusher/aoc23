{
 "cells": [
  {
   "cell_type": "code",
   "execution_count": null,
   "metadata": {},
   "outputs": [],
   "source": [
    "with open(\"5/input.txt\") as f:\n",
    "    data = f.read()\n",
    "data"
   ]
  },
  {
   "cell_type": "code",
   "execution_count": null,
   "metadata": {},
   "outputs": [],
   "source": [
    "categories = data.split(\"\\n\\n\")\n",
    "categories"
   ]
  },
  {
   "cell_type": "code",
   "execution_count": null,
   "metadata": {},
   "outputs": [],
   "source": [
    "seeds = list(map(lambda seed_str: int(seed_str.strip()), categories[0].replace(\"seeds: \", \"\").split(\" \")))\n",
    "seeds"
   ]
  },
  {
   "cell_type": "code",
   "execution_count": null,
   "metadata": {},
   "outputs": [],
   "source": [
    "category_maps = {}\n",
    "\n",
    "for category in categories[1:]:\n",
    "    category_map_name, mappings_str = category.split(\" map:\\n\", maxsplit=1)\n",
    "    from_category, to_category = category_map_name.split(\"-to-\")\n",
    "    mapping_lines = mappings_str.strip().split(\"\\n\")\n",
    "    from_to_category = []\n",
    "    for line in mapping_lines:\n",
    "        destination_range_start, source_range_start, range_length = map(int, line.split())\n",
    "        source_range_end_inclusive = source_range_start + range_length - 1\n",
    "        from_to_category.append((source_range_start, source_range_end_inclusive, destination_range_start))\n",
    "    from_to_category = sorted(from_to_category, key=lambda x: x[0])\n",
    "    category_maps[from_category] = (to_category, from_to_category)\n",
    "category_maps"
   ]
  },
  {
   "cell_type": "code",
   "execution_count": null,
   "metadata": {},
   "outputs": [],
   "source": [
    "def find_matching_range_linear(value: int, from_to_map: list[tuple[int, int, int]]) -> tuple[int | None, tuple[int | None, int | None], int]:\n",
    "    for i, (source_range_start, source_range_end_inclusive, destination_range_start) in enumerate(from_to_map):\n",
    "        if source_range_start <= value <= source_range_end_inclusive:\n",
    "            diff_from_source_start = value - source_range_start\n",
    "            # return destination_range_start + diff_from_source_start\n",
    "            return i, (source_range_start, source_range_end_inclusive), (destination_range_start + diff_from_source_start)\n",
    "    return value\n",
    "\n",
    "def find_matching_range_binary(value: int, from_to_map: list[tuple[int, int, int]]) -> tuple[int | None, tuple[int, int] | None, int]:\n",
    "    start_index, end_index = 0, len(from_to_map)\n",
    "\n",
    "    while start_index < end_index:\n",
    "        mid_index = (end_index + start_index) // 2\n",
    "        source_range_start, source_range_end_inclusive, destination_range_start = from_to_map[mid_index]\n",
    "\n",
    "        # print(mid_index)\n",
    "        # print(source_range_start, source_range_end_inclusive)\n",
    "        if source_range_start <= value <= source_range_end_inclusive:\n",
    "            diff_from_source_start = value - source_range_start\n",
    "            # print(\"found range\")\n",
    "            # return destination_range_start + diff_from_source_start\n",
    "            return mid_index, (source_range_start, source_range_end_inclusive), (destination_range_start + diff_from_source_start)\n",
    "        \n",
    "        elif value > source_range_end_inclusive:\n",
    "            start_index = mid_index + 1\n",
    "\n",
    "        else:\n",
    "            end_index = mid_index\n",
    "    return None, (None, None), value\n",
    "\n",
    "\n",
    "def map_from_to_category(value: int, from_to_map: list[tuple[int, int, int]]):\n",
    "    *_, mapped_value = find_matching_range_binary(value, from_to_map)\n",
    "    return mapped_value"
   ]
  },
  {
   "cell_type": "code",
   "execution_count": null,
   "metadata": {},
   "outputs": [],
   "source": [
    "def map_seeds_all_categories(start_values: list[int], category_maps: dict[str, tuple[str, list[tuple[int, int, int]]]]) -> list[int]:\n",
    "    start_category = \"seed\"\n",
    "    mapped_values = start_values\n",
    "    \n",
    "    while start_category in category_maps:\n",
    "        start_category, category_map = category_maps[start_category]\n",
    "        mapped_values = [map_from_to_category(value, category_map) for value in mapped_values]\n",
    "    \n",
    "    return mapped_values\n"
   ]
  },
  {
   "cell_type": "code",
   "execution_count": null,
   "metadata": {},
   "outputs": [],
   "source": [
    "locations = map_seeds_all_categories(seeds, category_maps)\n",
    "locations"
   ]
  },
  {
   "cell_type": "code",
   "execution_count": null,
   "metadata": {},
   "outputs": [],
   "source": [
    "min(locations)"
   ]
  },
  {
   "cell_type": "markdown",
   "metadata": {},
   "source": [
    "## Part 2"
   ]
  },
  {
   "cell_type": "code",
   "execution_count": null,
   "metadata": {},
   "outputs": [],
   "source": [
    "def map_seed_all_categories(value: int, category_maps: dict[str, tuple[str, list[tuple[int, int, int]]]]) -> list[int]:\n",
    "    start_category = \"seed\"\n",
    "    mapped_value = value\n",
    "    \n",
    "    while start_category in category_maps:\n",
    "        start_category, category_map = category_maps[start_category]\n",
    "        mapped_value = map_from_to_category(value, category_map)\n",
    "    \n",
    "    return mapped_value"
   ]
  },
  {
   "cell_type": "code",
   "execution_count": null,
   "metadata": {},
   "outputs": [],
   "source": [
    "seeds"
   ]
  },
  {
   "cell_type": "code",
   "execution_count": null,
   "metadata": {},
   "outputs": [],
   "source": [
    "list(zip(seeds[::2], seeds[1::2]))"
   ]
  },
  {
   "cell_type": "code",
   "execution_count": null,
   "metadata": {},
   "outputs": [],
   "source": [
    "from functools import reduce\n",
    "\n",
    "def seed_nums(seed_ranges):\n",
    "    for seed, num_seeds in seed_ranges:\n",
    "        for seed_number in range(seed, seed + num_seeds):\n",
    "            yield seed_number\n",
    "\n",
    "def location_nums(seeds):\n",
    "    for seed in seeds:\n",
    "        yield map_seed_all_categories(seed, category_maps)\n",
    "\n",
    "seed_ranges = list(zip(seeds[::2], seeds[1::2]))\n",
    "all_seeds = seed_nums(seed_ranges)\n",
    "all_location_nums = location_nums(all_seeds)\n",
    "all_location_nums"
   ]
  },
  {
   "cell_type": "code",
   "execution_count": null,
   "metadata": {},
   "outputs": [],
   "source": [
    "min_location = reduce(min, location_nums(seed_nums(seed_ranges[0:1])))\n",
    "min_location"
   ]
  },
  {
   "cell_type": "code",
   "execution_count": null,
   "metadata": {},
   "outputs": [],
   "source": [
    "seed_start, seed_num = seed_ranges[0]\n",
    "seed_end = seed_start + seed_num\n",
    "seed_start"
   ]
  },
  {
   "cell_type": "code",
   "execution_count": null,
   "metadata": {},
   "outputs": [],
   "source": []
  }
 ],
 "metadata": {
  "kernelspec": {
   "display_name": "env",
   "language": "python",
   "name": "python3"
  },
  "language_info": {
   "codemirror_mode": {
    "name": "ipython",
    "version": 3
   },
   "file_extension": ".py",
   "mimetype": "text/x-python",
   "name": "python",
   "nbconvert_exporter": "python",
   "pygments_lexer": "ipython3",
   "version": "3.10.13"
  }
 },
 "nbformat": 4,
 "nbformat_minor": 2
}
