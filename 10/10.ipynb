{
 "cells": [
  {
   "cell_type": "code",
   "execution_count": 215,
   "metadata": {},
   "outputs": [],
   "source": [
    "FILE = \"example1.txt\""
   ]
  },
  {
   "cell_type": "code",
   "execution_count": 216,
   "metadata": {},
   "outputs": [],
   "source": [
    "from collections import namedtuple\n",
    "from typing import Literal, get_args, cast\n",
    "from dataclasses import dataclass, field\n",
    "\n",
    "\n",
    "Symbol = Literal[\"|\", \"-\", \"L\", \"J\", \"7\", \"F\", \".\", \"S\", \"X\"]\n",
    "\n",
    "class Point(namedtuple(\"Point\", [\"y\", \"x\"])):\n",
    "    def __add__(self, other):\n",
    "        return Point(self.y + other.y, self.x + other.x)\n",
    "    \n",
    "    def __sub__(self, other):\n",
    "        return Point(self.y - other.y, self.x - other.x)\n",
    "        \n",
    "\n",
    "\n",
    "ADJACENT_COORDINATES = [\n",
    "    Point(-1,  0),\n",
    "    Point( 1,  0),\n",
    "    Point( 0, -1),\n",
    "    Point( 0,  1)\n",
    "]\n",
    "\n",
    "CONNECTS_TO: dict[Symbol, tuple[Point, Point] | tuple] = {\n",
    "    \"|\": (Point(-1,  0), Point(1,  0)),\n",
    "    \"-\": (Point( 0, -1), Point(0,  1)),\n",
    "    \"L\": (Point(-1,  0), Point(0,  1)),\n",
    "    \"J\": (Point(-1,  0), Point(0, -1)),\n",
    "    \"7\": (Point( 1,  0), Point(0, -1)),\n",
    "    \"F\": (Point( 1,  0), Point(0,  1)),\n",
    "    \".\": ()\n",
    "}\n",
    "\n",
    "CONNECTED_TO_SYMBOL = {\n",
    "    tuple(sorted(connected)): symbol\n",
    "    for symbol, connected in CONNECTS_TO.items()\n",
    "}\n",
    "\n",
    "STARTING_CHAR = \"S\"\n",
    "\n",
    "@dataclass(eq=True, frozen=True)\n",
    "class MapTile:\n",
    "    symbol: Symbol = field(hash=True)\n",
    "    point: Point = field(hash=True)\n",
    "    is_loop: bool = field(default=False, hash=False)\n",
    "    is_added: bool = field(default=False, hash=False)\n",
    "\n",
    "    def set_loop(self, is_loop: bool):\n",
    "        return MapTile(self.symbol, self.point, is_loop)\n",
    "    \n",
    "    def __eq__(self, __value: object) -> bool:\n",
    "        if isinstance(__value, MapTile):\n",
    "            return self.symbol == __value.symbol and self.point == __value.point\n",
    "        return False\n",
    "    \n",
    "    def __str__(self) -> str:\n",
    "        return str(self.symbol)\n",
    "\n",
    "    def __repr__(self) -> str:\n",
    "        return f\"MapTile({self.symbol} @ (y={self.point.y}, x={self.point.x}))\"\n",
    "\n",
    "\n",
    "class Map(list[list[MapTile]]):\n",
    "    def __init__(self, iterable):\n",
    "        self.min_y = 0\n",
    "        self.max_y = len(iterable) - 1\n",
    "        self.min_x = 0\n",
    "        self.max_x = len(iterable[0]) - 1\n",
    "        super().__init__(iterable)\n",
    "    \n",
    "    def all_tiles(self):\n",
    "        for row in self:\n",
    "            for tile in row:\n",
    "                yield tile\n",
    "\n",
    "    def __getitem__(self, index):\n",
    "        if isinstance(index, Point):\n",
    "            y, x = index\n",
    "            return self[y][x]\n",
    "        return super().__getitem__(index)\n",
    "    \n",
    "    def __setitem__(self, index, value):\n",
    "        print(index, value)\n",
    "        if isinstance(index, Point):\n",
    "            y, x = index\n",
    "            row = self[y]\n",
    "            row[x] = value\n",
    "            return\n",
    "        super().__setitem__(index, value)\n",
    "    \n",
    "    def point_valid(self, point: Point) -> bool:\n",
    "        return (self.min_y <= point.y <= self.max_y) and (self.min_x <= point.x <= self.max_x)\n",
    "    \n",
    "    def get_adjacent(self, tile: MapTile) -> list[MapTile]:\n",
    "        point = tile.point\n",
    "        adjacent = [point + adj for adj in ADJACENT_COORDINATES]\n",
    "        adjacent = [point for point in adjacent if self.point_valid(point)]\n",
    "        adjacent_tiles = [self[point] for point in adjacent]\n",
    "        return adjacent_tiles\n",
    "    \n",
    "    def possibly_connected(self, tile: MapTile) -> set[MapTile]:\n",
    "        point = tile.point\n",
    "        connected_coords = [point + coords for coords in CONNECTS_TO[tile.symbol]] # type: ignore\n",
    "        connected_coords = [point for point in connected_coords if self.point_valid(point)]\n",
    "        return set(self[point] for point in connected_coords)\n",
    "        \n",
    "    def get_connected(self, tile: MapTile) -> list[MapTile]:\n",
    "        connected = []\n",
    "        tile_connects_to = self.possibly_connected(tile)\n",
    "        for other_tile in tile_connects_to:\n",
    "            other_connected_to = self.possibly_connected(other_tile)\n",
    "            if tile in other_connected_to:\n",
    "                connected.append(other_tile)\n",
    "        return connected\n",
    "    \n",
    "    def connected(self, tile1: MapTile, tile2: MapTile) -> bool:\n",
    "        tile1_connects_to = self.possibly_connected(tile1)\n",
    "        if tile2 in tile1_connects_to:\n",
    "            tile2_connects_to = self.possibly_connected(tile2)\n",
    "            return tile1 in tile2_connects_to\n",
    "        return False"
   ]
  },
  {
   "cell_type": "code",
   "execution_count": 217,
   "metadata": {},
   "outputs": [],
   "source": [
    "def ensure_is_symbol(char: str) -> Symbol:\n",
    "    possible_values = get_args(Symbol)\n",
    "    if char in possible_values:\n",
    "        return cast(Symbol, char)\n",
    "    raise ValueError(f\"Wrong character: {char}. Should be one of {possible_values}\")\n",
    "\n",
    "def parse_map(data: str) -> Map:\n",
    "    return Map(\n",
    "        [\n",
    "            [\n",
    "                MapTile(ensure_is_symbol(char), Point(y, x)) for x, char in enumerate(list(row))\n",
    "            ]\n",
    "            for y, row in enumerate(data.splitlines())\n",
    "        ]\n",
    "    )\n",
    "\n",
    "def print_map(map: Map):\n",
    "    for row in map:\n",
    "        print(\"[\", *row, \"]\")"
   ]
  },
  {
   "cell_type": "code",
   "execution_count": 218,
   "metadata": {},
   "outputs": [],
   "source": [
    "with open(f\"10/{FILE}\") as f:\n",
    "    data = f.read()\n",
    "map = parse_map(data)"
   ]
  },
  {
   "cell_type": "code",
   "execution_count": 219,
   "metadata": {},
   "outputs": [
    {
     "name": "stdout",
     "output_type": "stream",
     "text": [
      "[ . . . . . ]\n",
      "[ . S - 7 . ]\n",
      "[ . | . | . ]\n",
      "[ . L - J . ]\n",
      "[ . . . . . ]\n"
     ]
    }
   ],
   "source": [
    "print_map(map)"
   ]
  },
  {
   "cell_type": "markdown",
   "metadata": {},
   "source": [
    "## Coordinates\n",
    "Coordinates are assumed to be (y, x) with (0, 0) in the bottom left, y increasing down, and x increasing right."
   ]
  },
  {
   "cell_type": "code",
   "execution_count": 220,
   "metadata": {},
   "outputs": [],
   "source": [
    "def find_starting_point(map: Map) -> MapTile:\n",
    "    for tile in map.all_tiles():\n",
    "        if tile.symbol == STARTING_CHAR:\n",
    "            return tile\n",
    "    raise ValueError(f\"Incorrect map, no starting char: {STARTING_CHAR}\")"
   ]
  },
  {
   "cell_type": "code",
   "execution_count": 224,
   "metadata": {},
   "outputs": [
    {
     "ename": "ValueError",
     "evalue": "Incorrect map, no starting char: S",
     "output_type": "error",
     "traceback": [
      "\u001b[0;31m---------------------------------------------------------------------------\u001b[0m",
      "\u001b[0;31mValueError\u001b[0m                                Traceback (most recent call last)",
      "Cell \u001b[0;32mIn[224], line 13\u001b[0m\n\u001b[1;32m     10\u001b[0m     start_type \u001b[38;5;241m=\u001b[39m CONNECTED_TO_SYMBOL[\u001b[38;5;28mtuple\u001b[39m(\u001b[38;5;28msorted\u001b[39m(coord_diffs))]\n\u001b[1;32m     11\u001b[0m     \u001b[38;5;28;01mreturn\u001b[39;00m MapTile(start_type, starting_tile\u001b[38;5;241m.\u001b[39mpoint, starting_tile\u001b[38;5;241m.\u001b[39mis_loop, starting_tile\u001b[38;5;241m.\u001b[39mis_added)\n\u001b[0;32m---> 13\u001b[0m starting_tile_replacement \u001b[38;5;241m=\u001b[39m \u001b[43mstarting_tile_type\u001b[49m\u001b[43m(\u001b[49m\u001b[38;5;28;43mmap\u001b[39;49m\u001b[43m)\u001b[49m\n\u001b[1;32m     14\u001b[0m \u001b[38;5;28mmap\u001b[39m[starting_tile_replacement\u001b[38;5;241m.\u001b[39mpoint] \u001b[38;5;241m=\u001b[39m starting_tile_replacement\n",
      "Cell \u001b[0;32mIn[224], line 2\u001b[0m, in \u001b[0;36mstarting_tile_type\u001b[0;34m(map)\u001b[0m\n\u001b[1;32m      1\u001b[0m \u001b[38;5;28;01mdef\u001b[39;00m \u001b[38;5;21mstarting_tile_type\u001b[39m(\u001b[38;5;28mmap\u001b[39m: Map):\n\u001b[0;32m----> 2\u001b[0m     starting_tile \u001b[38;5;241m=\u001b[39m \u001b[43mfind_starting_point\u001b[49m\u001b[43m(\u001b[49m\u001b[38;5;28;43mmap\u001b[39;49m\u001b[43m)\u001b[49m\n\u001b[1;32m      3\u001b[0m     adjacent_to_start \u001b[38;5;241m=\u001b[39m \u001b[38;5;28mmap\u001b[39m\u001b[38;5;241m.\u001b[39mget_adjacent(starting_tile)\n\u001b[1;32m      4\u001b[0m     connected_to_start: \u001b[38;5;28mlist\u001b[39m[MapTile] \u001b[38;5;241m=\u001b[39m []\n",
      "Cell \u001b[0;32mIn[220], line 5\u001b[0m, in \u001b[0;36mfind_starting_point\u001b[0;34m(map)\u001b[0m\n\u001b[1;32m      3\u001b[0m     \u001b[38;5;28;01mif\u001b[39;00m tile\u001b[38;5;241m.\u001b[39msymbol \u001b[38;5;241m==\u001b[39m STARTING_CHAR:\n\u001b[1;32m      4\u001b[0m         \u001b[38;5;28;01mreturn\u001b[39;00m tile\n\u001b[0;32m----> 5\u001b[0m \u001b[38;5;28;01mraise\u001b[39;00m \u001b[38;5;167;01mValueError\u001b[39;00m(\u001b[38;5;124mf\u001b[39m\u001b[38;5;124m\"\u001b[39m\u001b[38;5;124mIncorrect map, no starting char: \u001b[39m\u001b[38;5;132;01m{\u001b[39;00mSTARTING_CHAR\u001b[38;5;132;01m}\u001b[39;00m\u001b[38;5;124m\"\u001b[39m)\n",
      "\u001b[0;31mValueError\u001b[0m: Incorrect map, no starting char: S"
     ]
    }
   ],
   "source": [
    "def starting_tile_type(map: Map):\n",
    "    starting_tile = find_starting_point(map)\n",
    "    adjacent_to_start = map.get_adjacent(starting_tile)\n",
    "    connected_to_start: list[MapTile] = []\n",
    "    for tile in adjacent_to_start:\n",
    "        possibly_connected = map.possibly_connected(tile)\n",
    "        if starting_tile in possibly_connected:\n",
    "            connected_to_start.append(tile)\n",
    "    coord_diffs = [tile.point - starting_tile.point for tile in connected_to_start]\n",
    "    start_type = CONNECTED_TO_SYMBOL[tuple(sorted(coord_diffs))]\n",
    "    return MapTile(start_type, starting_tile.point, starting_tile.is_loop, starting_tile.is_added)\n",
    "\n",
    "starting_tile_replacement = starting_tile_type(map)\n",
    "map[starting_tile_replacement.point] = starting_tile_replacement"
   ]
  },
  {
   "cell_type": "code",
   "execution_count": null,
   "metadata": {},
   "outputs": [],
   "source": [
    "starting_tile = starting_tile_replacement\n",
    "connected_to_start = map.get_connected(starting_tile)"
   ]
  },
  {
   "cell_type": "code",
   "execution_count": 222,
   "metadata": {},
   "outputs": [],
   "source": [
    "# starting_tile = find_starting_point(map)\n",
    "# adjacent_to_start = map.get_adjacent(starting_tile)\n",
    "# connected_to_start: list[MapTile] = []\n",
    "# for tile in adjacent_to_start:\n",
    "#     possibly_connected = map.possibly_connected(tile)\n",
    "#     if starting_tile in possibly_connected:\n",
    "#         connected_to_start.append(tile)\n",
    "# connected_to_start"
   ]
  },
  {
   "cell_type": "code",
   "execution_count": 223,
   "metadata": {},
   "outputs": [
    {
     "name": "stdout",
     "output_type": "stream",
     "text": [
      "Point(y=2, x=1) |\n"
     ]
    },
    {
     "ename": "TypeError",
     "evalue": "list indices must be integers or slices, not Point",
     "output_type": "error",
     "traceback": [
      "\u001b[0;31m---------------------------------------------------------------------------\u001b[0m",
      "\u001b[0;31mTypeError\u001b[0m                                 Traceback (most recent call last)",
      "Cell \u001b[0;32mIn[223], line 8\u001b[0m\n\u001b[1;32m      6\u001b[0m \u001b[38;5;28;01mif\u001b[39;00m tile \u001b[38;5;129;01mnot\u001b[39;00m \u001b[38;5;129;01min\u001b[39;00m visited:\n\u001b[1;32m      7\u001b[0m     visited[tile] \u001b[38;5;241m=\u001b[39m distance\n\u001b[0;32m----> 8\u001b[0m     \u001b[38;5;28;43mmap\u001b[39;49m\u001b[43m[\u001b[49m\u001b[43mtile\u001b[49m\u001b[38;5;241;43m.\u001b[39;49m\u001b[43mpoint\u001b[49m\u001b[43m]\u001b[49m \u001b[38;5;241m=\u001b[39m tile\u001b[38;5;241m.\u001b[39mset_loop(\u001b[38;5;28;01mTrue\u001b[39;00m)\n\u001b[1;32m      9\u001b[0m     connected \u001b[38;5;241m=\u001b[39m \u001b[38;5;28mmap\u001b[39m\u001b[38;5;241m.\u001b[39mget_connected(tile)\n\u001b[1;32m     10\u001b[0m     \u001b[38;5;28;01mfor\u001b[39;00m connected_tile \u001b[38;5;129;01min\u001b[39;00m connected:\n",
      "Cell \u001b[0;32mIn[216], line 89\u001b[0m, in \u001b[0;36mMap.__setitem__\u001b[0;34m(self, index, value)\u001b[0m\n\u001b[1;32m     87\u001b[0m     row[x] \u001b[38;5;241m=\u001b[39m value\n\u001b[1;32m     88\u001b[0m     \u001b[38;5;28;01mreturn\u001b[39;00m\n\u001b[0;32m---> 89\u001b[0m \u001b[38;5;28;43msuper\u001b[39;49m\u001b[43m(\u001b[49m\u001b[43m)\u001b[49m\u001b[38;5;241;43m.\u001b[39;49m\u001b[38;5;21;43m__setitem__\u001b[39;49m\u001b[43m(\u001b[49m\u001b[43mindex\u001b[49m\u001b[43m,\u001b[49m\u001b[43m \u001b[49m\u001b[43mvalue\u001b[49m\u001b[43m)\u001b[49m\n",
      "\u001b[0;31mTypeError\u001b[0m: list indices must be integers or slices, not Point"
     ]
    }
   ],
   "source": [
    "visited = {starting_tile: 0}\n",
    "to_visit = [(1, connected) for connected in connected_to_start]\n",
    "\n",
    "while len(to_visit) != 0:\n",
    "    (distance, tile), *to_visit = to_visit\n",
    "    if tile not in visited:\n",
    "        visited[tile] = distance\n",
    "        map[tile.point] = tile.set_loop(True)\n",
    "        connected = map.get_connected(tile)\n",
    "        for connected_tile in connected:\n",
    "            if connected_tile not in visited:\n",
    "                to_visit.append((distance+1, connected_tile))"
   ]
  },
  {
   "cell_type": "code",
   "execution_count": null,
   "metadata": {},
   "outputs": [],
   "source": [
    "def print_visited(map: Map, visited: dict[MapTile, int]):\n",
    "    for row in map:\n",
    "        vis = []\n",
    "        for tile in row:\n",
    "            if tile in visited:\n",
    "                vis.append(visited[tile])\n",
    "            else:\n",
    "                vis.append(\".\")\n",
    "        print(\"[\", *vis, \"]\")"
   ]
  },
  {
   "cell_type": "code",
   "execution_count": null,
   "metadata": {},
   "outputs": [
    {
     "data": {
      "text/plain": [
       "{MapTile(S @ (y=1, x=1)): 0,\n",
       " MapTile(| @ (y=2, x=1)): 1,\n",
       " MapTile(- @ (y=1, x=2)): 1,\n",
       " MapTile(L @ (y=3, x=1)): 2,\n",
       " MapTile(7 @ (y=1, x=3)): 2,\n",
       " MapTile(- @ (y=3, x=2)): 3,\n",
       " MapTile(| @ (y=2, x=3)): 3,\n",
       " MapTile(J @ (y=3, x=3)): 4}"
      ]
     },
     "execution_count": 102,
     "metadata": {},
     "output_type": "execute_result"
    }
   ],
   "source": [
    "visited"
   ]
  },
  {
   "cell_type": "code",
   "execution_count": null,
   "metadata": {},
   "outputs": [
    {
     "name": "stdout",
     "output_type": "stream",
     "text": [
      "[ . . . . . ]\n",
      "[ . 0 1 2 . ]\n",
      "[ . 1 . 3 . ]\n",
      "[ . 2 3 4 . ]\n",
      "[ . . . . . ]\n"
     ]
    }
   ],
   "source": [
    "print_visited(map, visited)"
   ]
  },
  {
   "cell_type": "code",
   "execution_count": null,
   "metadata": {},
   "outputs": [
    {
     "data": {
      "text/plain": [
       "4"
      ]
     },
     "execution_count": 104,
     "metadata": {},
     "output_type": "execute_result"
    }
   ],
   "source": [
    "max(visited.values())"
   ]
  },
  {
   "cell_type": "code",
   "execution_count": null,
   "metadata": {},
   "outputs": [
    {
     "data": {
      "text/plain": [
       "[MapTile(. @ (y=0, x=1)),\n",
       " MapTile(| @ (y=2, x=1)),\n",
       " MapTile(. @ (y=1, x=0)),\n",
       " MapTile(- @ (y=1, x=2))]"
      ]
     },
     "execution_count": 107,
     "metadata": {},
     "output_type": "execute_result"
    }
   ],
   "source": [
    "adjacent = map.get_adjacent(starting_tile)\n",
    "adjacent"
   ]
  },
  {
   "cell_type": "code",
   "execution_count": null,
   "metadata": {},
   "outputs": [
    {
     "data": {
      "text/plain": [
       "True"
      ]
     },
     "execution_count": 112,
     "metadata": {},
     "output_type": "execute_result"
    }
   ],
   "source": [
    "map.connected(map[2][1], map[3][1])"
   ]
  },
  {
   "cell_type": "code",
   "execution_count": null,
   "metadata": {},
   "outputs": [
    {
     "ename": "SyntaxError",
     "evalue": "incomplete input (846396297.py, line 7)",
     "output_type": "error",
     "traceback": [
      "\u001b[0;36m  Cell \u001b[0;32mIn[105], line 7\u001b[0;36m\u001b[0m\n\u001b[0;31m    \u001b[0m\n\u001b[0m    ^\u001b[0m\n\u001b[0;31mSyntaxError\u001b[0m\u001b[0;31m:\u001b[0m incomplete input\n"
     ]
    }
   ],
   "source": [
    "from itertools import pairwise\n",
    "\n",
    "def expand_map(map: Map):\n",
    "    new_rows = []\n",
    "    for row in map:\n",
    "        for tile1, tile2 in pairwise(row):\n",
    "            "
   ]
  },
  {
   "cell_type": "code",
   "execution_count": null,
   "metadata": {},
   "outputs": [
    {
     "ename": "TypeError",
     "evalue": "unsupported operand type(s) for -: 'Point' and 'Point'",
     "output_type": "error",
     "traceback": [
      "\u001b[0;31m---------------------------------------------------------------------------\u001b[0m",
      "\u001b[0;31mTypeError\u001b[0m                                 Traceback (most recent call last)",
      "Cell \u001b[0;32mIn[114], line 1\u001b[0m\n\u001b[0;32m----> 1\u001b[0m \u001b[43mPoint\u001b[49m\u001b[43m(\u001b[49m\u001b[38;5;241;43m-\u001b[39;49m\u001b[38;5;241;43m1\u001b[39;49m\u001b[43m,\u001b[49m\u001b[43m  \u001b[49m\u001b[38;5;241;43m0\u001b[39;49m\u001b[43m)\u001b[49m\u001b[43m \u001b[49m\u001b[38;5;241;43m-\u001b[39;49m\u001b[43m \u001b[49m\u001b[43mPoint\u001b[49m\u001b[43m(\u001b[49m\u001b[43m \u001b[49m\u001b[38;5;241;43m1\u001b[39;49m\u001b[43m,\u001b[49m\u001b[43m  \u001b[49m\u001b[38;5;241;43m0\u001b[39;49m\u001b[43m)\u001b[49m,\n",
      "\u001b[0;31mTypeError\u001b[0m: unsupported operand type(s) for -: 'Point' and 'Point'"
     ]
    }
   ],
   "source": [
    "\n",
    "Point(-1,  0) - Point( 1,  0),"
   ]
  },
  {
   "cell_type": "code",
   "execution_count": null,
   "metadata": {},
   "outputs": [],
   "source": []
  }
 ],
 "metadata": {
  "kernelspec": {
   "display_name": "env",
   "language": "python",
   "name": "python3"
  },
  "language_info": {
   "codemirror_mode": {
    "name": "ipython",
    "version": 3
   },
   "file_extension": ".py",
   "mimetype": "text/x-python",
   "name": "python",
   "nbconvert_exporter": "python",
   "pygments_lexer": "ipython3",
   "version": "3.10.13"
  }
 },
 "nbformat": 4,
 "nbformat_minor": 2
}
