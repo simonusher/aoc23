{
 "cells": [
  {
   "cell_type": "code",
   "execution_count": null,
   "metadata": {},
   "outputs": [],
   "source": [
    "with open(\"2/input.txt\", \"r\") as f:\n",
    "    data = f.read().splitlines()\n",
    "data"
   ]
  },
  {
   "cell_type": "code",
   "execution_count": null,
   "metadata": {},
   "outputs": [],
   "source": [
    "AVAILABLE_CUBES = {\n",
    "    \"red\": 12,\n",
    "    \"green\": 13,\n",
    "    \"blue\": 14\n",
    "}"
   ]
  },
  {
   "cell_type": "code",
   "execution_count": null,
   "metadata": {},
   "outputs": [],
   "source": [
    "def config_possible(config: dict[str, int]):\n",
    "    return all(AVAILABLE_CUBES[color] >= number for color, number in config.items())\n",
    "\n",
    "def game_possible(configs: list[dict[str, int]]) -> bool:\n",
    "    return all(config_possible(config) for config in configs)"
   ]
  },
  {
   "cell_type": "code",
   "execution_count": null,
   "metadata": {},
   "outputs": [],
   "source": [
    "def parse_config(config_part: str) -> dict[str, int]:\n",
    "    colors = config_part.split(\", \")\n",
    "    colors_split = [color.split() for color in colors]\n",
    "    config = { color: int(number) for number, color in colors_split }\n",
    "    return config\n",
    "    \n",
    "\n",
    "def parse_game(line: str) -> tuple[int, list[dict[str,int]]]:\n",
    "    game_part, configs_part = line.split(\": \")\n",
    "    game_number = int(game_part.replace(\"Game \", \"\"))\n",
    "    configs = [parse_config(config_str) for config_str in configs_part.split(\"; \")]\n",
    "    return game_number, configs\n"
   ]
  },
  {
   "cell_type": "code",
   "execution_count": null,
   "metadata": {},
   "outputs": [],
   "source": [
    "def sum_games(data):\n",
    "    sum = 0\n",
    "    for line in data:\n",
    "        game_number, configs = parse_game(line)\n",
    "        if game_possible(configs):\n",
    "            sum += game_number\n",
    "    return sum"
   ]
  },
  {
   "cell_type": "code",
   "execution_count": null,
   "metadata": {},
   "outputs": [],
   "source": [
    "sum_games(data)"
   ]
  },
  {
   "cell_type": "markdown",
   "metadata": {},
   "source": [
    "## Part 2"
   ]
  },
  {
   "cell_type": "code",
   "execution_count": null,
   "metadata": {},
   "outputs": [],
   "source": [
    "def minimal_numbers(configs: list[dict[str, int]]) -> dict[str, int]:\n",
    "    max_configs = { color: 0 for color in AVAILABLE_CUBES.keys() }\n",
    "    for d in configs:\n",
    "        for color, number in d.items():\n",
    "            if max_configs[color] < number:\n",
    "                max_configs[color] = number\n",
    "    return max_configs"
   ]
  },
  {
   "cell_type": "code",
   "execution_count": null,
   "metadata": {},
   "outputs": [],
   "source": [
    "from functools import reduce\n",
    "from operator import mul\n",
    "\n",
    "def power(config: dict[str, int]) -> int:\n",
    "    return reduce(mul, config.values(), 1)"
   ]
  },
  {
   "cell_type": "code",
   "execution_count": null,
   "metadata": {},
   "outputs": [],
   "source": [
    "def sum_powers(data):\n",
    "    power_sum = 0\n",
    "    for line in data:\n",
    "        _, configs = parse_game(line)\n",
    "        power_sum += power(minimal_numbers(configs))\n",
    "    return power_sum"
   ]
  },
  {
   "cell_type": "code",
   "execution_count": null,
   "metadata": {},
   "outputs": [],
   "source": [
    "sum_powers(data)"
   ]
  },
  {
   "cell_type": "code",
   "execution_count": null,
   "metadata": {},
   "outputs": [],
   "source": []
  }
 ],
 "metadata": {
  "kernelspec": {
   "display_name": "env",
   "language": "python",
   "name": "python3"
  },
  "language_info": {
   "codemirror_mode": {
    "name": "ipython",
    "version": 3
   },
   "file_extension": ".py",
   "mimetype": "text/x-python",
   "name": "python",
   "nbconvert_exporter": "python",
   "pygments_lexer": "ipython3",
   "version": "3.10.13"
  }
 },
 "nbformat": 4,
 "nbformat_minor": 2
}
