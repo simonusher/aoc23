{
 "cells": [
  {
   "cell_type": "code",
   "execution_count": null,
   "metadata": {},
   "outputs": [],
   "source": [
    "from itertools import pairwise\n",
    "from copy import deepcopy\n",
    "\n",
    "with open(\"9/input.txt\") as f:\n",
    "    data = f.read().splitlines()\n",
    "\n",
    "data = [[int(x) for x in line.split()] for line in data]\n",
    "data"
   ]
  },
  {
   "cell_type": "code",
   "execution_count": null,
   "metadata": {},
   "outputs": [],
   "source": [
    "def get_all_sequences(sequence: list[int]) -> list[list[int]]:\n",
    "    sequences = [sequence]\n",
    "    current_sequence = sequence\n",
    "    while not all(x == 0 for x in current_sequence):\n",
    "        pairs = list(pairwise(current_sequence))\n",
    "        current_sequence = [second - first for (first, second) in pairs]\n",
    "        sequences.append(current_sequence)\n",
    "    return sequences"
   ]
  },
  {
   "cell_type": "code",
   "execution_count": null,
   "metadata": {},
   "outputs": [],
   "source": [
    "def extrapolate(sequences: list[list[int]]):\n",
    "    sequences[-1].append(0)\n",
    "    for sequence_first, sequence_second in pairwise(sequences[::-1]):\n",
    "        sequence_second.append(sequence_second[-1] + sequence_first[-1])\n",
    "    return sequences"
   ]
  },
  {
   "cell_type": "code",
   "execution_count": null,
   "metadata": {},
   "outputs": [],
   "source": [
    "def predict_next_value(sequence: list[int]) -> int:\n",
    "    all_sequences = get_all_sequences(sequence)\n",
    "    extrapolated = extrapolate(all_sequences)\n",
    "    return extrapolated[0][-1]"
   ]
  },
  {
   "cell_type": "code",
   "execution_count": null,
   "metadata": {},
   "outputs": [],
   "source": [
    "predicted_values = [predict_next_value(seq) for seq in deepcopy(data)]\n",
    "sum(predicted_values)"
   ]
  },
  {
   "cell_type": "markdown",
   "metadata": {},
   "source": [
    "## Part 2"
   ]
  },
  {
   "cell_type": "code",
   "execution_count": null,
   "metadata": {},
   "outputs": [],
   "source": [
    "data_reversed = [seq[::-1] for seq in data]\n",
    "predicted_values = [predict_next_value(seq) for seq in data_reversed]\n",
    "sum(predicted_values)"
   ]
  }
 ],
 "metadata": {
  "kernelspec": {
   "display_name": "env",
   "language": "python",
   "name": "python3"
  },
  "language_info": {
   "codemirror_mode": {
    "name": "ipython",
    "version": 3
   },
   "file_extension": ".py",
   "mimetype": "text/x-python",
   "name": "python",
   "nbconvert_exporter": "python",
   "pygments_lexer": "ipython3",
   "version": "3.10.13"
  }
 },
 "nbformat": 4,
 "nbformat_minor": 2
}
