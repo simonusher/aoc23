{
 "cells": [
  {
   "cell_type": "code",
   "execution_count": 71,
   "metadata": {},
   "outputs": [],
   "source": [
    "from collections import namedtuple\n",
    "from enum import Enum\n",
    "\n",
    "import regex as re\n",
    "\n",
    "\n",
    "class State(Enum):\n",
    "    INSIDE = 0\n",
    "    OUTSIDE = 1\n",
    "    def flip(self):\n",
    "        if self == State.INSIDE:\n",
    "            return State.OUTSIDE\n",
    "        else:\n",
    "            return State.INSIDE\n",
    "\n",
    "def sign(x):\n",
    "    if x > 0:\n",
    "        return 1\n",
    "    else:\n",
    "        return -1\n",
    "\n",
    "class Vec(namedtuple(\"Point\", [\"y\", \"x\"])):\n",
    "    def __add__(self, other):\n",
    "        return Vec(self.y + other.y, self.x + other.x)\n",
    "    \n",
    "    def __sub__(self, other):\n",
    "        return Vec(self.y - other.y, self.x - other.x)\n",
    "    \n",
    "    def __mul__(self, other):\n",
    "        match other:\n",
    "            case Vec(y, x):\n",
    "                y_mul, x_mul = y, x\n",
    "            case int() | float() as scalar:\n",
    "                y_mul, x_mul = scalar, scalar\n",
    "            case val:\n",
    "                raise ValueError(f\"Incorrect type of value {val}: {type(val)}\")\n",
    "        return Vec(self.y * y_mul, self.x * x_mul)\n",
    "    \n",
    "    def step(self):\n",
    "        if self.y != 0:\n",
    "            return Vec(sign(self.y), 0)\n",
    "        else:\n",
    "            return Vec(0, sign(self.x))\n",
    "\n",
    "\n",
    "class Direction(Vec, Enum):\n",
    "    UP = Vec(-1, 0)\n",
    "    RIGHT = Vec(0, 1)\n",
    "    DOWN = Vec(1, 0)\n",
    "    LEFT = Vec(0, -1)\n",
    "\n",
    "DIRECTION_LOOKUP = {\n",
    "    \"U\": Direction.UP,\n",
    "    \"R\": Direction.RIGHT,\n",
    "    \"D\": Direction.DOWN,\n",
    "    \"L\": Direction.LEFT\n",
    "}"
   ]
  },
  {
   "cell_type": "code",
   "execution_count": 72,
   "metadata": {},
   "outputs": [],
   "source": [
    "def print_map(map):\n",
    "    for row in map:\n",
    "        print(row)\n",
    "m = {1: \"#\", 0: \".\"}\n",
    "\n",
    "def print_map2(map):\n",
    "    res =  \"\\n\".join([\n",
    "        \"\".join([m[col] for col in row])\n",
    "        for row in map\n",
    "    ])\n",
    "    print(res)"
   ]
  },
  {
   "cell_type": "code",
   "execution_count": 73,
   "metadata": {},
   "outputs": [
    {
     "data": {
      "text/plain": [
       "[(<Direction.RIGHT: Vec(y=0, x=1)>, Vec(y=0, x=6), '#70c710'),\n",
       " (<Direction.DOWN: Vec(y=1, x=0)>, Vec(y=5, x=0), '#0dc571'),\n",
       " (<Direction.LEFT: Vec(y=0, x=-1)>, Vec(y=0, x=-2), '#5713f0'),\n",
       " (<Direction.DOWN: Vec(y=1, x=0)>, Vec(y=2, x=0), '#d2c081'),\n",
       " (<Direction.RIGHT: Vec(y=0, x=1)>, Vec(y=0, x=2), '#59c680'),\n",
       " (<Direction.DOWN: Vec(y=1, x=0)>, Vec(y=2, x=0), '#411b91'),\n",
       " (<Direction.LEFT: Vec(y=0, x=-1)>, Vec(y=0, x=-5), '#8ceee2'),\n",
       " (<Direction.UP: Vec(y=-1, x=0)>, Vec(y=-2, x=0), '#caa173'),\n",
       " (<Direction.LEFT: Vec(y=0, x=-1)>, Vec(y=0, x=-1), '#1b58a2'),\n",
       " (<Direction.UP: Vec(y=-1, x=0)>, Vec(y=-2, x=0), '#caa171'),\n",
       " (<Direction.RIGHT: Vec(y=0, x=1)>, Vec(y=0, x=2), '#7807d2'),\n",
       " (<Direction.UP: Vec(y=-1, x=0)>, Vec(y=-3, x=0), '#a77fa3'),\n",
       " (<Direction.LEFT: Vec(y=0, x=-1)>, Vec(y=0, x=-2), '#015232'),\n",
       " (<Direction.UP: Vec(y=-1, x=0)>, Vec(y=-2, x=0), '#7a21e3')]"
      ]
     },
     "execution_count": 73,
     "metadata": {},
     "output_type": "execute_result"
    }
   ],
   "source": [
    "instruction_regex = r\"(.) (\\d+) \\((.*)\\)\"\n",
    "with open(\"18/example.txt\") as f:\n",
    "    data = f.read().splitlines()\n",
    "    instructions = []\n",
    "    for row in data:\n",
    "        direction, num_steps, color = re.match(instruction_regex, row).groups()\n",
    "        direction = DIRECTION_LOOKUP[direction]\n",
    "        num_steps = int(num_steps)\n",
    "        move = direction * num_steps\n",
    "        instructions.append((direction, move, color))\n",
    "instructions"
   ]
  },
  {
   "cell_type": "code",
   "execution_count": 74,
   "metadata": {},
   "outputs": [],
   "source": [
    "from functools import reduce\n",
    "\n",
    "def calculate_bounds(current_vals: tuple[Vec, Vec, Vec], next_move: Vec) -> tuple[Vec, Vec, Vec]:\n",
    "    current_position, bounds_min, bounds_max = current_vals\n",
    "    current_position += next_move\n",
    "    y_c, x_c = current_position\n",
    "    bounds_min = Vec(min(y_c, bounds_min.y), min(x_c, bounds_min.x))\n",
    "    bounds_max = Vec(max(y_c, bounds_max.y), max(x_c, bounds_max.x))\n",
    "\n",
    "    return current_position, bounds_min, bounds_max\n",
    "\n",
    "def prepare_bounds(instructions):\n",
    "    starting_position, min_bounds, max_bounds = reduce(calculate_bounds,\n",
    "       [instruction[1] for instruction in instructions],\n",
    "       (Vec(0, 0), Vec(0, 0), Vec(0, 0))\n",
    "    )\n",
    "    y_min, x_min = min_bounds\n",
    "    move = Vec(abs(y_min) if y_min < 0 else 0, abs(x_min) if x_min < 0 else 0)\n",
    "    starting_position += move\n",
    "    min_bounds += move\n",
    "    max_bounds += move\n",
    "    return starting_position, min_bounds, max_bounds"
   ]
  },
  {
   "cell_type": "code",
   "execution_count": 75,
   "metadata": {},
   "outputs": [],
   "source": [
    "def prepare_ground(max_bounds):\n",
    "    max_y, max_x = max_bounds\n",
    "    return [\n",
    "        [0 for x in range(max_x + 1)]\n",
    "        for y in range(max_y+1)\n",
    "    ]"
   ]
  },
  {
   "cell_type": "code",
   "execution_count": 76,
   "metadata": {},
   "outputs": [
    {
     "data": {
      "text/plain": [
       "(Vec(y=0, x=0), Vec(y=0, x=0), Vec(y=9, x=6))"
      ]
     },
     "execution_count": 76,
     "metadata": {},
     "output_type": "execute_result"
    }
   ],
   "source": [
    "starting_position, min_bounds, max_bounds = prepare_bounds(instructions)\n",
    "starting_position, min_bounds, max_bounds"
   ]
  },
  {
   "cell_type": "code",
   "execution_count": 77,
   "metadata": {},
   "outputs": [
    {
     "name": "stdout",
     "output_type": "stream",
     "text": [
      ".......\n",
      ".......\n",
      ".......\n",
      ".......\n",
      ".......\n",
      ".......\n",
      ".......\n",
      ".......\n",
      ".......\n",
      ".......\n"
     ]
    }
   ],
   "source": [
    "ground = prepare_ground(max_bounds)\n",
    "print_map2(ground)"
   ]
  },
  {
   "cell_type": "code",
   "execution_count": 78,
   "metadata": {},
   "outputs": [
    {
     "name": "stdout",
     "output_type": "stream",
     "text": [
      "#######\n",
      "#.....#\n",
      "###...#\n",
      "..#...#\n",
      "..#...#\n",
      "###.###\n",
      "#...#..\n",
      "##..###\n",
      ".#....#\n",
      ".######\n"
     ]
    }
   ],
   "source": [
    "def dig_initial_tunnel(ground, instructions, starting_position):\n",
    "    current_position = starting_position\n",
    "    for _, move, _ in instructions:\n",
    "        attr = \"y\" if move.y != 0 else \"x\"\n",
    "            \n",
    "        move_attr = getattr(move, attr)\n",
    "\n",
    "        for _ in range(abs(move_attr)):\n",
    "            current_y, current_x = current_position\n",
    "            ground[current_y][current_x] = 1\n",
    "            current_position += move.step()\n",
    "    return ground\n",
    "initial_tunnel = dig_initial_tunnel(ground, instructions, starting_position)\n",
    "print_map2(initial_tunnel)"
   ]
  },
  {
   "cell_type": "code",
   "execution_count": 79,
   "metadata": {},
   "outputs": [],
   "source": [
    "from scipy.sparse import csr_matrix\n",
    "\n",
    "def prepare_ground2(max_bounds):\n",
    "    max_y, max_x = max_bounds\n",
    "    return csr_matrix((max_y+1, max_x+1), dtype=int)\n",
    "\n",
    "\n",
    "def dig_initial_tunnel2(ground, instructions, starting_position):\n",
    "    current_position = starting_position\n",
    "    for _, move, _ in instructions:\n",
    "        destination = current_position + move\n",
    "        # print(current_position, destination)\n",
    "        y_c, x_c = current_position\n",
    "        y_d, x_d = destination\n",
    "\n",
    "        y_smaller, y_bigger = (y_c, y_d) if y_c < y_d else (y_d, y_c)\n",
    "        x_smaller, x_bigger = (x_c, x_d) if x_c < x_d else (x_d, x_c)\n",
    "        # print(y_c, y_d, x_c, x_d)\n",
    "\n",
    "        ground[y_smaller:y_bigger+1, x_smaller:x_bigger+1] = 1\n",
    "        current_position = destination\n",
    "    return ground\n",
    "\n",
    "ground2 = prepare_ground2(max_bounds)"
   ]
  },
  {
   "cell_type": "code",
   "execution_count": 80,
   "metadata": {},
   "outputs": [],
   "source": [
    "from tqdm import tqdm\n",
    "\n",
    "class Corner(Enum):\n",
    "    UPPER_LEFT = 0\n",
    "    UPPER_RIGHT = 1\n",
    "    LOWER_LEFT = 2\n",
    "    LOWER_RIGHT = 3\n",
    "\n",
    "transitions = {\n",
    "    (Corner.UPPER_LEFT, Corner.UPPER_RIGHT): False,\n",
    "    (Corner.UPPER_LEFT, Corner.LOWER_RIGHT): True,\n",
    "    (Corner.LOWER_LEFT, Corner.LOWER_RIGHT): False,\n",
    "    (Corner.LOWER_LEFT, Corner.UPPER_RIGHT): True\n",
    "}\n",
    "\n",
    "def check_corner(ground: list[list[int]], y: int, x: int) -> Corner | None:\n",
    "    row = ground[y]\n",
    "    if row[x] != 1:\n",
    "        return None\n",
    "\n",
    "    if y < (len(ground) - 1) and x < (len(row) - 1) and row[x+1] == 1 and ground[y+1][x] == 1:\n",
    "        return Corner.UPPER_LEFT\n",
    "    \n",
    "\n",
    "    if y < (len(ground) - 1) and x > 0 and row[x-1] == 1 and ground[y+1][x] == 1:\n",
    "        return Corner.UPPER_RIGHT\n",
    "    \n",
    "\n",
    "    if y > 0 and x < (len(row) - 1) and row[x+1] == 1 and ground[y-1][x] == 1:\n",
    "        return Corner.LOWER_LEFT\n",
    "\n",
    "    if y > 0 and x > 0 and row[x-1] == 1 and ground[y-1][x] == 1:\n",
    "        return Corner.LOWER_RIGHT\n",
    "\n",
    "    \n",
    "from copy import deepcopy\n",
    "\n",
    "def dig(ground: list[list[int]]):\n",
    "    res = deepcopy(ground)\n",
    "    pbar = tqdm(total=len(ground))\n",
    "\n",
    "    for y in range(len(ground)):\n",
    "        pbar.update(1)\n",
    "        state = State.OUTSIDE\n",
    "        x = 0\n",
    "        row = ground[y]\n",
    "\n",
    "        def handle_corners(corner, y, x):\n",
    "            next_hash_x = x+1\n",
    "            while next_hash_x < (len(row)-1):\n",
    "                if row[next_hash_x] == 1 and row[next_hash_x+1] == 0:\n",
    "                    break\n",
    "\n",
    "                else:\n",
    "                    next_hash_x += 1\n",
    "\n",
    "            if next_hash_x == (len(row)-1):\n",
    "                should_continue = False\n",
    "                should_transition = False\n",
    "                next_x = -1\n",
    "                return should_continue, should_transition, next_x\n",
    "            else:\n",
    "                next_corner = check_corner(ground, y, next_hash_x)\n",
    "                if next_corner is None:\n",
    "                    raise ValueError(\"Unhaled 1\")\n",
    "                \n",
    "                should_transition = transitions[(corner, next_corner)] # type: ignore\n",
    "                next_x = next_hash_x + 1\n",
    "                should_continue = True\n",
    "                return should_continue, should_transition, next_x\n",
    "                \n",
    "        \n",
    "        while x < len(row):\n",
    "            char = row[x]\n",
    "\n",
    "            if x == (len(row) - 1):\n",
    "                if state == State.INSIDE and char == 0:\n",
    "                    res[y][x] = 1\n",
    "                break\n",
    "\n",
    "            if state == State.OUTSIDE:\n",
    "                if char == 1:\n",
    "                    corner = check_corner(ground, y, x)\n",
    "                    if corner:\n",
    "                        should_continue, should_transition, next_x = handle_corners(corner, y, x)\n",
    "                        if not should_continue:\n",
    "                            break\n",
    "\n",
    "                        if should_transition:\n",
    "                            state = state.flip()\n",
    "                        x = next_x\n",
    "\n",
    "                    else:\n",
    "                        if row[x+1] == 0: # border\n",
    "                            x += 1\n",
    "                            state = State.INSIDE\n",
    "\n",
    "                        else:\n",
    "                            raise ValueError(\"Unhanled 222\")\n",
    "                else:\n",
    "                    x += 1\n",
    "            \n",
    "            else:\n",
    "                if char == 0:\n",
    "                    res[y][x] = 1\n",
    "                    x += 1\n",
    "                \n",
    "                else:\n",
    "                    corner = check_corner(ground, y, x)\n",
    "                    if corner:\n",
    "                        should_continue, should_transition, next_x = handle_corners(corner, y, x)\n",
    "                        if not should_continue:\n",
    "                            break\n",
    "\n",
    "                        if should_transition:\n",
    "                            state = state.flip()\n",
    "                        x = next_x\n",
    "                    \n",
    "                    else:\n",
    "                        if row[x+1] == 0: # border\n",
    "                            res[y][x] = 1\n",
    "                            x += 1\n",
    "                            state = State.OUTSIDE\n",
    "\n",
    "                        else:\n",
    "                            raise ValueError(\"Unhanled 333\")\n",
    "\n",
    "        \n",
    "    return res\n"
   ]
  },
  {
   "cell_type": "code",
   "execution_count": 81,
   "metadata": {},
   "outputs": [
    {
     "name": "stderr",
     "output_type": "stream",
     "text": [
      "100%|██████████| 10/10 [00:00<00:00, 62045.92it/s]"
     ]
    },
    {
     "name": "stdout",
     "output_type": "stream",
     "text": [
      "#######\n",
      "#######\n",
      "#######\n",
      "..#####\n",
      "..#####\n",
      "#######\n",
      "#####..\n",
      "#######\n",
      ".######\n",
      ".######\n"
     ]
    },
    {
     "name": "stderr",
     "output_type": "stream",
     "text": [
      "\n"
     ]
    }
   ],
   "source": [
    "dug = dig(initial_tunnel)\n",
    "print_map2(dug)"
   ]
  },
  {
   "cell_type": "code",
   "execution_count": 82,
   "metadata": {},
   "outputs": [
    {
     "data": {
      "text/plain": [
       "62"
      ]
     },
     "execution_count": 82,
     "metadata": {},
     "output_type": "execute_result"
    }
   ],
   "source": [
    "sum(sum(row) for row in dug)"
   ]
  },
  {
   "cell_type": "markdown",
   "metadata": {},
   "source": [
    "## Part 2"
   ]
  },
  {
   "cell_type": "code",
   "execution_count": 83,
   "metadata": {},
   "outputs": [
    {
     "data": {
      "text/plain": [
       "[(<Direction.RIGHT: Vec(y=0, x=1)>, Vec(y=0, x=461937), '70c710'),\n",
       " (<Direction.DOWN: Vec(y=1, x=0)>, Vec(y=56407, x=0), '0dc571'),\n",
       " (<Direction.RIGHT: Vec(y=0, x=1)>, Vec(y=0, x=356671), '5713f0'),\n",
       " (<Direction.DOWN: Vec(y=1, x=0)>, Vec(y=863240, x=0), 'd2c081'),\n",
       " (<Direction.RIGHT: Vec(y=0, x=1)>, Vec(y=0, x=367720), '59c680'),\n",
       " (<Direction.DOWN: Vec(y=1, x=0)>, Vec(y=266681, x=0), '411b91'),\n",
       " (<Direction.LEFT: Vec(y=0, x=-1)>, Vec(y=0, x=-577262), '8ceee2'),\n",
       " (<Direction.UP: Vec(y=-1, x=0)>, Vec(y=-829975, x=0), 'caa173'),\n",
       " (<Direction.LEFT: Vec(y=0, x=-1)>, Vec(y=0, x=-112010), '1b58a2'),\n",
       " (<Direction.DOWN: Vec(y=1, x=0)>, Vec(y=829975, x=0), 'caa171'),\n",
       " (<Direction.LEFT: Vec(y=0, x=-1)>, Vec(y=0, x=-491645), '7807d2'),\n",
       " (<Direction.UP: Vec(y=-1, x=0)>, Vec(y=-686074, x=0), 'a77fa3'),\n",
       " (<Direction.LEFT: Vec(y=0, x=-1)>, Vec(y=0, x=-5411), '015232'),\n",
       " (<Direction.UP: Vec(y=-1, x=0)>, Vec(y=-500254, x=0), '7a21e3')]"
      ]
     },
     "execution_count": 83,
     "metadata": {},
     "output_type": "execute_result"
    }
   ],
   "source": [
    "instruction_regex = r\"(.) (\\d+) \\(#(.*)\\)\"\n",
    "with open(\"18/example.txt\") as f:\n",
    "    data = f.read().splitlines()\n",
    "    instructions = []\n",
    "    for row in data:\n",
    "        direction, num_steps, color = re.match(instruction_regex, row).groups()\n",
    "        num_steps = int(color[:5], 16)\n",
    "        direction = {\n",
    "            \"0\": \"R\",\n",
    "            \"1\": \"D\",\n",
    "            \"2\": \"L\",\n",
    "            \"3\": \"U\"\n",
    "        }[color[5]]\n",
    "\n",
    "\n",
    "        \n",
    "        direction = DIRECTION_LOOKUP[direction]\n",
    "        move = direction * num_steps\n",
    "        instructions.append((direction, move, color))\n",
    "instructions"
   ]
  },
  {
   "cell_type": "code",
   "execution_count": 84,
   "metadata": {},
   "outputs": [
    {
     "data": {
      "text/plain": [
       "(Vec(y=0, x=0), Vec(y=0, x=0), Vec(y=1186328, x=1186328))"
      ]
     },
     "execution_count": 84,
     "metadata": {},
     "output_type": "execute_result"
    }
   ],
   "source": [
    "starting_position, min_bounds, max_bounds = prepare_bounds(instructions)\n",
    "starting_position, min_bounds, max_bounds"
   ]
  },
  {
   "cell_type": "code",
   "execution_count": 85,
   "metadata": {},
   "outputs": [
    {
     "data": {
      "text/plain": [
       "(1186329, 1186329)"
      ]
     },
     "execution_count": 85,
     "metadata": {},
     "output_type": "execute_result"
    }
   ],
   "source": [
    "ground = prepare_ground2(max_bounds)\n",
    "ground.shape"
   ]
  },
  {
   "cell_type": "code",
   "execution_count": 87,
   "metadata": {},
   "outputs": [
    {
     "name": "stderr",
     "output_type": "stream",
     "text": [
      "/Users/szymon/projects/aoc23/env/lib/python3.10/site-packages/scipy/sparse/_index.py:143: SparseEfficiencyWarning: Changing the sparsity structure of a csr_matrix is expensive. lil_matrix is more efficient.\n",
      "  self._set_arrayXarray(i, j, x)\n"
     ]
    },
    {
     "data": {
      "text/plain": [
       "<1186329x1186329 sparse matrix of type '<class 'numpy.int64'>'\n",
       "\twith 6405262 stored elements in Compressed Sparse Row format>"
      ]
     },
     "execution_count": 87,
     "metadata": {},
     "output_type": "execute_result"
    }
   ],
   "source": [
    "initial_tunnel = dig_initial_tunnel2(ground, instructions, starting_position)"
   ]
  },
  {
   "cell_type": "code",
   "execution_count": null,
   "metadata": {},
   "outputs": [],
   "source": [
    "from tqdm import tqdm\n",
    "from copy import deepcopy\n",
    "\n",
    "def dig2(ground: list[list[int]]):\n",
    "    result = 0\n",
    "    pbar = tqdm(total=len(ground))\n",
    "\n",
    "    for y in range(len(ground)):\n",
    "        pbar.update(1)\n",
    "        state = State.OUTSIDE\n",
    "        x = 0\n",
    "        row = ground[y]\n",
    "\n",
    "        def handle_corners(corner, y, x):\n",
    "            next_hash_x = x+1\n",
    "            while next_hash_x < (len(row)-1):\n",
    "                if row[next_hash_x] == 1 and row[next_hash_x+1] == 0:\n",
    "                    break\n",
    "\n",
    "                else:\n",
    "                    next_hash_x += 1\n",
    "\n",
    "            if next_hash_x == (len(row)-1):\n",
    "                should_continue = False\n",
    "                should_transition = False\n",
    "                next_x = -1\n",
    "                return should_continue, should_transition, next_x\n",
    "            else:\n",
    "                next_corner = check_corner(ground, y, next_hash_x)\n",
    "                if next_corner is None:\n",
    "                    raise ValueError(\"Unhaled 1\")\n",
    "                \n",
    "                should_transition = transitions[(corner, next_corner)] # type: ignore\n",
    "                next_x = next_hash_x + 1\n",
    "                should_continue = True\n",
    "                return should_continue, should_transition, next_x\n",
    "                \n",
    "        \n",
    "        while x < len(row):\n",
    "            char = row[x]\n",
    "\n",
    "            if x == (len(row) - 1):\n",
    "                if state == State.INSIDE and char == 0:\n",
    "                    result += 1\n",
    "                break\n",
    "\n",
    "            if state == State.OUTSIDE:\n",
    "                if char == 1:\n",
    "                    corner = check_corner(ground, y, x)\n",
    "                    if corner:\n",
    "                        should_continue, should_transition, next_x = handle_corners(corner, y, x)\n",
    "                        if not should_continue:\n",
    "                            break\n",
    "\n",
    "                        if should_transition:\n",
    "                            state = state.flip()\n",
    "                        x = next_x\n",
    "\n",
    "                    else:\n",
    "                        if row[x+1] == 0: # border\n",
    "                            x += 1\n",
    "                            state = State.INSIDE\n",
    "\n",
    "                        else:\n",
    "                            raise ValueError(\"Unhanled 222\")\n",
    "                else:\n",
    "                    x += 1\n",
    "            \n",
    "            else:\n",
    "                if char == 0:\n",
    "                    res[y][x] = 1\n",
    "                    x += 1\n",
    "                \n",
    "                else:\n",
    "                    corner = check_corner(ground, y, x)\n",
    "                    if corner:\n",
    "                        should_continue, should_transition, next_x = handle_corners(corner, y, x)\n",
    "                        if not should_continue:\n",
    "                            break\n",
    "\n",
    "                        if should_transition:\n",
    "                            state = state.flip()\n",
    "                        x = next_x\n",
    "                    \n",
    "                    else:\n",
    "                        if row[x+1] == 0: # border\n",
    "                            res[y][x] = 1\n",
    "                            x += 1\n",
    "                            state = State.OUTSIDE\n",
    "\n",
    "                        else:\n",
    "                            raise ValueError(\"Unhanled 333\")\n",
    "\n",
    "        \n",
    "    return res\n"
   ]
  }
 ],
 "metadata": {
  "kernelspec": {
   "display_name": "env",
   "language": "python",
   "name": "python3"
  },
  "language_info": {
   "codemirror_mode": {
    "name": "ipython",
    "version": 3
   },
   "file_extension": ".py",
   "mimetype": "text/x-python",
   "name": "python",
   "nbconvert_exporter": "python",
   "pygments_lexer": "ipython3",
   "version": "3.10.13"
  }
 },
 "nbformat": 4,
 "nbformat_minor": 2
}
