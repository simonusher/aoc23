{
 "cells": [
  {
   "cell_type": "code",
   "execution_count": null,
   "metadata": {},
   "outputs": [],
   "source": [
    "from itertools import combinations\n",
    "\n",
    "with open(\"13/input.txt\") as f:\n",
    "    patterns = [p.strip() for p in f.read().split(\"\\n\\n\")]\n",
    "patterns"
   ]
  },
  {
   "cell_type": "code",
   "execution_count": null,
   "metadata": {},
   "outputs": [],
   "source": [
    "def transpose(pattern: str) -> str:\n",
    "    lines = pattern.splitlines()\n",
    "    return \"\\n\".join([\"\".join([row[i] for row in lines]) for i in range(len(lines[0]))])"
   ]
  },
  {
   "cell_type": "code",
   "execution_count": null,
   "metadata": {},
   "outputs": [],
   "source": [
    "def find_mirror_horizontal(pattern: str) -> set[int]:\n",
    "    eq = {}\n",
    "    lines = pattern.splitlines()\n",
    "    \n",
    "    for (i, first), (j, second) in combinations(enumerate(lines), 2):\n",
    "        eq[(i, j)] = first == second\n",
    "        eq[(j, i)] = eq[(i, j)]\n",
    "    \n",
    "    num_rows = len(lines)\n",
    "    results = set()\n",
    "    for split_line in range(1, num_rows):\n",
    "        indexes_top = list(range(split_line-1, -1, -1))\n",
    "        indexes_bottom = list(range(split_line, num_rows))\n",
    "        \n",
    "        if all(eq[(i, j)] for i, j in zip(indexes_top, indexes_bottom)):\n",
    "            results.add(split_line)\n",
    "    return results\n",
    "\n",
    "def find_mirror_vertical(pattern: str) -> set[int]:\n",
    "    return find_mirror_horizontal(transpose(pattern))"
   ]
  },
  {
   "cell_type": "code",
   "execution_count": null,
   "metadata": {},
   "outputs": [],
   "source": [
    "def find_mirrors(pattern: str) -> tuple[set[int], set[int]]:\n",
    "    mirror_horizontal = find_mirror_horizontal(pattern)\n",
    "    mirror_vertical = find_mirror_vertical(pattern)\n",
    "    return mirror_horizontal, mirror_vertical"
   ]
  },
  {
   "cell_type": "code",
   "execution_count": null,
   "metadata": {},
   "outputs": [],
   "source": [
    "def mirrors_value(mirrors_horizontal: set[int], mirrors_vertical: set[int]) -> int:\n",
    "    return sum(100 * x for x in mirrors_horizontal) + sum(mirrors_vertical)"
   ]
  },
  {
   "cell_type": "code",
   "execution_count": null,
   "metadata": {},
   "outputs": [],
   "source": [
    "def pattern_value(pattern: str) -> int:\n",
    "    mirror_horizontal, mirror_vertical = find_mirrors(pattern)\n",
    "    return mirrors_value(mirror_horizontal, mirror_vertical)"
   ]
  },
  {
   "cell_type": "code",
   "execution_count": null,
   "metadata": {},
   "outputs": [],
   "source": [
    "CHAR_SWAP = {\n",
    "    \"#\": \".\",\n",
    "    \".\": \"#\"\n",
    "}"
   ]
  },
  {
   "cell_type": "markdown",
   "metadata": {},
   "source": [
    "## Part 1"
   ]
  },
  {
   "cell_type": "code",
   "execution_count": null,
   "metadata": {},
   "outputs": [],
   "source": [
    "sum([pattern_value(p) for p in patterns])"
   ]
  },
  {
   "cell_type": "markdown",
   "metadata": {},
   "source": [
    "## Part 2"
   ]
  },
  {
   "cell_type": "code",
   "execution_count": null,
   "metadata": {},
   "outputs": [],
   "source": [
    "def find_new(pattern) -> int:\n",
    "    old_h, old_v = find_mirrors(pattern)\n",
    "\n",
    "    for i in range(len(pattern)):\n",
    "        char = pattern[i]\n",
    "        if char != \"\\n\":\n",
    "            new_char = CHAR_SWAP[char]\n",
    "            new_pattern = pattern[:i] + new_char + pattern[i+1:]\n",
    "            new_h, new_v = find_mirrors(new_pattern)\n",
    "\n",
    "            diff_h, diff_v = (new_h - old_h), (new_v - old_v)\n",
    "\n",
    "            if (diff_h, diff_v) != (set(), set()):\n",
    "                return mirrors_value(diff_h, diff_v)\n",
    "    return 0"
   ]
  },
  {
   "cell_type": "code",
   "execution_count": null,
   "metadata": {},
   "outputs": [],
   "source": [
    "sum(find_new(p) for p in patterns)"
   ]
  }
 ],
 "metadata": {
  "kernelspec": {
   "display_name": "env",
   "language": "python",
   "name": "python3"
  },
  "language_info": {
   "codemirror_mode": {
    "name": "ipython",
    "version": 3
   },
   "file_extension": ".py",
   "mimetype": "text/x-python",
   "name": "python",
   "nbconvert_exporter": "python",
   "pygments_lexer": "ipython3",
   "version": "3.10.13"
  }
 },
 "nbformat": 4,
 "nbformat_minor": 2
}
