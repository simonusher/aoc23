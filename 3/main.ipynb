{
 "cells": [
  {
   "cell_type": "code",
   "execution_count": null,
   "metadata": {},
   "outputs": [],
   "source": [
    "with open(\"3/input.txt\") as f:\n",
    "    data = f.read().splitlines()\n",
    "data"
   ]
  },
  {
   "cell_type": "code",
   "execution_count": null,
   "metadata": {},
   "outputs": [],
   "source": [
    "adjacent_vectors: list[tuple[int]] = [\n",
    "    (-1, -1),\n",
    "    (0, -1),\n",
    "    (1, -1),\n",
    "    (-1, 0),\n",
    "    (1, 0),\n",
    "    (-1, 1),\n",
    "    (0, 1),\n",
    "    (1, 1)\n",
    "]\n",
    "\n",
    "def adjacent_coordinates(x: int, y: int, data: list[str]) -> set[tuple[int, int]]:\n",
    "    return set([(x + m_x, y + m_y) for (m_x, m_y) in adjacent_vectors if coordinates_valid(x + m_x, y + m_y, data)])\n",
    "\n",
    "def coordinates_valid(x, y, data):\n",
    "    return y >= 0 and y < len(data) and x >= 0 and x < len(data[y])\n",
    "\n",
    "\n",
    "def is_adjacent_to_symbol(x: int, y: int, data: list[str]):\n",
    "    for new_x, new_y in adjacent_coordinates(x, y, data):\n",
    "        char_to_check = data[new_y][new_x]\n",
    "        if not char_to_check.isdigit() and not char_to_check == \".\":\n",
    "            return True\n",
    "    \n",
    "    return False"
   ]
  },
  {
   "cell_type": "code",
   "execution_count": null,
   "metadata": {},
   "outputs": [],
   "source": [
    "import re\n",
    "\n",
    "def parts_from_data(data):\n",
    "    part_numbers = []\n",
    "\n",
    "    for y, row in enumerate(data):\n",
    "        for number_match in re.finditer(\"\\d+\", row):\n",
    "            index_start, index_end = number_match.span()\n",
    "            is_part_number = any([is_adjacent_to_symbol(x, y, data) for x in range(index_start, index_end)])\n",
    "            if is_part_number:\n",
    "                part_numbers.append((y, number_match))\n",
    "    return part_numbers\n",
    "\n",
    "part_numbers = parts_from_data(data)\n",
    "part_number_sum = sum(int(part_number[1].group()) for part_number in part_numbers)\n",
    "part_number_sum"
   ]
  },
  {
   "cell_type": "markdown",
   "metadata": {},
   "source": [
    "## Part 2"
   ]
  },
  {
   "cell_type": "code",
   "execution_count": null,
   "metadata": {},
   "outputs": [],
   "source": [
    "def parts_with_coordinates(parts):\n",
    "    parts_with_coordinates = [\n",
    "        (number_match, set((x, y) for x in range(*number_match.span()))) for y, number_match in parts\n",
    "    ]\n",
    "    return parts_with_coordinates\n",
    "parts_coordinates = parts_with_coordinates(part_numbers)\n",
    "parts_coordinates"
   ]
  },
  {
   "cell_type": "code",
   "execution_count": null,
   "metadata": {},
   "outputs": [],
   "source": [
    "def potential_gears(data):\n",
    "    potential_gears_coordinates = [\n",
    "        (star_match.start(), y)\n",
    "        for (y, row) in enumerate(data)\n",
    "        for star_match in re.finditer(\"\\*\", row)\n",
    "    ]\n",
    "    return potential_gears_coordinates\n",
    "potential_gears_coordinates = potential_gears(data)\n",
    "potential_gears_coordinates"
   ]
  },
  {
   "cell_type": "code",
   "execution_count": null,
   "metadata": {},
   "outputs": [],
   "source": [
    "def gear_adjacent_coordinates(potential_gear_coordinates):\n",
    "    coordinates_adjacent_to_gears = [\n",
    "        (x, y, adjacent_coordinates(x, y, data)) for x, y in potential_gear_coordinates\n",
    "    ]\n",
    "    return coordinates_adjacent_to_gears\n",
    "coordinates_adjacent_to_gears = gear_adjacent_coordinates(potential_gears_coordinates)\n",
    "coordinates_adjacent_to_gears"
   ]
  },
  {
   "cell_type": "code",
   "execution_count": null,
   "metadata": {},
   "outputs": [],
   "source": [
    "def gear_adjacent_to_part(gear_adjacent_coordinates: set[tuple[int, int]], part_numbers_coordinates: set[tuple[int, int]]):\n",
    "    return len(gear_adjacent_coordinates.intersection(part_numbers_coordinates)) > 0"
   ]
  },
  {
   "cell_type": "code",
   "execution_count": null,
   "metadata": {},
   "outputs": [],
   "source": [
    "def adjacent_parts(gear_adjacent_coordinates: set[tuple[int, int]], parts: list[tuple[re.Match, set[tuple[int, int]]]]):\n",
    "    return [part for part, part_coordinates in parts if gear_adjacent_to_part(gear_adjacent_coordinates, part_coordinates)]\n"
   ]
  },
  {
   "cell_type": "code",
   "execution_count": null,
   "metadata": {},
   "outputs": [],
   "source": [
    "def sum_gear_ratios(coordinates_adjacent_to_gears, parts_coordinates):\n",
    "    result = 0\n",
    "    for gear_x, gear_y, gear_adjacent_coordinates in coordinates_adjacent_to_gears:\n",
    "        parts_adjacent_to_gear = adjacent_parts(gear_adjacent_coordinates, parts_coordinates)\n",
    "        if len(parts_adjacent_to_gear) == 2:\n",
    "            result += int(parts_adjacent_to_gear[0].group()) * int(parts_adjacent_to_gear[1].group())\n",
    "    return result"
   ]
  },
  {
   "cell_type": "code",
   "execution_count": null,
   "metadata": {},
   "outputs": [],
   "source": [
    "sum_gear_ratios(coordinates_adjacent_to_gears, parts_coordinates)"
   ]
  }
 ],
 "metadata": {
  "kernelspec": {
   "display_name": "env",
   "language": "python",
   "name": "python3"
  },
  "language_info": {
   "codemirror_mode": {
    "name": "ipython",
    "version": 3
   },
   "file_extension": ".py",
   "mimetype": "text/x-python",
   "name": "python",
   "nbconvert_exporter": "python",
   "pygments_lexer": "ipython3",
   "version": "3.10.13"
  }
 },
 "nbformat": 4,
 "nbformat_minor": 2
}
