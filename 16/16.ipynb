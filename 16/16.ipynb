{
 "cells": [
  {
   "cell_type": "code",
   "execution_count": null,
   "metadata": {},
   "outputs": [],
   "source": [
    "with open(\"16/input.txt\") as f:\n",
    "    data = f.read()\n",
    "print(data)"
   ]
  },
  {
   "cell_type": "code",
   "execution_count": null,
   "metadata": {},
   "outputs": [],
   "source": [
    "rows = data.splitlines()\n",
    "rows"
   ]
  },
  {
   "cell_type": "code",
   "execution_count": null,
   "metadata": {},
   "outputs": [],
   "source": [
    "def print_map(map: list[str]):\n",
    "    for row in map:\n",
    "        print(row)"
   ]
  },
  {
   "cell_type": "code",
   "execution_count": null,
   "metadata": {},
   "outputs": [],
   "source": [
    "def mark(visited_map: list[str], position: tuple[int, int]):\n",
    "    y, x = position\n",
    "    row = visited_map[y]\n",
    "    visited_map[y] = row[:x] + \"x\" + row[x+1:]\n",
    "    return visited_map"
   ]
  },
  {
   "cell_type": "code",
   "execution_count": null,
   "metadata": {},
   "outputs": [],
   "source": [
    "from enum import Enum\n",
    "\n",
    "class Direction(tuple[int, int], Enum):\n",
    "    UP = (-1, 0)\n",
    "    RIGHT = (0, 1)\n",
    "    DOWN = (1, 0)\n",
    "    LEFT = (0, -1)"
   ]
  },
  {
   "cell_type": "code",
   "execution_count": null,
   "metadata": {},
   "outputs": [],
   "source": [
    "def transition(direction: Direction, char: str) -> tuple[Direction, Direction | None]:\n",
    "    match (direction, char):\n",
    "        case (_, \".\") | (Direction.LEFT | Direction.RIGHT, \"-\") | (Direction.UP | Direction.DOWN, \"|\"):\n",
    "            return direction, None\n",
    "\n",
    "        case Direction.LEFT | Direction.RIGHT, \"|\":\n",
    "            return Direction.UP, Direction.DOWN\n",
    "        \n",
    "\n",
    "        case Direction.UP | Direction.DOWN, \"-\":\n",
    "            return Direction.LEFT, Direction.RIGHT\n",
    "        \n",
    "        case _, \"\\\\\":\n",
    "            match direction:\n",
    "                case Direction.UP:\n",
    "                    return Direction.LEFT, None\n",
    "                \n",
    "                case Direction.RIGHT:\n",
    "                    return Direction.DOWN, None\n",
    "                \n",
    "                case Direction.DOWN:\n",
    "                    return Direction.RIGHT, None\n",
    "                \n",
    "                case Direction.LEFT:\n",
    "                    return Direction.UP, None\n",
    "        \n",
    "        case _, \"/\":\n",
    "            match direction:\n",
    "                case Direction.UP:\n",
    "                    return Direction.RIGHT, None\n",
    "                \n",
    "                case Direction.RIGHT:\n",
    "                    return Direction.UP, None\n",
    "                \n",
    "                case Direction.DOWN:\n",
    "                    return Direction.LEFT, None\n",
    "                    \n",
    "                case Direction.LEFT:\n",
    "                    return Direction.DOWN, None\n",
    "\n",
    "        case _:\n",
    "            raise ValueError(f\"The combination of direction: {direction} and char: {char} is not handled.\")\n"
   ]
  },
  {
   "cell_type": "code",
   "execution_count": null,
   "metadata": {},
   "outputs": [],
   "source": [
    "\n",
    "def move(map: list[str], position: tuple[int, int], direction: Direction) -> list[tuple[tuple[int, int], Direction]]:\n",
    "    yd, xd = direction\n",
    "    yc, xc = position\n",
    "\n",
    "    current_position = (yd + yc, xd + xc)\n",
    "    yc, xc = current_position\n",
    "\n",
    "    if yc < 0 or yc >= len(map) or xc < 0 or xc >= len(map[0]):\n",
    "        return []\n",
    "\n",
    "    symbol = map[current_position[0]][current_position[1]]\n",
    "\n",
    "    new_directions = transition(direction, symbol)\n",
    "\n",
    "    return [(current_position, d) for d in new_directions if d is not None]\n",
    "\n",
    "def count_energized(map: list[str], initial_position: tuple[int, int], initial_direction: Direction):\n",
    "    positions = [\n",
    "        (initial_position, initial_direction)\n",
    "    ]\n",
    "\n",
    "    visited_with_dirs = set()\n",
    "\n",
    "    while(len(positions) > 0):\n",
    "        (position, direction), *positions = positions\n",
    "        if (position, direction) not in visited_with_dirs:\n",
    "            new_positions = move(map, position, direction)\n",
    "            positions.extend(new_positions)\n",
    "            visited_with_dirs.add((position, direction))\n",
    "\n",
    "    return len(set([\n",
    "        (y, x) for ((y,x), _) in visited_with_dirs\n",
    "        if y >= 0 and y < len(map) and x >= 0 and x < len(map[0])\n",
    "    ]))"
   ]
  },
  {
   "cell_type": "code",
   "execution_count": null,
   "metadata": {},
   "outputs": [],
   "source": [
    "count_energized(rows, (0, -1), Direction.RIGHT)"
   ]
  },
  {
   "cell_type": "markdown",
   "metadata": {},
   "source": [
    "## Part 2"
   ]
  },
  {
   "cell_type": "code",
   "execution_count": null,
   "metadata": {},
   "outputs": [],
   "source": [
    "initial_starting_positions = [\n",
    "    ((y, -1), Direction.RIGHT)\n",
    "    for y in range(len(rows))\n",
    "] + [\n",
    "    ((y, len(rows[0])), Direction.LEFT)\n",
    "    for y in range(len(rows))\n",
    "] + [\n",
    "    ((-1, x), Direction.DOWN)\n",
    "    for x in range(len(rows[0]))\n",
    "] + [\n",
    "    ((len(rows), x), Direction.UP)\n",
    "    for x in range(len(rows[0]))\n",
    "]\n",
    "initial_starting_positions"
   ]
  },
  {
   "cell_type": "code",
   "execution_count": null,
   "metadata": {},
   "outputs": [],
   "source": [
    "from functools import reduce, partial\n",
    "from itertools import starmap\n",
    "\n",
    "reduce(max, starmap(partial(count_energized, rows), initial_starting_positions))"
   ]
  }
 ],
 "metadata": {
  "kernelspec": {
   "display_name": "env",
   "language": "python",
   "name": "python3"
  },
  "language_info": {
   "codemirror_mode": {
    "name": "ipython",
    "version": 3
   },
   "file_extension": ".py",
   "mimetype": "text/x-python",
   "name": "python",
   "nbconvert_exporter": "python",
   "pygments_lexer": "ipython3",
   "version": "3.10.13"
  }
 },
 "nbformat": 4,
 "nbformat_minor": 2
}
