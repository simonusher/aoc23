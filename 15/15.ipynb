{
 "cells": [
  {
   "cell_type": "code",
   "execution_count": null,
   "metadata": {},
   "outputs": [],
   "source": [
    "from functools import reduce\n",
    "\n",
    "def hash_f(s: str) -> int:\n",
    "    return reduce(lambda acc, v: (acc + v) * 17 % 256, map(ord, s), 0)"
   ]
  },
  {
   "cell_type": "code",
   "execution_count": null,
   "metadata": {},
   "outputs": [],
   "source": [
    "with open(\"15/input.txt\") as f:\n",
    "    seq = f.read().strip()\n",
    "seq"
   ]
  },
  {
   "cell_type": "code",
   "execution_count": null,
   "metadata": {},
   "outputs": [],
   "source": [
    "steps = seq.split(\",\")\n",
    "steps[:5]"
   ]
  },
  {
   "cell_type": "code",
   "execution_count": null,
   "metadata": {},
   "outputs": [],
   "source": [
    "sum(map(hash_f, steps))"
   ]
  },
  {
   "cell_type": "markdown",
   "metadata": {},
   "source": [
    "## Part 2"
   ]
  },
  {
   "cell_type": "code",
   "execution_count": null,
   "metadata": {},
   "outputs": [],
   "source": [
    "import re\n",
    "from collections import OrderedDict\n",
    "\n",
    "def perform(step: str, boxes: dict[int, OrderedDict[str, int]]):\n",
    "    parts = re.match(\"(.*)(-|=)(.*)\", step)\n",
    "    if not parts:\n",
    "        raise ValueError(f\"Incorrect step: {step}\")\n",
    "\n",
    "    label, operation, focal_length = parts.groups()\n",
    "\n",
    "    box_number = hash_f(label)\n",
    "    lenses = boxes[box_number]\n",
    "\n",
    "    if operation == \"-\":\n",
    "        if label in lenses:\n",
    "            lenses.pop(label)\n",
    "    \n",
    "    if operation == \"=\":\n",
    "        focal_length = int(focal_length)\n",
    "        lenses[label] = focal_length"
   ]
  },
  {
   "cell_type": "code",
   "execution_count": null,
   "metadata": {},
   "outputs": [],
   "source": [
    "from collections import OrderedDict\n",
    "boxes = {\n",
    "    i: OrderedDict()\n",
    "    for i in range(256)\n",
    "}\n",
    "\n",
    "def print_boxes(boxes: dict[int, OrderedDict[str, int]]):\n",
    "    for i, box in boxes.items():\n",
    "        if len(box) > 0:\n",
    "            contents = \" \".join(f\"[{label} {value}]\" for label, value in box.items())\n",
    "            print(f\"Box {i}: {contents}\")\n",
    "\n",
    "for step in steps:\n",
    "    perform(step, boxes)\n",
    "    print(f\"After: {step}\")\n",
    "    print_boxes(boxes)\n",
    "    print()"
   ]
  },
  {
   "cell_type": "code",
   "execution_count": null,
   "metadata": {},
   "outputs": [],
   "source": [
    "def focusing_power(boxes: dict[int, OrderedDict[str, int]]):\n",
    "    res = 0\n",
    "    for box_number, lenses in boxes.items():\n",
    "        for lens_slot, (_, focal_length) in enumerate(lenses.items(), start=1):\n",
    "            res += (1 + box_number) * lens_slot * focal_length\n",
    "    return res\n",
    "\n",
    "focusing_power(boxes)"
   ]
  }
 ],
 "metadata": {
  "kernelspec": {
   "display_name": "env",
   "language": "python",
   "name": "python3"
  },
  "language_info": {
   "codemirror_mode": {
    "name": "ipython",
    "version": 3
   },
   "file_extension": ".py",
   "mimetype": "text/x-python",
   "name": "python",
   "nbconvert_exporter": "python",
   "pygments_lexer": "ipython3",
   "version": "3.10.13"
  }
 },
 "nbformat": 4,
 "nbformat_minor": 2
}
