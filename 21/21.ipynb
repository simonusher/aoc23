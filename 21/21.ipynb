{
 "cells": [
  {
   "cell_type": "code",
   "execution_count": 19,
   "metadata": {},
   "outputs": [],
   "source": [
    "from collections import namedtuple\n",
    "from enum import Enum\n",
    "\n",
    "class Point(namedtuple(\"Point\", [\"y\", \"x\"])):\n",
    "    def __add__(self, other):\n",
    "        return Point(self.y + other.y, self.x + other.x)\n",
    "    \n",
    "    def __sub__(self, other):\n",
    "        return Point(self.y - other.y, self.x - other.x)\n",
    "\n",
    "\n",
    "class Direction(Point, Enum):\n",
    "    UP = Point(-1, 0)\n",
    "    RIGHT = Point(0, 1)\n",
    "    DOWN = Point(1, 0)\n",
    "    LEFT = Point(0, -1)"
   ]
  },
  {
   "cell_type": "code",
   "execution_count": 32,
   "metadata": {},
   "outputs": [
    {
     "name": "stdout",
     "output_type": "stream",
     "text": [
      "...........\n",
      ".....###.#.\n",
      ".###.##..#.\n",
      "..#.#...#..\n",
      "....#.#....\n",
      ".##..S####.\n",
      ".##..#...#.\n",
      ".......##..\n",
      ".##.#.####.\n",
      ".##..##.##.\n",
      "...........\n"
     ]
    }
   ],
   "source": [
    "with open(\"21/example1.txt\") as f:\n",
    "    data = f.read()\n",
    "map = data.splitlines()\n",
    "print(data)"
   ]
  },
  {
   "cell_type": "code",
   "execution_count": 33,
   "metadata": {},
   "outputs": [
    {
     "data": {
      "text/plain": [
       "Point(y=5, x=5)"
      ]
     },
     "execution_count": 33,
     "metadata": {},
     "output_type": "execute_result"
    }
   ],
   "source": [
    "index = data.replace(\"\\n\", \"\").index(\"S\")\n",
    "y = index // len(map[0])\n",
    "x = index % len(map[0])\n",
    "starting_position = Point(y, x)\n",
    "map[y] = map[y][:x] + \".\" + map[y][x+1:]\n",
    "starting_position"
   ]
  },
  {
   "cell_type": "code",
   "execution_count": 34,
   "metadata": {},
   "outputs": [
    {
     "data": {
      "text/plain": [
       "['...........',\n",
       " '.....###.#.',\n",
       " '.###.##..#.',\n",
       " '..#.#...#..',\n",
       " '....#.#....',\n",
       " '.##...####.',\n",
       " '.##..#...#.',\n",
       " '.......##..',\n",
       " '.##.#.####.',\n",
       " '.##..##.##.',\n",
       " '...........']"
      ]
     },
     "execution_count": 34,
     "metadata": {},
     "output_type": "execute_result"
    }
   ],
   "source": [
    "map"
   ]
  },
  {
   "cell_type": "code",
   "execution_count": 35,
   "metadata": {},
   "outputs": [
    {
     "data": {
      "text/plain": [
       "{Point(y=0, x=0),\n",
       " Point(y=0, x=2),\n",
       " Point(y=0, x=4),\n",
       " Point(y=0, x=6),\n",
       " Point(y=0, x=8),\n",
       " Point(y=0, x=10),\n",
       " Point(y=1, x=1),\n",
       " Point(y=1, x=3),\n",
       " Point(y=2, x=0),\n",
       " Point(y=2, x=4),\n",
       " Point(y=2, x=8),\n",
       " Point(y=2, x=10),\n",
       " Point(y=3, x=1),\n",
       " Point(y=3, x=3),\n",
       " Point(y=3, x=5),\n",
       " Point(y=3, x=7),\n",
       " Point(y=3, x=9),\n",
       " Point(y=4, x=0),\n",
       " Point(y=4, x=2),\n",
       " Point(y=4, x=8),\n",
       " Point(y=4, x=10),\n",
       " Point(y=5, x=3),\n",
       " Point(y=5, x=5),\n",
       " Point(y=6, x=0),\n",
       " Point(y=6, x=4),\n",
       " Point(y=6, x=6),\n",
       " Point(y=6, x=8),\n",
       " Point(y=6, x=10),\n",
       " Point(y=7, x=1),\n",
       " Point(y=7, x=3),\n",
       " Point(y=7, x=5),\n",
       " Point(y=7, x=9),\n",
       " Point(y=8, x=0),\n",
       " Point(y=8, x=10),\n",
       " Point(y=9, x=3),\n",
       " Point(y=9, x=7),\n",
       " Point(y=10, x=0),\n",
       " Point(y=10, x=2),\n",
       " Point(y=10, x=4),\n",
       " Point(y=10, x=6),\n",
       " Point(y=10, x=8),\n",
       " Point(y=10, x=10)}"
      ]
     },
     "execution_count": 35,
     "metadata": {},
     "output_type": "execute_result"
    }
   ],
   "source": [
    "num_steps = 64\n",
    "\n",
    "current = set([starting_position])\n",
    "\n",
    "def possible_positions(position: Point, map: list[str]):\n",
    "    max_y = len(map)\n",
    "    max_x = len(map[0])\n",
    "\n",
    "    new_positions = [position + d for d in Direction]\n",
    "    new_positions = [p for p in new_positions if p.y < max_y and p.y >= 0 and p.x < max_x and p.x >= 0 and map[p.y][p.x] == \".\"]\n",
    "    return new_positions\n",
    "\n",
    "for x in range(num_steps):\n",
    "    new = set()\n",
    "    for pos in current:\n",
    "        positions = possible_positions(pos, map)\n",
    "        for p in positions:\n",
    "            new.add(p)\n",
    "    current = new\n",
    "current"
   ]
  },
  {
   "cell_type": "code",
   "execution_count": 36,
   "metadata": {},
   "outputs": [
    {
     "data": {
      "text/plain": [
       "42"
      ]
     },
     "execution_count": 36,
     "metadata": {},
     "output_type": "execute_result"
    }
   ],
   "source": [
    "len(current)"
   ]
  },
  {
   "cell_type": "markdown",
   "metadata": {},
   "source": [
    "## Part 2"
   ]
  },
  {
   "cell_type": "code",
   "execution_count": 42,
   "metadata": {},
   "outputs": [],
   "source": [
    "def possible_positions2(position: Point, map: list[str]):\n",
    "    max_y = len(map)\n",
    "    max_x = len(map[0])\n",
    "\n",
    "    new_positions = [position + d for d in Direction]\n",
    "    res = []\n",
    "    for pos in new_positions:\n",
    "        y, x = pos\n",
    "        y = y % max_y\n",
    "        x = x % max_x\n",
    "\n",
    "        if map[y][x] == \".\":\n",
    "            # res.append(pos)\n",
    "            res.append(Point(y, x))\n",
    "\n",
    "    return res"
   ]
  },
  {
   "cell_type": "code",
   "execution_count": 46,
   "metadata": {},
   "outputs": [
    {
     "data": {
      "text/plain": [
       "{Point(y=0, x=0),\n",
       " Point(y=0, x=1),\n",
       " Point(y=0, x=2),\n",
       " Point(y=0, x=3),\n",
       " Point(y=0, x=4),\n",
       " Point(y=0, x=5),\n",
       " Point(y=0, x=6),\n",
       " Point(y=0, x=7),\n",
       " Point(y=0, x=8),\n",
       " Point(y=0, x=9),\n",
       " Point(y=0, x=10),\n",
       " Point(y=1, x=0),\n",
       " Point(y=1, x=1),\n",
       " Point(y=1, x=2),\n",
       " Point(y=1, x=3),\n",
       " Point(y=1, x=4),\n",
       " Point(y=1, x=8),\n",
       " Point(y=1, x=10),\n",
       " Point(y=2, x=0),\n",
       " Point(y=2, x=4),\n",
       " Point(y=2, x=7),\n",
       " Point(y=2, x=8),\n",
       " Point(y=2, x=10),\n",
       " Point(y=3, x=0),\n",
       " Point(y=3, x=1),\n",
       " Point(y=3, x=3),\n",
       " Point(y=3, x=5),\n",
       " Point(y=3, x=6),\n",
       " Point(y=3, x=7),\n",
       " Point(y=3, x=9),\n",
       " Point(y=3, x=10),\n",
       " Point(y=4, x=0),\n",
       " Point(y=4, x=1),\n",
       " Point(y=4, x=2),\n",
       " Point(y=4, x=3),\n",
       " Point(y=4, x=5),\n",
       " Point(y=4, x=7),\n",
       " Point(y=4, x=8),\n",
       " Point(y=4, x=9),\n",
       " Point(y=4, x=10),\n",
       " Point(y=5, x=0),\n",
       " Point(y=5, x=3),\n",
       " Point(y=5, x=4),\n",
       " Point(y=5, x=5),\n",
       " Point(y=5, x=10),\n",
       " Point(y=6, x=0),\n",
       " Point(y=6, x=3),\n",
       " Point(y=6, x=4),\n",
       " Point(y=6, x=6),\n",
       " Point(y=6, x=7),\n",
       " Point(y=6, x=8),\n",
       " Point(y=6, x=10),\n",
       " Point(y=7, x=0),\n",
       " Point(y=7, x=1),\n",
       " Point(y=7, x=2),\n",
       " Point(y=7, x=3),\n",
       " Point(y=7, x=4),\n",
       " Point(y=7, x=5),\n",
       " Point(y=7, x=6),\n",
       " Point(y=7, x=9),\n",
       " Point(y=7, x=10),\n",
       " Point(y=8, x=0),\n",
       " Point(y=8, x=3),\n",
       " Point(y=8, x=5),\n",
       " Point(y=8, x=10),\n",
       " Point(y=9, x=0),\n",
       " Point(y=9, x=3),\n",
       " Point(y=9, x=4),\n",
       " Point(y=9, x=7),\n",
       " Point(y=9, x=10),\n",
       " Point(y=10, x=0),\n",
       " Point(y=10, x=1),\n",
       " Point(y=10, x=2),\n",
       " Point(y=10, x=3),\n",
       " Point(y=10, x=4),\n",
       " Point(y=10, x=5),\n",
       " Point(y=10, x=6),\n",
       " Point(y=10, x=7),\n",
       " Point(y=10, x=8),\n",
       " Point(y=10, x=9),\n",
       " Point(y=10, x=10)}"
      ]
     },
     "execution_count": 46,
     "metadata": {},
     "output_type": "execute_result"
    }
   ],
   "source": [
    "num_steps = 5000\n",
    "\n",
    "current = set([starting_position])\n",
    "\n",
    "\n",
    "for x in range(num_steps):\n",
    "    new = set()\n",
    "    for pos in current:\n",
    "        positions = possible_positions2(pos, map)\n",
    "        for p in positions:\n",
    "            new.add(p)\n",
    "    current = new\n",
    "current"
   ]
  },
  {
   "cell_type": "code",
   "execution_count": 41,
   "metadata": {},
   "outputs": [
    {
     "data": {
      "text/plain": [
       "6536"
      ]
     },
     "execution_count": 41,
     "metadata": {},
     "output_type": "execute_result"
    }
   ],
   "source": [
    "len(current)"
   ]
  }
 ],
 "metadata": {
  "kernelspec": {
   "display_name": "env",
   "language": "python",
   "name": "python3"
  },
  "language_info": {
   "codemirror_mode": {
    "name": "ipython",
    "version": 3
   },
   "file_extension": ".py",
   "mimetype": "text/x-python",
   "name": "python",
   "nbconvert_exporter": "python",
   "pygments_lexer": "ipython3",
   "version": "3.10.13"
  }
 },
 "nbformat": 4,
 "nbformat_minor": 2
}
