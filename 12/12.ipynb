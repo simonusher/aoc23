{
 "cells": [
  {
   "cell_type": "code",
   "execution_count": 551,
   "metadata": {},
   "outputs": [],
   "source": [
    "import regex as re"
   ]
  },
  {
   "cell_type": "code",
   "execution_count": 552,
   "metadata": {},
   "outputs": [],
   "source": [
    "def get_block_lengths(line: str) -> list[int]:\n",
    "    \n",
    "    blocks = [block for block in line.replace(\"?\", \".\").split(\".\") if len(block) > 0]\n",
    "    block_lengths = [len(block) for block in blocks]\n",
    "    return block_lengths\n",
    "\n",
    "def satisfied(line: str, contiguous_broken: list[int]) -> bool:\n",
    "    return get_block_lengths(line) == contiguous_broken\n",
    "\n",
    "\n",
    "def still_possible(line: str, blocks: list[int]) -> bool:\n",
    "    # print(line)\n",
    "    num_hashes = line.count(\"#\")\n",
    "    num_question_marks = line.count(\"?\")\n",
    "    expected_num_hashes = sum(blocks)\n",
    "    diff = expected_num_hashes - num_hashes\n",
    "    if diff < 0: # more than expected:\n",
    "        return False\n",
    "    elif diff > 0:\n",
    "        if diff > num_question_marks: # not enough to satisfy constraint\n",
    "            return False\n",
    "\n",
    "    current_line = line\n",
    "    block_to_verify = 0\n",
    "\n",
    "    while block_to_verify < len(blocks):\n",
    "        match = re.match(\"^[^#\\?]*(#+)\", current_line)\n",
    "        # print(match)\n",
    "        if match:\n",
    "            hashes = match.group(1)\n",
    "            _, span_end = match.span()\n",
    "            num_hashes = len(hashes)\n",
    "            block = blocks[block_to_verify]\n",
    "\n",
    "            # print(f\"\\t{match}\", span_end, num_hashes, block)\n",
    "\n",
    "            if num_hashes < block:\n",
    "                return current_line[span_end] == \"?\"\n",
    "\n",
    "            elif num_hashes > block:\n",
    "                return False\n",
    "            \n",
    "            else: # num_hashes == block\n",
    "                current_line = current_line[span_end:]\n",
    "                block_to_verify += 1\n",
    "        else:\n",
    "            match = re.match(\"^[^#\\?]*(#+)\", current_line)\n",
    "            return True\n",
    "    return True\n",
    "\n",
    "def constraint_broken(line: str, contiguous_broken: list[int]) -> bool:\n",
    "    block_lengths = get_block_lengths(line)\n",
    "    if \"?\" in line:\n",
    "        return any([x > max(contiguous_broken) for x in block_lengths])\n",
    "        # if ble:\n",
    "        #     print(line, contiguous_broken, block_lengths)\n",
    "            # return True\n",
    "        # if len(block_lengths) > len(contiguous_broken):\n",
    "        #     print(line, contiguous_broken, block_lengths)\n",
    "        #     return True\n",
    "\n",
    "        # for expected, actual in zip(contiguous_broken, block_lengths):\n",
    "        #     if expected < actual:\n",
    "        #         print(line, contiguous_broken, block_lengths)\n",
    "        #         return True\n",
    "\n",
    "        # return False\n",
    "    else:\n",
    "        return not satisfied(line, contiguous_broken)"
   ]
  },
  {
   "cell_type": "code",
   "execution_count": 553,
   "metadata": {},
   "outputs": [],
   "source": [
    "def generate_solutions(line: str, contiguous_broken: list[int], current_block_index: int = 0) -> list[str]:\n",
    "    if \"?\" in line:\n",
    "        current_block = contiguous_broken[current_block_index]\n",
    "        possible = still_possible(line, contiguous_broken)\n",
    "        # print(line, possible)\n",
    "        if possible:\n",
    "            unbroken_solution = line.replace(\"?\", \".\", 1)\n",
    "            broken_solution = line.replace(\"?\", \"#\", 1)\n",
    "\n",
    "            return generate_solutions(broken_solution, contiguous_broken) + generate_solutions(unbroken_solution, contiguous_broken)\n",
    "        else:\n",
    "            return []\n",
    "    else:\n",
    "        if satisfied(line, contiguous_broken):\n",
    "            return [line]\n",
    "        else:\n",
    "            return []"
   ]
  },
  {
   "cell_type": "code",
   "execution_count": 554,
   "metadata": {},
   "outputs": [
    {
     "data": {
      "text/plain": [
       "['.#...#....###.', '.#....#...###.', '..#..#....###.', '..#...#...###.']"
      ]
     },
     "execution_count": 554,
     "metadata": {},
     "output_type": "execute_result"
    }
   ],
   "source": [
    "generate_solutions(\".??..??...?##.\", [1,1,3])"
   ]
  },
  {
   "cell_type": "code",
   "execution_count": 555,
   "metadata": {},
   "outputs": [
    {
     "data": {
      "text/plain": [
       "[('???.###', [1, 1, 3]),\n",
       " ('.??..??...?##.', [1, 1, 3]),\n",
       " ('?#?#?#?#?#?#?#?', [1, 3, 1, 6]),\n",
       " ('????.#...#...', [4, 1, 1]),\n",
       " ('????.######..#####.', [1, 6, 5])]"
      ]
     },
     "execution_count": 555,
     "metadata": {},
     "output_type": "execute_result"
    }
   ],
   "source": [
    "with open(\"12/example.txt\") as f:\n",
    "    lines = f.read().splitlines()\n",
    "lines = [line.split() for line in lines]\n",
    "line_constraints: list[tuple[str, list[int]]] = [(line, [int(x) for x in blocks.split(\",\")]) for line, blocks in lines]\n",
    "line_constraints[:5]"
   ]
  },
  {
   "cell_type": "code",
   "execution_count": 556,
   "metadata": {},
   "outputs": [
    {
     "name": "stderr",
     "output_type": "stream",
     "text": [
      "100%|██████████| 6/6 [00:00<00:00, 1643.86it/s]\n"
     ]
    },
    {
     "data": {
      "text/plain": [
       "[1, 4, 1, 1, 4, 10]"
      ]
     },
     "execution_count": 556,
     "metadata": {},
     "output_type": "execute_result"
    }
   ],
   "source": [
    "from tqdm import tqdm\n",
    "\n",
    "def get_solutions_for_lines(line_constraints):\n",
    "    solutions = []\n",
    "    for line, blocks in tqdm(line_constraints):\n",
    "        possible_solutions = set(generate_solutions(line, blocks))\n",
    "        solutions.append(possible_solutions)\n",
    "    return solutions\n",
    "\n",
    "solutions = get_solutions_for_lines(line_constraints)\n",
    "num_solutions = [len(s) for s in solutions]\n",
    "num_solutions"
   ]
  },
  {
   "cell_type": "code",
   "execution_count": 557,
   "metadata": {},
   "outputs": [
    {
     "data": {
      "text/plain": [
       "21"
      ]
     },
     "execution_count": 557,
     "metadata": {},
     "output_type": "execute_result"
    }
   ],
   "source": [
    "sum(num_solutions)"
   ]
  },
  {
   "cell_type": "markdown",
   "metadata": {},
   "source": [
    "# Part 2"
   ]
  },
  {
   "cell_type": "code",
   "execution_count": 558,
   "metadata": {},
   "outputs": [],
   "source": [
    "def expand_line(line: str, contiguous_broken: list[int], times=5) -> tuple[str, list[int]]:\n",
    "    return \"?\".join([line] * times), contiguous_broken * times"
   ]
  },
  {
   "cell_type": "code",
   "execution_count": 559,
   "metadata": {},
   "outputs": [
    {
     "data": {
      "text/plain": [
       "[('???.###????.###????.###????.###????.###',\n",
       "  [1, 1, 3, 1, 1, 3, 1, 1, 3, 1, 1, 3, 1, 1, 3]),\n",
       " ('.??..??...?##.?.??..??...?##.?.??..??...?##.?.??..??...?##.?.??..??...?##.',\n",
       "  [1, 1, 3, 1, 1, 3, 1, 1, 3, 1, 1, 3, 1, 1, 3]),\n",
       " ('?#?#?#?#?#?#?#???#?#?#?#?#?#?#???#?#?#?#?#?#?#???#?#?#?#?#?#?#???#?#?#?#?#?#?#?',\n",
       "  [1, 3, 1, 6, 1, 3, 1, 6, 1, 3, 1, 6, 1, 3, 1, 6, 1, 3, 1, 6]),\n",
       " ('????.#...#...?????.#...#...?????.#...#...?????.#...#...?????.#...#...',\n",
       "  [4, 1, 1, 4, 1, 1, 4, 1, 1, 4, 1, 1, 4, 1, 1]),\n",
       " ('????.######..#####.?????.######..#####.?????.######..#####.?????.######..#####.?????.######..#####.',\n",
       "  [1, 6, 5, 1, 6, 5, 1, 6, 5, 1, 6, 5, 1, 6, 5]),\n",
       " ('?###??????????###??????????###??????????###??????????###????????',\n",
       "  [3, 2, 1, 3, 2, 1, 3, 2, 1, 3, 2, 1, 3, 2, 1])]"
      ]
     },
     "execution_count": 559,
     "metadata": {},
     "output_type": "execute_result"
    }
   ],
   "source": [
    "expanded_constraints = [\n",
    "    expand_line(*constraint, times=5)\n",
    "    for constraint in line_constraints\n",
    "]\n",
    "expanded_constraints"
   ]
  },
  {
   "cell_type": "code",
   "execution_count": 560,
   "metadata": {},
   "outputs": [
    {
     "name": "stderr",
     "output_type": "stream",
     "text": [
      " 17%|█▋        | 1/6 [00:04<00:24,  4.98s/it]\n"
     ]
    },
    {
     "ename": "KeyboardInterrupt",
     "evalue": "",
     "output_type": "error",
     "traceback": [
      "\u001b[0;31m---------------------------------------------------------------------------\u001b[0m",
      "\u001b[0;31mKeyboardInterrupt\u001b[0m                         Traceback (most recent call last)",
      "Cell \u001b[0;32mIn[560], line 1\u001b[0m\n\u001b[0;32m----> 1\u001b[0m solutions \u001b[38;5;241m=\u001b[39m \u001b[43mget_solutions_for_lines\u001b[49m\u001b[43m(\u001b[49m\u001b[43mexpanded_constraints\u001b[49m\u001b[43m)\u001b[49m\n\u001b[1;32m      2\u001b[0m num_solutions \u001b[38;5;241m=\u001b[39m [\u001b[38;5;28mlen\u001b[39m(s) \u001b[38;5;28;01mfor\u001b[39;00m s \u001b[38;5;129;01min\u001b[39;00m solutions]\n\u001b[1;32m      3\u001b[0m num_solutions\n",
      "Cell \u001b[0;32mIn[556], line 6\u001b[0m, in \u001b[0;36mget_solutions_for_lines\u001b[0;34m(line_constraints)\u001b[0m\n\u001b[1;32m      4\u001b[0m solutions \u001b[38;5;241m=\u001b[39m []\n\u001b[1;32m      5\u001b[0m \u001b[38;5;28;01mfor\u001b[39;00m line, blocks \u001b[38;5;129;01min\u001b[39;00m tqdm(line_constraints):\n\u001b[0;32m----> 6\u001b[0m     possible_solutions \u001b[38;5;241m=\u001b[39m \u001b[38;5;28mset\u001b[39m(\u001b[43mgenerate_solutions\u001b[49m\u001b[43m(\u001b[49m\u001b[43mline\u001b[49m\u001b[43m,\u001b[49m\u001b[43m \u001b[49m\u001b[43mblocks\u001b[49m\u001b[43m)\u001b[49m)\n\u001b[1;32m      7\u001b[0m     solutions\u001b[38;5;241m.\u001b[39mappend(possible_solutions)\n\u001b[1;32m      8\u001b[0m \u001b[38;5;28;01mreturn\u001b[39;00m solutions\n",
      "Cell \u001b[0;32mIn[553], line 10\u001b[0m, in \u001b[0;36mgenerate_solutions\u001b[0;34m(line, contiguous_broken, current_block_index)\u001b[0m\n\u001b[1;32m      7\u001b[0m     unbroken_solution \u001b[38;5;241m=\u001b[39m line\u001b[38;5;241m.\u001b[39mreplace(\u001b[38;5;124m\"\u001b[39m\u001b[38;5;124m?\u001b[39m\u001b[38;5;124m\"\u001b[39m, \u001b[38;5;124m\"\u001b[39m\u001b[38;5;124m.\u001b[39m\u001b[38;5;124m\"\u001b[39m, \u001b[38;5;241m1\u001b[39m)\n\u001b[1;32m      8\u001b[0m     broken_solution \u001b[38;5;241m=\u001b[39m line\u001b[38;5;241m.\u001b[39mreplace(\u001b[38;5;124m\"\u001b[39m\u001b[38;5;124m?\u001b[39m\u001b[38;5;124m\"\u001b[39m, \u001b[38;5;124m\"\u001b[39m\u001b[38;5;124m#\u001b[39m\u001b[38;5;124m\"\u001b[39m, \u001b[38;5;241m1\u001b[39m)\n\u001b[0;32m---> 10\u001b[0m     \u001b[38;5;28;01mreturn\u001b[39;00m generate_solutions(broken_solution, contiguous_broken) \u001b[38;5;241m+\u001b[39m \u001b[43mgenerate_solutions\u001b[49m\u001b[43m(\u001b[49m\u001b[43munbroken_solution\u001b[49m\u001b[43m,\u001b[49m\u001b[43m \u001b[49m\u001b[43mcontiguous_broken\u001b[49m\u001b[43m)\u001b[49m\n\u001b[1;32m     11\u001b[0m \u001b[38;5;28;01melse\u001b[39;00m:\n\u001b[1;32m     12\u001b[0m     \u001b[38;5;28;01mreturn\u001b[39;00m []\n",
      "Cell \u001b[0;32mIn[553], line 10\u001b[0m, in \u001b[0;36mgenerate_solutions\u001b[0;34m(line, contiguous_broken, current_block_index)\u001b[0m\n\u001b[1;32m      7\u001b[0m     unbroken_solution \u001b[38;5;241m=\u001b[39m line\u001b[38;5;241m.\u001b[39mreplace(\u001b[38;5;124m\"\u001b[39m\u001b[38;5;124m?\u001b[39m\u001b[38;5;124m\"\u001b[39m, \u001b[38;5;124m\"\u001b[39m\u001b[38;5;124m.\u001b[39m\u001b[38;5;124m\"\u001b[39m, \u001b[38;5;241m1\u001b[39m)\n\u001b[1;32m      8\u001b[0m     broken_solution \u001b[38;5;241m=\u001b[39m line\u001b[38;5;241m.\u001b[39mreplace(\u001b[38;5;124m\"\u001b[39m\u001b[38;5;124m?\u001b[39m\u001b[38;5;124m\"\u001b[39m, \u001b[38;5;124m\"\u001b[39m\u001b[38;5;124m#\u001b[39m\u001b[38;5;124m\"\u001b[39m, \u001b[38;5;241m1\u001b[39m)\n\u001b[0;32m---> 10\u001b[0m     \u001b[38;5;28;01mreturn\u001b[39;00m \u001b[43mgenerate_solutions\u001b[49m\u001b[43m(\u001b[49m\u001b[43mbroken_solution\u001b[49m\u001b[43m,\u001b[49m\u001b[43m \u001b[49m\u001b[43mcontiguous_broken\u001b[49m\u001b[43m)\u001b[49m \u001b[38;5;241m+\u001b[39m generate_solutions(unbroken_solution, contiguous_broken)\n\u001b[1;32m     11\u001b[0m \u001b[38;5;28;01melse\u001b[39;00m:\n\u001b[1;32m     12\u001b[0m     \u001b[38;5;28;01mreturn\u001b[39;00m []\n",
      "    \u001b[0;31m[... skipping similar frames: generate_solutions at line 10 (23 times)]\u001b[0m\n",
      "Cell \u001b[0;32mIn[553], line 10\u001b[0m, in \u001b[0;36mgenerate_solutions\u001b[0;34m(line, contiguous_broken, current_block_index)\u001b[0m\n\u001b[1;32m      7\u001b[0m     unbroken_solution \u001b[38;5;241m=\u001b[39m line\u001b[38;5;241m.\u001b[39mreplace(\u001b[38;5;124m\"\u001b[39m\u001b[38;5;124m?\u001b[39m\u001b[38;5;124m\"\u001b[39m, \u001b[38;5;124m\"\u001b[39m\u001b[38;5;124m.\u001b[39m\u001b[38;5;124m\"\u001b[39m, \u001b[38;5;241m1\u001b[39m)\n\u001b[1;32m      8\u001b[0m     broken_solution \u001b[38;5;241m=\u001b[39m line\u001b[38;5;241m.\u001b[39mreplace(\u001b[38;5;124m\"\u001b[39m\u001b[38;5;124m?\u001b[39m\u001b[38;5;124m\"\u001b[39m, \u001b[38;5;124m\"\u001b[39m\u001b[38;5;124m#\u001b[39m\u001b[38;5;124m\"\u001b[39m, \u001b[38;5;241m1\u001b[39m)\n\u001b[0;32m---> 10\u001b[0m     \u001b[38;5;28;01mreturn\u001b[39;00m generate_solutions(broken_solution, contiguous_broken) \u001b[38;5;241m+\u001b[39m \u001b[43mgenerate_solutions\u001b[49m\u001b[43m(\u001b[49m\u001b[43munbroken_solution\u001b[49m\u001b[43m,\u001b[49m\u001b[43m \u001b[49m\u001b[43mcontiguous_broken\u001b[49m\u001b[43m)\u001b[49m\n\u001b[1;32m     11\u001b[0m \u001b[38;5;28;01melse\u001b[39;00m:\n\u001b[1;32m     12\u001b[0m     \u001b[38;5;28;01mreturn\u001b[39;00m []\n",
      "Cell \u001b[0;32mIn[553], line 4\u001b[0m, in \u001b[0;36mgenerate_solutions\u001b[0;34m(line, contiguous_broken, current_block_index)\u001b[0m\n\u001b[1;32m      2\u001b[0m \u001b[38;5;28;01mif\u001b[39;00m \u001b[38;5;124m\"\u001b[39m\u001b[38;5;124m?\u001b[39m\u001b[38;5;124m\"\u001b[39m \u001b[38;5;129;01min\u001b[39;00m line:\n\u001b[1;32m      3\u001b[0m     current_block \u001b[38;5;241m=\u001b[39m contiguous_broken[current_block_index]\n\u001b[0;32m----> 4\u001b[0m     possible \u001b[38;5;241m=\u001b[39m \u001b[43mstill_possible\u001b[49m\u001b[43m(\u001b[49m\u001b[43mline\u001b[49m\u001b[43m,\u001b[49m\u001b[43m \u001b[49m\u001b[43mcontiguous_broken\u001b[49m\u001b[43m)\u001b[49m\n\u001b[1;32m      5\u001b[0m     \u001b[38;5;66;03m# print(line, possible)\u001b[39;00m\n\u001b[1;32m      6\u001b[0m     \u001b[38;5;28;01mif\u001b[39;00m possible:\n",
      "Cell \u001b[0;32mIn[552], line 27\u001b[0m, in \u001b[0;36mstill_possible\u001b[0;34m(line, blocks)\u001b[0m\n\u001b[1;32m     24\u001b[0m block_to_verify \u001b[38;5;241m=\u001b[39m \u001b[38;5;241m0\u001b[39m\n\u001b[1;32m     26\u001b[0m \u001b[38;5;28;01mwhile\u001b[39;00m block_to_verify \u001b[38;5;241m<\u001b[39m \u001b[38;5;28mlen\u001b[39m(blocks):\n\u001b[0;32m---> 27\u001b[0m     match \u001b[38;5;241m=\u001b[39m \u001b[43mre\u001b[49m\u001b[38;5;241;43m.\u001b[39;49m\u001b[43mmatch\u001b[49m\u001b[43m(\u001b[49m\u001b[38;5;124;43m\"\u001b[39;49m\u001b[38;5;124;43m^[^#\u001b[39;49m\u001b[38;5;124;43m\\\u001b[39;49m\u001b[38;5;124;43m?]*(#+)\u001b[39;49m\u001b[38;5;124;43m\"\u001b[39;49m\u001b[43m,\u001b[49m\u001b[43m \u001b[49m\u001b[43mcurrent_line\u001b[49m\u001b[43m)\u001b[49m\n\u001b[1;32m     28\u001b[0m     \u001b[38;5;66;03m# print(match)\u001b[39;00m\n\u001b[1;32m     29\u001b[0m     \u001b[38;5;28;01mif\u001b[39;00m match:\n",
      "File \u001b[0;32m~/projects/aoc23/env/lib/python3.10/site-packages/regex/regex.py:253\u001b[0m, in \u001b[0;36mmatch\u001b[0;34m(pattern, string, flags, pos, endpos, partial, concurrent, timeout, ignore_unused, **kwargs)\u001b[0m\n\u001b[1;32m    249\u001b[0m \u001b[38;5;28;01mdef\u001b[39;00m \u001b[38;5;21mmatch\u001b[39m(pattern, string, flags\u001b[38;5;241m=\u001b[39m\u001b[38;5;241m0\u001b[39m, pos\u001b[38;5;241m=\u001b[39m\u001b[38;5;28;01mNone\u001b[39;00m, endpos\u001b[38;5;241m=\u001b[39m\u001b[38;5;28;01mNone\u001b[39;00m, partial\u001b[38;5;241m=\u001b[39m\u001b[38;5;28;01mFalse\u001b[39;00m,\n\u001b[1;32m    250\u001b[0m   concurrent\u001b[38;5;241m=\u001b[39m\u001b[38;5;28;01mNone\u001b[39;00m, timeout\u001b[38;5;241m=\u001b[39m\u001b[38;5;28;01mNone\u001b[39;00m, ignore_unused\u001b[38;5;241m=\u001b[39m\u001b[38;5;28;01mFalse\u001b[39;00m, \u001b[38;5;241m*\u001b[39m\u001b[38;5;241m*\u001b[39mkwargs):\n\u001b[1;32m    251\u001b[0m \u001b[38;5;250m    \u001b[39m\u001b[38;5;124;03m\"\"\"Try to apply the pattern at the start of the string, returning a match\u001b[39;00m\n\u001b[1;32m    252\u001b[0m \u001b[38;5;124;03m    object, or None if no match was found.\"\"\"\u001b[39;00m\n\u001b[0;32m--> 253\u001b[0m     pat \u001b[38;5;241m=\u001b[39m \u001b[43m_compile\u001b[49m\u001b[43m(\u001b[49m\u001b[43mpattern\u001b[49m\u001b[43m,\u001b[49m\u001b[43m \u001b[49m\u001b[43mflags\u001b[49m\u001b[43m,\u001b[49m\u001b[43m \u001b[49m\u001b[43mignore_unused\u001b[49m\u001b[43m,\u001b[49m\u001b[43m \u001b[49m\u001b[43mkwargs\u001b[49m\u001b[43m,\u001b[49m\u001b[43m \u001b[49m\u001b[38;5;28;43;01mTrue\u001b[39;49;00m\u001b[43m)\u001b[49m\n\u001b[1;32m    254\u001b[0m     \u001b[38;5;28;01mreturn\u001b[39;00m pat\u001b[38;5;241m.\u001b[39mmatch(string, pos, endpos, concurrent, partial, timeout)\n",
      "\u001b[0;31mKeyboardInterrupt\u001b[0m: "
     ]
    }
   ],
   "source": [
    "solutions = get_solutions_for_lines(expanded_constraints)\n",
    "num_solutions = [len(s) for s in solutions]\n",
    "num_solutions"
   ]
  },
  {
   "cell_type": "code",
   "execution_count": 561,
   "metadata": {},
   "outputs": [
    {
     "data": {
      "text/plain": [
       "(True, 30, 15, 47)"
      ]
     },
     "execution_count": 561,
     "metadata": {},
     "output_type": "execute_result"
    }
   ],
   "source": [
    "line = \".###.?????????###??????????###??????????###??????????###????????\"\n",
    "blocks = [3, 2, 1, 3, 2, 1, 3, 2, 1, 3, 2, 1, 3, 2, 1]\n",
    "still_possible(line, blocks), sum(blocks), line.count(\"#\"), line.count(\"?\")"
   ]
  },
  {
   "cell_type": "code",
   "execution_count": 562,
   "metadata": {},
   "outputs": [
    {
     "data": {
      "text/plain": [
       "'.###.?????????###??????????###??????????###??????????###????????'"
      ]
     },
     "execution_count": 562,
     "metadata": {},
     "output_type": "execute_result"
    }
   ],
   "source": [
    "def possible_strings(line: str, block_length: int) -> list[str]:\n",
    "    matches = []\n",
    "    for match in re.finditer(\"[?#]{\" + str(block_length) + \"}\", line, overlapped=True):\n",
    "        span_start, span_end = match.span()\n",
    "\n",
    "    re.match(\"[?#]{}\", line)\n",
    "line"
   ]
  },
  {
   "cell_type": "code",
   "execution_count": 578,
   "metadata": {},
   "outputs": [],
   "source": [
    "def place_block(line: str, block: int) -> list[tuple[str, str]]:\n",
    "    solutions = []\n",
    "    pattern = \"[.?][?#]{\" + str(block) + \"}[.?]\"\n",
    "\n",
    "    line_extended = f\".{line}.\"\n",
    "    for x in re.finditer(pattern, line_extended, overlapped=True):\n",
    "        span_start, span_end = x.span()\n",
    "        fixed, to_solve = line_extended[:span_start] + \".\" + (\"#\" * block) + \".\", line_extended[span_end:-1]\n",
    "        fixed = fixed.replace(\"?\", \".\")\n",
    "        fixed = fixed[1:]\n",
    "        solutions.append((fixed, to_solve))\n",
    "    return solutions\n",
    "\n",
    "def generate_solutions2(line: str, blocks: list[int]):\n",
    "    solved = set()\n",
    "    working = [(\"\", line)]\n",
    "    for block in blocks:\n",
    "        new_working = []\n",
    "        for (fixed, to_solve) in working:\n",
    "            rest_solutions = place_block(to_solve, block)\n",
    "            for (f, ts) in rest_solutions:\n",
    "                sol = fixed + f + ts\n",
    "                if satisfied(sol, blocks):\n",
    "                    solved.add(sol.replace(\"?\", \".\"))\n",
    "                else:\n",
    "                    if still_possible(sol, blocks):\n",
    "                        new_working.append((fixed + f, ts))\n",
    "        working = new_working\n",
    "    return solved\n",
    "\n",
    "def get_solutions_for_lines2(line_constraints):\n",
    "    solutions = []\n",
    "    for line, blocks in tqdm(line_constraints):\n",
    "        possible_solutions = set(generate_solutions2(line, blocks))\n",
    "        solutions.append(possible_solutions)\n",
    "    return solutions"
   ]
  },
  {
   "cell_type": "code",
   "execution_count": 579,
   "metadata": {},
   "outputs": [
    {
     "data": {
      "text/plain": [
       "('???.###', [1, 1, 3])"
      ]
     },
     "execution_count": 579,
     "metadata": {},
     "output_type": "execute_result"
    }
   ],
   "source": [
    "line, blocks = line_constraints[0]\n",
    "line, blocks"
   ]
  },
  {
   "cell_type": "code",
   "execution_count": 581,
   "metadata": {},
   "outputs": [
    {
     "data": {
      "text/plain": [
       "[1, 4, 1, 1, 4, 10]"
      ]
     },
     "execution_count": 581,
     "metadata": {},
     "output_type": "execute_result"
    }
   ],
   "source": [
    "[len(generate_solutions2(*c)) for c in line_constraints]"
   ]
  }
 ],
 "metadata": {
  "kernelspec": {
   "display_name": "env",
   "language": "python",
   "name": "python3"
  },
  "language_info": {
   "codemirror_mode": {
    "name": "ipython",
    "version": 3
   },
   "file_extension": ".py",
   "mimetype": "text/x-python",
   "name": "python",
   "nbconvert_exporter": "python",
   "pygments_lexer": "ipython3",
   "version": "3.10.13"
  }
 },
 "nbformat": 4,
 "nbformat_minor": 2
}
