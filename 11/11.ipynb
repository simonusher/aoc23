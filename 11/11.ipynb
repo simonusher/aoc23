{
 "cells": [
  {
   "cell_type": "code",
   "execution_count": null,
   "metadata": {},
   "outputs": [],
   "source": [
    "from __future__ import annotations\n",
    "from collections import namedtuple\n",
    "from itertools import combinations\n",
    "\n",
    "with open(\"11/input.txt\") as f:\n",
    "    data = f.read().splitlines()\n",
    "data"
   ]
  },
  {
   "cell_type": "code",
   "execution_count": null,
   "metadata": {},
   "outputs": [],
   "source": [
    "class Point(namedtuple(\"Point\", [\"y\", \"x\"])):\n",
    "    def __add__(self, other: Point) -> Point:\n",
    "        return Point(self.y + other.y, self.x + other.x)\n",
    "    \n",
    "    def __sub__(self, other: Point) -> Point:\n",
    "        return Point(self.y - other.y, self.x - other.x)"
   ]
  },
  {
   "cell_type": "code",
   "execution_count": null,
   "metadata": {},
   "outputs": [],
   "source": [
    "def empty_indexes(lines: list[str]) -> tuple[list[int], list[int]]:\n",
    "    empty_rows = []\n",
    "    empty_columns = []\n",
    "\n",
    "    for i, row in enumerate(lines):\n",
    "        if all([char == \".\" for char in row]):\n",
    "            empty_rows.append(i)\n",
    "    \n",
    "    for col in range(len(lines[0])):\n",
    "        if all([row[col] == \".\" for row in lines]):\n",
    "            empty_columns.append(col)\n",
    "    \n",
    "    return empty_rows, empty_columns"
   ]
  },
  {
   "cell_type": "code",
   "execution_count": null,
   "metadata": {},
   "outputs": [],
   "source": [
    "galaxies = [\n",
    "    Point(y, x)\n",
    "    for y, row in enumerate(data)\n",
    "    for x, col in enumerate(row)\n",
    "    if col == \"#\"\n",
    "]\n",
    "galaxies"
   ]
  },
  {
   "cell_type": "code",
   "execution_count": null,
   "metadata": {},
   "outputs": [],
   "source": [
    "empty_rows, empty_cols = empty_indexes(data)\n",
    "empty_rows, empty_cols"
   ]
  },
  {
   "cell_type": "code",
   "execution_count": null,
   "metadata": {},
   "outputs": [],
   "source": [
    "def shortest_path(source: Point, target: Point, empty_rows: list[int], empty_cols: list[int], empty_multiplier: int):\n",
    "    diff = target - source\n",
    "    min_x, max_x = (source.x, target.x) if source.x < target.x else (target.x, source.x)\n",
    "    min_y, max_y = (source.y, target.y) if source.y < target.y else (target.y, source.y)\n",
    "\n",
    "    cols_between = [col for col in empty_cols if min_x < col < max_x]\n",
    "    rows_between = [row for row in empty_rows if min_y < row < max_y]\n",
    "    empty_multiplier = (empty_multiplier - 1)\n",
    "\n",
    "    expansion_addition = len(cols_between) * empty_multiplier + len(rows_between) * empty_multiplier\n",
    "    res = abs(diff.x) + abs(diff.y) + expansion_addition\n",
    "    return res"
   ]
  },
  {
   "cell_type": "code",
   "execution_count": null,
   "metadata": {},
   "outputs": [],
   "source": [
    "galaxy_pairs = list(combinations(galaxies, 2))\n",
    "paths = [shortest_path(*pair, empty_rows, empty_cols, 2) for pair in galaxy_pairs]\n",
    "paths"
   ]
  },
  {
   "cell_type": "code",
   "execution_count": null,
   "metadata": {},
   "outputs": [],
   "source": [
    "solution1 = sum(paths)\n",
    "solution1"
   ]
  },
  {
   "cell_type": "markdown",
   "metadata": {},
   "source": [
    "# Part 2"
   ]
  },
  {
   "cell_type": "code",
   "execution_count": null,
   "metadata": {},
   "outputs": [],
   "source": [
    "paths = [shortest_path(*pair, empty_rows, empty_cols, 1000000) for pair in galaxy_pairs]\n",
    "solution2 = sum(paths)\n",
    "solution2"
   ]
  }
 ],
 "metadata": {
  "kernelspec": {
   "display_name": "env",
   "language": "python",
   "name": "python3"
  },
  "language_info": {
   "codemirror_mode": {
    "name": "ipython",
    "version": 3
   },
   "file_extension": ".py",
   "mimetype": "text/x-python",
   "name": "python",
   "nbconvert_exporter": "python",
   "pygments_lexer": "ipython3",
   "version": "3.10.13"
  }
 },
 "nbformat": 4,
 "nbformat_minor": 2
}
