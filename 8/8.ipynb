{
 "cells": [
  {
   "cell_type": "code",
   "execution_count": null,
   "metadata": {},
   "outputs": [],
   "source": [
    "with open(\"8/input.txt\") as f:\n",
    "    data = f.read().splitlines()\n",
    "data"
   ]
  },
  {
   "cell_type": "code",
   "execution_count": null,
   "metadata": {},
   "outputs": [],
   "source": [
    "import re\n",
    "def parse_node(node_line: str) -> tuple[str, dict[str, str]]:\n",
    "    node_from, node_left, node_right = re.match(\"(.{3}) = \\((.{3}), (.{3})\\)\", node_line).groups()\n",
    "    return node_from, { \"L\": node_left, \"R\": node_right }\n",
    "\n",
    "def parse_all_nodes(nodes: list[str]) -> dict[str, dict[str, str]]:\n",
    "    return dict(parse_node(node) for node in nodes)"
   ]
  },
  {
   "cell_type": "code",
   "execution_count": null,
   "metadata": {},
   "outputs": [],
   "source": [
    "left_right_instructions = data[0]\n",
    "nodes = parse_all_nodes(data[2:])"
   ]
  },
  {
   "cell_type": "code",
   "execution_count": null,
   "metadata": {},
   "outputs": [],
   "source": [
    "left_right_instructions"
   ]
  },
  {
   "cell_type": "code",
   "execution_count": null,
   "metadata": {},
   "outputs": [],
   "source": [
    "def get_num_steps(starting_node=\"AAA\", end=lambda node: node == \"ZZZ\"):\n",
    "    current_node = starting_node\n",
    "    instruction_id = 0\n",
    "    while not(end(current_node)):\n",
    "        instruction = left_right_instructions[instruction_id % len(left_right_instructions)]\n",
    "        current_node = nodes[current_node][instruction]\n",
    "        instruction_id += 1\n",
    "    return instruction_id\n",
    "get_num_steps()"
   ]
  },
  {
   "cell_type": "markdown",
   "metadata": {},
   "source": [
    "## Part 2"
   ]
  },
  {
   "cell_type": "code",
   "execution_count": null,
   "metadata": {},
   "outputs": [],
   "source": [
    "import math\n",
    "\n",
    "def determine_interval(starting_node: str):\n",
    "    return get_num_steps(starting_node, end=lambda node: node.endswith(\"Z\"))\n",
    "\n",
    "starting_nodes = [node for node in nodes.keys() if node.endswith(\"A\")]\n",
    "intervals = [determine_interval(node) for node in starting_nodes]\n",
    "\n",
    "steps_required = math.lcm(*intervals)\n",
    "steps_required"
   ]
  }
 ],
 "metadata": {
  "kernelspec": {
   "display_name": "env",
   "language": "python",
   "name": "python3"
  },
  "language_info": {
   "codemirror_mode": {
    "name": "ipython",
    "version": 3
   },
   "file_extension": ".py",
   "mimetype": "text/x-python",
   "name": "python",
   "nbconvert_exporter": "python",
   "pygments_lexer": "ipython3",
   "version": "3.10.13"
  }
 },
 "nbformat": 4,
 "nbformat_minor": 2
}
