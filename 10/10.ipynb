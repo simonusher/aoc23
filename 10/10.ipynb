{
 "cells": [
  {
   "cell_type": "code",
   "execution_count": null,
   "metadata": {},
   "outputs": [],
   "source": [
    "FILE = \"input.txt\""
   ]
  },
  {
   "cell_type": "code",
   "execution_count": null,
   "metadata": {},
   "outputs": [],
   "source": [
    "from collections import namedtuple\n",
    "from typing import Literal, get_args, cast\n",
    "from dataclasses import dataclass\n",
    "\n",
    "\n",
    "Symbol = Literal[\"|\", \"-\", \"L\", \"J\", \"7\", \"F\", \".\", \"S\"]\n",
    "\n",
    "class Point(namedtuple(\"Point\", [\"y\", \"x\"])):\n",
    "    def __add__(self, other):\n",
    "        return Point(self.y + other.y, self.x + other.x)\n",
    "\n",
    "\n",
    "ADJACENT_COORDINATES = [\n",
    "    Point(-1,  0),\n",
    "    Point( 1,  0),\n",
    "    Point( 0, -1),\n",
    "    Point( 0,  1)\n",
    "]\n",
    "\n",
    "CONNECTS_TO: dict[Symbol, list[Point]] = {\n",
    "    \"|\": [Point(-1,  0), Point(1,  0)],\n",
    "    \"-\": [Point( 0, -1), Point(0,  1)],\n",
    "    \"L\": [Point(-1,  0), Point(0,  1)],\n",
    "    \"J\": [Point(-1,  0), Point(0, -1)],\n",
    "    \"7\": [Point( 1,  0), Point(0, -1)],\n",
    "    \"F\": [Point( 1,  0), Point(0,  1)],\n",
    "    \".\": [],\n",
    "    \"S\": [], # handled separately\n",
    "}\n",
    "\n",
    "STARTING_CHAR = \"S\"\n",
    "\n",
    "@dataclass(eq=True, frozen=True)\n",
    "class MapTile:\n",
    "    symbol: Symbol\n",
    "    point: Point\n",
    "    \n",
    "    def __str__(self) -> str:\n",
    "        return str(self.symbol)\n",
    "\n",
    "    def __repr__(self) -> str:\n",
    "        return f\"MapTile({self.symbol} @ (y={self.point.y}, x={self.point.x}))\"\n",
    "\n",
    "\n",
    "class Map(list[list[MapTile]]):\n",
    "    def __init__(self, iterable):\n",
    "        self.min_y = 0\n",
    "        self.max_y = len(iterable) - 1\n",
    "        self.min_x = 0\n",
    "        self.max_x = len(iterable[0]) - 1\n",
    "        super().__init__(iterable)\n",
    "    \n",
    "    def all_tiles(self):\n",
    "        for row in self:\n",
    "            for tile in row:\n",
    "                yield tile\n",
    "\n",
    "    def __getitem__(self, index):\n",
    "        if isinstance(index, Point):\n",
    "            y, x = index\n",
    "            return self[y][x]\n",
    "        return super().__getitem__(index)\n",
    "    \n",
    "    def point_valid(self, point: Point) -> bool:\n",
    "        return (self.min_y <= point.y <= self.max_y) and (self.min_x <= point.x <= self.max_x)\n",
    "    \n",
    "    def get_adjacent(self, tile: MapTile) -> list[MapTile]:\n",
    "        point = tile.point\n",
    "        adjacent = [point + adj for adj in ADJACENT_COORDINATES]\n",
    "        adjacent = [point for point in adjacent if self.point_valid(point)]\n",
    "        adjacent_tiles = [self[point] for point in adjacent]\n",
    "        return adjacent_tiles\n",
    "    \n",
    "    def possibly_connected(self, tile: MapTile) -> set[MapTile]:\n",
    "        point = tile.point\n",
    "        connected_coords = [point + coords for coords in CONNECTS_TO[tile.symbol]] # type: ignore\n",
    "        connected_coords = [point for point in connected_coords if self.point_valid(point)]\n",
    "        return set(self[point] for point in connected_coords)\n",
    "        \n",
    "    def get_connected(self, tile: MapTile) -> list[MapTile]:\n",
    "        connected = []\n",
    "        tile_connects_to = self.possibly_connected(tile)\n",
    "        for other_tile in tile_connects_to:\n",
    "            other_connected_to = self.possibly_connected(other_tile)\n",
    "            if tile in other_connected_to:\n",
    "                connected.append(other_tile)\n",
    "        return connected"
   ]
  },
  {
   "cell_type": "code",
   "execution_count": null,
   "metadata": {},
   "outputs": [],
   "source": [
    "def ensure_is_symbol(char: str) -> Symbol:\n",
    "    possible_values = get_args(Symbol)\n",
    "    if char in possible_values:\n",
    "        return cast(Symbol, char)\n",
    "    raise ValueError(f\"Wrong character: {char}. Should be one of {possible_values}\")\n",
    "\n",
    "def parse_map(data: str) -> Map:\n",
    "    return Map(\n",
    "        [\n",
    "            [\n",
    "                MapTile(ensure_is_symbol(char), Point(y, x)) for x, char in enumerate(list(row))\n",
    "            ]\n",
    "            for y, row in enumerate(data.splitlines())\n",
    "        ]\n",
    "    )\n",
    "\n",
    "def print_map(map: Map):\n",
    "    for row in map:\n",
    "        print(\"[\", *row, \"]\")"
   ]
  },
  {
   "cell_type": "code",
   "execution_count": null,
   "metadata": {},
   "outputs": [],
   "source": [
    "with open(f\"10/{FILE}\") as f:\n",
    "    data = f.read()\n",
    "map = parse_map(data)"
   ]
  },
  {
   "cell_type": "code",
   "execution_count": null,
   "metadata": {},
   "outputs": [],
   "source": [
    "print_map(map)"
   ]
  },
  {
   "cell_type": "markdown",
   "metadata": {},
   "source": [
    "## Coordinates\n",
    "Coordinates are assumed to be (y, x) with (0, 0) in the bottom left, y increasing down, and x increasing right."
   ]
  },
  {
   "cell_type": "code",
   "execution_count": null,
   "metadata": {},
   "outputs": [],
   "source": [
    "def find_starting_point(map: Map) -> MapTile:\n",
    "    for tile in map.all_tiles():\n",
    "        if tile.symbol == STARTING_CHAR:\n",
    "            return tile\n",
    "    raise ValueError(f\"Incorrect map, no starting char: {STARTING_CHAR}\")"
   ]
  },
  {
   "cell_type": "code",
   "execution_count": null,
   "metadata": {},
   "outputs": [],
   "source": [
    "starting_point = find_starting_point(map)\n",
    "adjacent_to_start = map.get_adjacent(starting_point)\n",
    "connected_to_start = []\n",
    "for tile in adjacent_to_start:\n",
    "    possibly_connected = map.possibly_connected(tile)\n",
    "    if starting_point in possibly_connected:\n",
    "        connected_to_start.append(tile)\n",
    "connected_to_start"
   ]
  },
  {
   "cell_type": "code",
   "execution_count": null,
   "metadata": {},
   "outputs": [],
   "source": [
    "visited = {starting_point: 0}\n",
    "to_visit = [(1, connected) for connected in connected_to_start]\n",
    "\n",
    "while len(to_visit) != 0:\n",
    "    (distance, tile), *to_visit = to_visit\n",
    "    if tile not in visited:\n",
    "        visited[tile] = distance\n",
    "        connected = map.get_connected(tile)\n",
    "        for connected_tile in connected:\n",
    "            if connected_tile not in visited:\n",
    "                to_visit.append((distance+1, connected_tile))"
   ]
  },
  {
   "cell_type": "code",
   "execution_count": null,
   "metadata": {},
   "outputs": [],
   "source": [
    "def print_visited(map: Map, visited: dict[MapTile, int]):\n",
    "    for row in map:\n",
    "        vis = []\n",
    "        for tile in row:\n",
    "            if tile in visited:\n",
    "                vis.append(visited[tile])\n",
    "            else:\n",
    "                vis.append(\".\")\n",
    "        print(\"[\", *vis, \"]\")"
   ]
  },
  {
   "cell_type": "code",
   "execution_count": null,
   "metadata": {},
   "outputs": [],
   "source": [
    "visited"
   ]
  },
  {
   "cell_type": "code",
   "execution_count": null,
   "metadata": {},
   "outputs": [],
   "source": [
    "print_visited(map, visited)"
   ]
  },
  {
   "cell_type": "code",
   "execution_count": null,
   "metadata": {},
   "outputs": [],
   "source": [
    "max(visited.values())"
   ]
  },
  {
   "cell_type": "code",
   "execution_count": null,
   "metadata": {},
   "outputs": [],
   "source": []
  }
 ],
 "metadata": {
  "kernelspec": {
   "display_name": "env",
   "language": "python",
   "name": "python3"
  },
  "language_info": {
   "codemirror_mode": {
    "name": "ipython",
    "version": 3
   },
   "file_extension": ".py",
   "mimetype": "text/x-python",
   "name": "python",
   "nbconvert_exporter": "python",
   "pygments_lexer": "ipython3",
   "version": "3.10.13"
  }
 },
 "nbformat": 4,
 "nbformat_minor": 2
}
