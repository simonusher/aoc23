{
 "cells": [
  {
   "cell_type": "code",
   "execution_count": 44,
   "metadata": {},
   "outputs": [],
   "source": [
    "FILE = \"example5.txt\""
   ]
  },
  {
   "cell_type": "code",
   "execution_count": 45,
   "metadata": {},
   "outputs": [],
   "source": [
    "from collections import namedtuple\n",
    "from typing import Literal, get_args, cast\n",
    "from dataclasses import dataclass, field\n",
    "\n",
    "\n",
    "Symbol = Literal[\"|\", \"-\", \"L\", \"J\", \"7\", \"F\", \".\", \"S\", \"X\"]\n",
    "\n",
    "class Point(namedtuple(\"Point\", [\"y\", \"x\"])):\n",
    "    def __add__(self, other):\n",
    "        return Point(self.y + other.y, self.x + other.x)\n",
    "    \n",
    "    def __sub__(self, other):\n",
    "        return Point(self.y - other.y, self.x - other.x)\n",
    "        \n",
    "\n",
    "\n",
    "ADJACENT_COORDINATES = [\n",
    "    Point(-1,  0),\n",
    "    Point( 1,  0),\n",
    "    Point( 0, -1),\n",
    "    Point( 0,  1)\n",
    "]\n",
    "\n",
    "CONNECTS_TO: dict[Symbol, tuple[Point, Point] | tuple] = {\n",
    "    \"|\": (Point(-1,  0), Point(1,  0)),\n",
    "    \"-\": (Point( 0, -1), Point(0,  1)),\n",
    "    \"L\": (Point(-1,  0), Point(0,  1)),\n",
    "    \"J\": (Point(-1,  0), Point(0, -1)),\n",
    "    \"7\": (Point( 1,  0), Point(0, -1)),\n",
    "    \"F\": (Point( 1,  0), Point(0,  1)),\n",
    "    \".\": ()\n",
    "}\n",
    "\n",
    "CONNECTED_TO_SYMBOL = {\n",
    "    tuple(sorted(connected)): symbol\n",
    "    for symbol, connected in CONNECTS_TO.items()\n",
    "}\n",
    "\n",
    "STARTING_CHAR = \"S\"\n",
    "\n",
    "@dataclass(eq=True, frozen=True)\n",
    "class MapTile:\n",
    "    symbol: Symbol = field(hash=True)\n",
    "    point: Point = field(hash=True)\n",
    "    is_loop: bool = field(default=False, hash=False)\n",
    "    is_added: bool = field(default=False, hash=False)\n",
    "    is_enclosed: bool = field(default=False, hash=False)\n",
    "\n",
    "    def set_loop(self, is_loop: bool):\n",
    "        return MapTile(self.symbol, self.point, is_loop, self.is_added, self.is_enclosed)\n",
    "    \n",
    "    def with_point(self, point: Point):\n",
    "        return MapTile(self.symbol, point, self.is_loop, self.is_added, self.is_enclosed)\n",
    "    \n",
    "    def with_enclosed(self, enclosed: bool):\n",
    "        return MapTile(self.symbol, self.point, self.is_loop, self.is_added, enclosed)\n",
    "    \n",
    "    def __eq__(self, __value: object) -> bool:\n",
    "        if isinstance(__value, MapTile):\n",
    "            return self.symbol == __value.symbol and self.point == __value.point\n",
    "        return False\n",
    "    \n",
    "    def __str__(self) -> str:\n",
    "        return str(self.symbol)\n",
    "\n",
    "    def __repr__(self) -> str:\n",
    "        return f\"MapTile({self.symbol} @ (y={self.point.y}, x={self.point.x}))\"\n",
    "\n",
    "\n",
    "class Map(list[list[MapTile]]):\n",
    "    def __init__(self, iterable):\n",
    "        self.min_y = 0\n",
    "        self.max_y = len(iterable) - 1\n",
    "        self.min_x = 0\n",
    "        self.max_x = len(iterable[0]) - 1\n",
    "        super().__init__(iterable)\n",
    "    \n",
    "    def all_tiles(self):\n",
    "        for row in self:\n",
    "            for tile in row:\n",
    "                yield tile\n",
    "\n",
    "    def __getitem__(self, index):\n",
    "        if isinstance(index, Point):\n",
    "            y, x = index\n",
    "            return self[y][x]\n",
    "        return super().__getitem__(index)\n",
    "    \n",
    "    def __setitem__(self, index, value):\n",
    "        print(index, value)\n",
    "        if isinstance(index, Point):\n",
    "            y, x = index\n",
    "            row = self[y]\n",
    "            row[x] = value\n",
    "            return\n",
    "        super().__setitem__(index, value)\n",
    "    \n",
    "    def point_valid(self, point: Point) -> bool:\n",
    "        return (self.min_y <= point.y <= self.max_y) and (self.min_x <= point.x <= self.max_x)\n",
    "    \n",
    "    def get_adjacent(self, tile: MapTile) -> list[MapTile]:\n",
    "        point = tile.point\n",
    "        adjacent = [point + adj for adj in ADJACENT_COORDINATES]\n",
    "        adjacent = [point for point in adjacent if self.point_valid(point)]\n",
    "        adjacent_tiles = [self[point] for point in adjacent]\n",
    "        return adjacent_tiles\n",
    "    \n",
    "    def possibly_connected(self, tile: MapTile) -> set[MapTile]:\n",
    "        point = tile.point\n",
    "        connected_coords = [point + coords for coords in CONNECTS_TO[tile.symbol]] # type: ignore\n",
    "        connected_coords = [point for point in connected_coords if self.point_valid(point)]\n",
    "        return set(self[point] for point in connected_coords)\n",
    "        \n",
    "    def get_connected(self, tile: MapTile) -> list[MapTile]:\n",
    "        connected = []\n",
    "        tile_connects_to = self.possibly_connected(tile)\n",
    "        for other_tile in tile_connects_to:\n",
    "            other_connected_to = self.possibly_connected(other_tile)\n",
    "            if tile in other_connected_to:\n",
    "                connected.append(other_tile)\n",
    "        return connected\n",
    "    \n",
    "    def connected(self, tile1: MapTile, tile2: MapTile) -> bool:\n",
    "        tile1_connects_to = self.possibly_connected(tile1)\n",
    "        if tile2 in tile1_connects_to:\n",
    "            tile2_connects_to = self.possibly_connected(tile2)\n",
    "            return tile1 in tile2_connects_to\n",
    "        return False\n",
    "\n",
    "    def calculate_enclosed(self, tile: MapTile) -> MapTile:\n",
    "        if tile.is_loop or tile.is_added:\n",
    "            return tile.with_enclosed(False)\n",
    "            \n",
    "        def is_exit(tile: MapTile) -> bool:\n",
    "            y, x = tile.point\n",
    "            return not tile.is_loop and x == self.min_x or x == self.max_x or y == self.min_y or y == self.max_y\n",
    "\n",
    "        def can_enter(tile: MapTile) -> bool:\n",
    "            return not tile.is_loop\n",
    "\n",
    "        adjacent = self.get_adjacent(tile)\n",
    "        adjacent_can_enter = [tile for tile in adjacent if can_enter(tile)]\n",
    "        visited = set()\n",
    "        to_visit = adjacent_can_enter\n",
    "\n",
    "        while len(to_visit) != 0:\n",
    "            # print([x.point for x in to_visit])\n",
    "            tile_to_visit, *to_visit = to_visit\n",
    "            if tile_to_visit not in visited:\n",
    "                if is_exit(tile_to_visit):\n",
    "                    return tile.with_enclosed(False)\n",
    "\n",
    "                adjacent = self.get_adjacent(tile_to_visit)\n",
    "                adjacent_can_enter = [tile for tile in adjacent if can_enter(tile)]\n",
    "\n",
    "                for adjactent_tile in adjacent_can_enter:\n",
    "                    if adjactent_tile not in visited:\n",
    "                        to_visit.append(adjactent_tile)\n",
    "\n",
    "                visited.add(tile_to_visit)\n",
    "\n",
    "        return tile.with_enclosed(True)\n",
    "        "
   ]
  },
  {
   "cell_type": "code",
   "execution_count": 46,
   "metadata": {},
   "outputs": [],
   "source": [
    "def ensure_is_symbol(char: str) -> Symbol:\n",
    "    possible_values = get_args(Symbol)\n",
    "    if char in possible_values:\n",
    "        return cast(Symbol, char)\n",
    "    raise ValueError(f\"Wrong character: {char}. Should be one of {possible_values}\")\n",
    "\n",
    "def parse_map(data: str) -> Map:\n",
    "    return Map(\n",
    "        [\n",
    "            [\n",
    "                MapTile(ensure_is_symbol(char), Point(y, x)) for x, char in enumerate(list(row))\n",
    "            ]\n",
    "            for y, row in enumerate(data.splitlines())\n",
    "        ]\n",
    "    )\n",
    "\n",
    "def print_map(map: Map):\n",
    "    for row in map:\n",
    "        print(\"[\", *row, \"]\")"
   ]
  },
  {
   "cell_type": "code",
   "execution_count": 47,
   "metadata": {},
   "outputs": [],
   "source": [
    "with open(f\"10/{FILE}\") as f:\n",
    "    data = f.read()\n",
    "map = parse_map(data)"
   ]
  },
  {
   "cell_type": "code",
   "execution_count": 48,
   "metadata": {},
   "outputs": [
    {
     "name": "stdout",
     "output_type": "stream",
     "text": [
      "[ . . . . . . . . . . ]\n",
      "[ . S - - - - - - 7 . ]\n",
      "[ . | F - - - - 7 | . ]\n",
      "[ . | | . . . . | | . ]\n",
      "[ . | | . . . . | | . ]\n",
      "[ . | L - 7 F - J | . ]\n",
      "[ . | . . | | . . | . ]\n",
      "[ . L - - J L - - J . ]\n",
      "[ . . . . . . . . . . ]\n"
     ]
    }
   ],
   "source": [
    "print_map(map)"
   ]
  },
  {
   "cell_type": "markdown",
   "metadata": {},
   "source": [
    "## Coordinates\n",
    "Coordinates are assumed to be (y, x) with (0, 0) in the bottom left, y increasing down, and x increasing right."
   ]
  },
  {
   "cell_type": "code",
   "execution_count": 49,
   "metadata": {},
   "outputs": [],
   "source": [
    "def find_starting_point(map: Map) -> MapTile:\n",
    "    for tile in map.all_tiles():\n",
    "        if tile.symbol == STARTING_CHAR:\n",
    "            return tile\n",
    "    raise ValueError(f\"Incorrect map, no starting char: {STARTING_CHAR}\")"
   ]
  },
  {
   "cell_type": "code",
   "execution_count": 50,
   "metadata": {},
   "outputs": [
    {
     "name": "stdout",
     "output_type": "stream",
     "text": [
      "Point(y=1, x=1) F\n"
     ]
    }
   ],
   "source": [
    "def starting_tile_type(map: Map):\n",
    "    starting_tile = find_starting_point(map)\n",
    "    adjacent_to_start = map.get_adjacent(starting_tile)\n",
    "    connected_to_start: list[MapTile] = []\n",
    "    for tile in adjacent_to_start:\n",
    "        possibly_connected = map.possibly_connected(tile)\n",
    "        if starting_tile in possibly_connected:\n",
    "            connected_to_start.append(tile)\n",
    "    coord_diffs = [tile.point - starting_tile.point for tile in connected_to_start]\n",
    "    start_type = CONNECTED_TO_SYMBOL[tuple(sorted(coord_diffs))]\n",
    "    return MapTile(start_type, starting_tile.point, True, starting_tile.is_added)\n",
    "\n",
    "starting_tile_replacement = starting_tile_type(map)\n",
    "map[starting_tile_replacement.point] = starting_tile_replacement"
   ]
  },
  {
   "cell_type": "code",
   "execution_count": 51,
   "metadata": {},
   "outputs": [],
   "source": [
    "starting_tile = starting_tile_replacement\n",
    "connected_to_start = map.get_connected(starting_tile)"
   ]
  },
  {
   "cell_type": "code",
   "execution_count": 52,
   "metadata": {},
   "outputs": [
    {
     "name": "stdout",
     "output_type": "stream",
     "text": [
      "Point(y=2, x=1) |\n",
      "Point(y=1, x=2) -\n",
      "Point(y=3, x=1) |\n",
      "Point(y=1, x=3) -\n",
      "Point(y=4, x=1) |\n",
      "Point(y=1, x=4) -\n",
      "Point(y=5, x=1) |\n",
      "Point(y=1, x=5) -\n",
      "Point(y=6, x=1) |\n",
      "Point(y=1, x=6) -\n",
      "Point(y=7, x=1) L\n",
      "Point(y=1, x=7) -\n",
      "Point(y=7, x=2) -\n",
      "Point(y=1, x=8) 7\n",
      "Point(y=7, x=3) -\n",
      "Point(y=2, x=8) |\n",
      "Point(y=7, x=4) J\n",
      "Point(y=3, x=8) |\n",
      "Point(y=6, x=4) |\n",
      "Point(y=4, x=8) |\n",
      "Point(y=5, x=4) 7\n",
      "Point(y=5, x=8) |\n",
      "Point(y=5, x=3) -\n",
      "Point(y=6, x=8) |\n",
      "Point(y=5, x=2) L\n",
      "Point(y=7, x=8) J\n",
      "Point(y=4, x=2) |\n",
      "Point(y=7, x=7) -\n",
      "Point(y=3, x=2) |\n",
      "Point(y=7, x=6) -\n",
      "Point(y=2, x=2) F\n",
      "Point(y=7, x=5) L\n",
      "Point(y=2, x=3) -\n",
      "Point(y=6, x=5) |\n",
      "Point(y=2, x=4) -\n",
      "Point(y=5, x=5) F\n",
      "Point(y=2, x=5) -\n",
      "Point(y=5, x=6) -\n",
      "Point(y=2, x=6) -\n",
      "Point(y=5, x=7) J\n",
      "Point(y=2, x=7) 7\n",
      "Point(y=4, x=7) |\n",
      "Point(y=3, x=7) |\n"
     ]
    }
   ],
   "source": [
    "visited = {starting_tile: 0}\n",
    "to_visit = [(1, connected) for connected in connected_to_start]\n",
    "\n",
    "while len(to_visit) != 0:\n",
    "    (distance, tile), *to_visit = to_visit\n",
    "    if tile not in visited:\n",
    "        visited[tile] = distance\n",
    "        map[tile.point] = tile.set_loop(True)\n",
    "        connected = map.get_connected(tile)\n",
    "        for connected_tile in connected:\n",
    "            if connected_tile not in visited:\n",
    "                to_visit.append((distance+1, connected_tile))"
   ]
  },
  {
   "cell_type": "code",
   "execution_count": 53,
   "metadata": {},
   "outputs": [],
   "source": [
    "def print_visited(map: Map, visited: dict[MapTile, int]):\n",
    "    for row in map:\n",
    "        vis = []\n",
    "        for tile in row:\n",
    "            if tile in visited:\n",
    "                vis.append(visited[tile])\n",
    "            else:\n",
    "                vis.append(\".\")\n",
    "        print(\"[\", *vis, \"]\")"
   ]
  },
  {
   "cell_type": "code",
   "execution_count": 54,
   "metadata": {},
   "outputs": [
    {
     "data": {
      "text/plain": [
       "{MapTile(F @ (y=1, x=1)): 0,\n",
       " MapTile(| @ (y=2, x=1)): 1,\n",
       " MapTile(- @ (y=1, x=2)): 1,\n",
       " MapTile(| @ (y=3, x=1)): 2,\n",
       " MapTile(- @ (y=1, x=3)): 2,\n",
       " MapTile(| @ (y=4, x=1)): 3,\n",
       " MapTile(- @ (y=1, x=4)): 3,\n",
       " MapTile(| @ (y=5, x=1)): 4,\n",
       " MapTile(- @ (y=1, x=5)): 4,\n",
       " MapTile(| @ (y=6, x=1)): 5,\n",
       " MapTile(- @ (y=1, x=6)): 5,\n",
       " MapTile(L @ (y=7, x=1)): 6,\n",
       " MapTile(- @ (y=1, x=7)): 6,\n",
       " MapTile(- @ (y=7, x=2)): 7,\n",
       " MapTile(7 @ (y=1, x=8)): 7,\n",
       " MapTile(- @ (y=7, x=3)): 8,\n",
       " MapTile(| @ (y=2, x=8)): 8,\n",
       " MapTile(J @ (y=7, x=4)): 9,\n",
       " MapTile(| @ (y=3, x=8)): 9,\n",
       " MapTile(| @ (y=6, x=4)): 10,\n",
       " MapTile(| @ (y=4, x=8)): 10,\n",
       " MapTile(7 @ (y=5, x=4)): 11,\n",
       " MapTile(| @ (y=5, x=8)): 11,\n",
       " MapTile(- @ (y=5, x=3)): 12,\n",
       " MapTile(| @ (y=6, x=8)): 12,\n",
       " MapTile(L @ (y=5, x=2)): 13,\n",
       " MapTile(J @ (y=7, x=8)): 13,\n",
       " MapTile(| @ (y=4, x=2)): 14,\n",
       " MapTile(- @ (y=7, x=7)): 14,\n",
       " MapTile(| @ (y=3, x=2)): 15,\n",
       " MapTile(- @ (y=7, x=6)): 15,\n",
       " MapTile(F @ (y=2, x=2)): 16,\n",
       " MapTile(L @ (y=7, x=5)): 16,\n",
       " MapTile(- @ (y=2, x=3)): 17,\n",
       " MapTile(| @ (y=6, x=5)): 17,\n",
       " MapTile(- @ (y=2, x=4)): 18,\n",
       " MapTile(F @ (y=5, x=5)): 18,\n",
       " MapTile(- @ (y=2, x=5)): 19,\n",
       " MapTile(- @ (y=5, x=6)): 19,\n",
       " MapTile(- @ (y=2, x=6)): 20,\n",
       " MapTile(J @ (y=5, x=7)): 20,\n",
       " MapTile(7 @ (y=2, x=7)): 21,\n",
       " MapTile(| @ (y=4, x=7)): 21,\n",
       " MapTile(| @ (y=3, x=7)): 22}"
      ]
     },
     "execution_count": 54,
     "metadata": {},
     "output_type": "execute_result"
    }
   ],
   "source": [
    "visited"
   ]
  },
  {
   "cell_type": "code",
   "execution_count": 55,
   "metadata": {},
   "outputs": [
    {
     "name": "stdout",
     "output_type": "stream",
     "text": [
      "[ . . . . . . . . . . ]\n",
      "[ . 0 1 2 3 4 5 6 7 . ]\n",
      "[ . 1 16 17 18 19 20 21 8 . ]\n",
      "[ . 2 15 . . . . 22 9 . ]\n",
      "[ . 3 14 . . . . 21 10 . ]\n",
      "[ . 4 13 12 11 18 19 20 11 . ]\n",
      "[ . 5 . . 10 17 . . 12 . ]\n",
      "[ . 6 7 8 9 16 15 14 13 . ]\n",
      "[ . . . . . . . . . . ]\n"
     ]
    }
   ],
   "source": [
    "print_visited(map, visited)"
   ]
  },
  {
   "cell_type": "code",
   "execution_count": 56,
   "metadata": {},
   "outputs": [
    {
     "data": {
      "text/plain": [
       "22"
      ]
     },
     "execution_count": 56,
     "metadata": {},
     "output_type": "execute_result"
    }
   ],
   "source": [
    "max(visited.values())"
   ]
  },
  {
   "cell_type": "code",
   "execution_count": 57,
   "metadata": {},
   "outputs": [
    {
     "data": {
      "text/plain": [
       "[MapTile(. @ (y=0, x=1)),\n",
       " MapTile(| @ (y=2, x=1)),\n",
       " MapTile(. @ (y=1, x=0)),\n",
       " MapTile(- @ (y=1, x=2))]"
      ]
     },
     "execution_count": 57,
     "metadata": {},
     "output_type": "execute_result"
    }
   ],
   "source": [
    "adjacent = map.get_adjacent(starting_tile)\n",
    "adjacent"
   ]
  },
  {
   "cell_type": "code",
   "execution_count": 58,
   "metadata": {},
   "outputs": [
    {
     "data": {
      "text/plain": [
       "True"
      ]
     },
     "execution_count": 58,
     "metadata": {},
     "output_type": "execute_result"
    }
   ],
   "source": [
    "map.connected(map[2][1], map[3][1])"
   ]
  },
  {
   "cell_type": "code",
   "execution_count": 59,
   "metadata": {},
   "outputs": [
    {
     "name": "stdout",
     "output_type": "stream",
     "text": [
      "[ . . . . . . . . . . ]\n",
      "[ . F - - - - - - 7 . ]\n",
      "[ . | F - - - - 7 | . ]\n",
      "[ . | | . . . . | | . ]\n",
      "[ . | | . . . . | | . ]\n",
      "[ . | L - 7 F - J | . ]\n",
      "[ . | . . | | . . | . ]\n",
      "[ . L - - J L - - J . ]\n",
      "[ . . . . . . . . . . ]\n"
     ]
    }
   ],
   "source": [
    "print_map(map)"
   ]
  },
  {
   "cell_type": "code",
   "execution_count": 60,
   "metadata": {},
   "outputs": [],
   "source": [
    "from itertools import pairwise\n",
    "\n",
    "def expand_horizontally(map: Map):\n",
    "    new_rows = []\n",
    "    for row in map:\n",
    "        new_row = []\n",
    "        for tile1, tile2 in pairwise(row):\n",
    "            if tile1.is_loop and tile2.is_loop and map.connected(tile1, tile2):\n",
    "                new_point_is_loop = True\n",
    "                new_point_symbol = \"-\"\n",
    "            else:\n",
    "                new_point_is_loop = False\n",
    "                new_point_symbol = \"X\"\n",
    "            \n",
    "            new_x = len(new_row)\n",
    "            new_first_point = tile1.with_point(Point(tile1.point.y, new_x))\n",
    "            new_middle_point = MapTile(new_point_symbol, Point(tile1.point.y, new_x + 1), is_loop=new_point_is_loop, is_added=True)\n",
    "            \n",
    "            new_row.extend([new_first_point, new_middle_point])\n",
    "        last_tile = row[-1]\n",
    "        new_last_tile = last_tile.with_point(Point(last_tile.point.y, len(new_row)))\n",
    "        new_row.append(new_last_tile)\n",
    "        new_rows.append(new_row)\n",
    "    return Map(new_rows)\n",
    "\n",
    "def expand_vertically(map: Map):\n",
    "    new_rows = []\n",
    "    for row1, row2 in pairwise(map):\n",
    "        new_middle_row = []\n",
    "        new_y = len(new_rows) + 1\n",
    "        for new_x, (tile1, tile2) in enumerate(zip(row1, row2)):\n",
    "            if tile1.is_loop and tile2.is_loop and map.connected(tile1, tile2):\n",
    "                new_point_is_loop = True\n",
    "                new_point_symbol = \"|\"\n",
    "            else:\n",
    "                new_point_is_loop = False\n",
    "                new_point_symbol = \"X\"\n",
    "            \n",
    "            new_tile = MapTile(new_point_symbol, Point(new_y, new_x), is_loop=new_point_is_loop, is_added=True)\n",
    "            new_middle_row.append(new_tile)\n",
    "        \n",
    "        first_row_y = len(new_rows)\n",
    "        new_first_row = [tile.with_point(Point(first_row_y, tile.point.x)) for tile in row1]\n",
    "        new_rows.extend([new_first_row, new_middle_row])\n",
    "\n",
    "    last_row = map[-1]\n",
    "    new_last_y = len(new_rows)\n",
    "    new_last_row = [tile.with_point(Point(new_last_y, tile.point.x)) for tile in last_row]\n",
    "    new_rows.append(new_last_row)\n",
    "\n",
    "    return Map(new_rows)\n"
   ]
  },
  {
   "cell_type": "code",
   "execution_count": 61,
   "metadata": {},
   "outputs": [
    {
     "name": "stdout",
     "output_type": "stream",
     "text": [
      "[ . X . X . X . X . X . X . X . X . X . ]\n",
      "[ X X X X X X X X X X X X X X X X X X X ]\n",
      "[ . X F - - - - - - - - - - - - - 7 X . ]\n",
      "[ X X | X X X X X X X X X X X X X | X X ]\n",
      "[ . X | X F - - - - - - - - - 7 X | X . ]\n",
      "[ X X | X | X X X X X X X X X | X | X X ]\n",
      "[ . X | X | X . X . X . X . X | X | X . ]\n",
      "[ X X | X | X X X X X X X X X | X | X X ]\n",
      "[ . X | X | X . X . X . X . X | X | X . ]\n",
      "[ X X | X | X X X X X X X X X | X | X X ]\n",
      "[ . X | X L - - - 7 X F - - - J X | X . ]\n",
      "[ X X | X X X X X | X | X X X X X | X X ]\n",
      "[ . X | X . X . X | X | X . X . X | X . ]\n",
      "[ X X | X X X X X | X | X X X X X | X X ]\n",
      "[ . X L - - - - - J X L - - - - - J X . ]\n",
      "[ X X X X X X X X X X X X X X X X X X X ]\n",
      "[ . X . X . X . X . X . X . X . X . X . ]\n"
     ]
    }
   ],
   "source": [
    "new_map = expand_horizontally(map)\n",
    "new_map = expand_vertically(new_map)\n",
    "print_map(new_map)"
   ]
  },
  {
   "cell_type": "code",
   "execution_count": 62,
   "metadata": {},
   "outputs": [],
   "source": [
    "def print_enclosed(map: Map):\n",
    "    for row in map:\n",
    "        vis = []\n",
    "        for tile in row:\n",
    "            if tile.is_enclosed:\n",
    "                vis.append(\"I\")\n",
    "            else:\n",
    "                vis.append(tile.symbol)\n",
    "        print(\"[\", *vis, \"]\")"
   ]
  },
  {
   "cell_type": "code",
   "execution_count": 63,
   "metadata": {},
   "outputs": [
    {
     "name": "stderr",
     "output_type": "stream",
     "text": [
      "100%|██████████| 17/17 [00:00<00:00, 4000.85it/s]\n"
     ]
    }
   ],
   "source": [
    "from tqdm import tqdm\n",
    "all_tiles = len(new_map) * len(new_map[0])\n",
    "num_rows = len(new_map)\n",
    "\n",
    "new_rows = []\n",
    "for row in tqdm(new_map):\n",
    "    new_row = [new_map.calculate_enclosed(tile) for tile in row]\n",
    "    new_rows.append(new_row)\n",
    "\n",
    "enclosed_map = Map(new_rows)"
   ]
  },
  {
   "cell_type": "code",
   "execution_count": 64,
   "metadata": {},
   "outputs": [
    {
     "data": {
      "text/plain": [
       "4"
      ]
     },
     "execution_count": 64,
     "metadata": {},
     "output_type": "execute_result"
    }
   ],
   "source": [
    "sum(1 if tile.is_enclosed else 0 for tile in enclosed_map.all_tiles())"
   ]
  }
 ],
 "metadata": {
  "kernelspec": {
   "display_name": "env",
   "language": "python",
   "name": "python3"
  },
  "language_info": {
   "codemirror_mode": {
    "name": "ipython",
    "version": 3
   },
   "file_extension": ".py",
   "mimetype": "text/x-python",
   "name": "python",
   "nbconvert_exporter": "python",
   "pygments_lexer": "ipython3",
   "version": "3.10.13"
  }
 },
 "nbformat": 4,
 "nbformat_minor": 2
}
