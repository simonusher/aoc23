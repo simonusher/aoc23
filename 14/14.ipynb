{
 "cells": [
  {
   "cell_type": "code",
   "execution_count": null,
   "metadata": {},
   "outputs": [],
   "source": [
    "with open(\"14/input.txt\") as f:\n",
    "    rocks = f.read().splitlines()\n",
    "rocks"
   ]
  },
  {
   "cell_type": "code",
   "execution_count": null,
   "metadata": {},
   "outputs": [],
   "source": [
    "def calculate_load(rocks: list[str]):\n",
    "    return sum(row.count(\"O\") * i for i, row in enumerate(rocks[::-1], start=1))"
   ]
  },
  {
   "cell_type": "code",
   "execution_count": null,
   "metadata": {},
   "outputs": [],
   "source": [
    "def transpose(rocks: list[str]) -> list[str]:\n",
    "    return [\"\".join([row[i] for row in rocks]) for i in range(len(rocks[0]))]"
   ]
  },
  {
   "cell_type": "code",
   "execution_count": null,
   "metadata": {},
   "outputs": [],
   "source": [
    "def flip(rocks: list[str]) -> list[str]:\n",
    "    return [r[::-1] for r in rocks]"
   ]
  },
  {
   "cell_type": "code",
   "execution_count": null,
   "metadata": {},
   "outputs": [],
   "source": [
    "def identity(rocks: list[str]) -> list[str]:\n",
    "    return rocks"
   ]
  },
  {
   "cell_type": "code",
   "execution_count": null,
   "metadata": {},
   "outputs": [],
   "source": [
    "TILT = {\n",
    "    \"N\": (transpose, transpose),\n",
    "    \"E\": (flip, flip),\n",
    "    \"S\": (lambda x: flip(transpose(x)), lambda x: transpose(flip(x))),\n",
    "    \"W\": (identity, identity) \n",
    "}"
   ]
  },
  {
   "cell_type": "code",
   "execution_count": null,
   "metadata": {},
   "outputs": [],
   "source": [
    "def tilt(rocks: list[str], direction: str) -> list[str]:\n",
    "    to_f, from_f = TILT[direction]\n",
    "\n",
    "    transposed = to_f(rocks)\n",
    "    results = []\n",
    "    for row in transposed:\n",
    "        res = []\n",
    "        for part in row.split(\"#\"):\n",
    "            part_o = part.count(\"O\")\n",
    "            part_dots = part.count(\".\")\n",
    "            res.append(\"O\" * part_o + \".\" * part_dots)\n",
    "        results.append(\"#\".join(res))\n",
    "    return from_f(results)"
   ]
  },
  {
   "cell_type": "code",
   "execution_count": null,
   "metadata": {},
   "outputs": [],
   "source": [
    "rocks"
   ]
  },
  {
   "cell_type": "code",
   "execution_count": null,
   "metadata": {},
   "outputs": [],
   "source": [
    "calculate_load(tilt(rocks, \"N\"))"
   ]
  },
  {
   "cell_type": "markdown",
   "metadata": {},
   "source": [
    "## Part 2"
   ]
  },
  {
   "cell_type": "code",
   "execution_count": null,
   "metadata": {},
   "outputs": [],
   "source": [
    "def cycle(rocks: list[str]) -> list[str]:\n",
    "    for d in [\"N\", \"W\", \"S\", \"E\"]:\n",
    "        rocks = tilt(rocks, d)\n",
    "    return rocks"
   ]
  },
  {
   "cell_type": "code",
   "execution_count": null,
   "metadata": {},
   "outputs": [],
   "source": [
    "def get_cycle(rocks: list[str]) -> tuple[int, int]:\n",
    "    already_seen = {}\n",
    "\n",
    "    curr = rocks\n",
    "    i = 0\n",
    "    while True:\n",
    "        curr = cycle(curr)\n",
    "        key = tuple(curr)\n",
    "        if key in already_seen:\n",
    "            print(already_seen[key], i)\n",
    "            initial_cycles = already_seen[key] + 1\n",
    "            freq = i - already_seen[key]\n",
    "            return initial_cycles, freq\n",
    "        else:\n",
    "            already_seen[key] = i\n",
    "        i += 1\n",
    "\n",
    "initial_cycles, freq = get_cycle(rocks)\n",
    "initial_cycles, freq"
   ]
  },
  {
   "cell_type": "code",
   "execution_count": null,
   "metadata": {},
   "outputs": [],
   "source": [
    "from copy import deepcopy\n",
    "\n",
    "def cycle_mutliple(rocks: list[str], cycles: int, initial_cycles: int, freq: int) -> list[str]:\n",
    "    cycles_left = cycles\n",
    "    if cycles_left > initial_cycles:\n",
    "        for _ in range(initial_cycles):\n",
    "            rocks = cycle(rocks)\n",
    "    \n",
    "    cycles_left = cycles - initial_cycles\n",
    "    cycles_left = cycles_left % freq\n",
    "    \n",
    "    for _ in range(cycles_left):\n",
    "        rocks = cycle(rocks)\n",
    "    \n",
    "    return rocks\n",
    "        \n",
    "\n",
    "\n",
    "cycles = 1000000000\n",
    "\n",
    "cycled = cycle_mutliple(rocks, cycles, initial_cycles, freq)\n",
    "cycled"
   ]
  },
  {
   "cell_type": "code",
   "execution_count": null,
   "metadata": {},
   "outputs": [],
   "source": [
    "calculate_load(cycled)"
   ]
  }
 ],
 "metadata": {
  "kernelspec": {
   "display_name": "env",
   "language": "python",
   "name": "python3"
  },
  "language_info": {
   "codemirror_mode": {
    "name": "ipython",
    "version": 3
   },
   "file_extension": ".py",
   "mimetype": "text/x-python",
   "name": "python",
   "nbconvert_exporter": "python",
   "pygments_lexer": "ipython3",
   "version": "3.10.13"
  }
 },
 "nbformat": 4,
 "nbformat_minor": 2
}
