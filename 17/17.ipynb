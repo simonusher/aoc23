{
 "cells": [
  {
   "cell_type": "code",
   "execution_count": 22,
   "metadata": {},
   "outputs": [
    {
     "name": "stdout",
     "output_type": "stream",
     "text": [
      "The line_profiler extension is already loaded. To reload it, use:\n",
      "  %reload_ext line_profiler\n"
     ]
    }
   ],
   "source": [
    "%load_ext line_profiler"
   ]
  },
  {
   "cell_type": "code",
   "execution_count": 23,
   "metadata": {},
   "outputs": [],
   "source": [
    "with open(\"17/example.txt\") as f:\n",
    "    data = f.read().splitlines()\n",
    "graph = [\n",
    "    [int(x) for x in row]\n",
    "    for row in data\n",
    "]"
   ]
  },
  {
   "cell_type": "code",
   "execution_count": 24,
   "metadata": {},
   "outputs": [],
   "source": [
    "from collections import namedtuple\n",
    "from enum import Enum\n",
    "\n",
    "class Point(namedtuple(\"Point\", [\"y\", \"x\"])):\n",
    "    def __add__(self, other):\n",
    "        return Point(self.y + other.y, self.x + other.x)\n",
    "    \n",
    "    def __sub__(self, other):\n",
    "        return Point(self.y - other.y, self.x - other.x)\n",
    "\n",
    "\n",
    "class Direction(Point, Enum):\n",
    "    UP = Point(-1, 0)\n",
    "    RIGHT = Point(0, 1)\n",
    "    DOWN = Point(1, 0)\n",
    "    LEFT = Point(0, -1)\n",
    "\n",
    "    def turns(self):\n",
    "        attr = \"y\" if self.y != 0 else \"x\"\n",
    "        return [d for d in Direction if abs(getattr(self, attr)) != abs(getattr(d, attr))]\n",
    "\n",
    "\n",
    "def possible_directions(last_direction: Direction, hops_in_this_direction: int):\n",
    "    match last_direction, hops_in_this_direction:\n",
    "        case _, 3:\n",
    "            return [(turn, 1) for turn in last_direction.turns()]\n",
    "        \n",
    "        case _:\n",
    "            return [(last_direction, hops_in_this_direction + 1), *[(t, 1) for t in last_direction.turns()]]"
   ]
  },
  {
   "cell_type": "code",
   "execution_count": 25,
   "metadata": {},
   "outputs": [
    {
     "data": {
      "text/plain": [
       "[(<Direction.DOWN: Point(y=1, x=0)>, 1),\n",
       " (<Direction.RIGHT: Point(y=0, x=1)>, 1),\n",
       " (<Direction.LEFT: Point(y=0, x=-1)>, 1)]"
      ]
     },
     "execution_count": 25,
     "metadata": {},
     "output_type": "execute_result"
    }
   ],
   "source": [
    "possible_directions(Direction.DOWN, 0)"
   ]
  },
  {
   "cell_type": "code",
   "execution_count": 26,
   "metadata": {},
   "outputs": [],
   "source": [
    "# from functools import reduce\n",
    "# from tqdm import tqdm\n",
    "\n",
    "# def dijkstra(graph: list[list[int]], source: Point, target: Point):\n",
    "#     dist = {}\n",
    "#     prev = {}\n",
    "\n",
    "#     queue = set()\n",
    "#     starting_nodes = [(source, Direction.DOWN, 0), (source, Direction.RIGHT, 0)]\n",
    "#     queue.add(starting_nodes[0])\n",
    "#     # queue.add(starting_nodes[1])\n",
    "#     for y in range(len(graph)):\n",
    "#         for x in range(len(graph[0])):\n",
    "#             point = Point(y, x)\n",
    "#             for d in Direction:\n",
    "#                 for hops in [1, 2, 3]:\n",
    "#                     dist[(point, d, hops)] = float(\"inf\")\n",
    "#                     prev[(point, d, hops)] = None\n",
    "#                     queue.add((point, d, hops))\n",
    "\n",
    "#     dist[starting_nodes[0]] = 0\n",
    "#     # dist[starting_nodes[1]] = 0\n",
    "\n",
    "#     # print(dist)\n",
    "\n",
    "#     def get_min():\n",
    "#         min_node = None\n",
    "#         min_dist = float(\"inf\")\n",
    "#         for node in queue:\n",
    "#             if dist[node] < min_dist:\n",
    "#                 min_dist = dist[node]\n",
    "#                 min_node = node\n",
    "#         return min_node, min_dist\n",
    "    \n",
    "#     with tqdm(total=target.x * target.y) as pbar:\n",
    "#         max_y, max_x = 0, 0\n",
    "#         while len(queue) > 0:\n",
    "#             current_node, current_dist = get_min()\n",
    "#             # print(current_node)\n",
    "#             if current_node is None:\n",
    "#                 break\n",
    "#             point, direction, hops = current_node\n",
    "#             y, x = point\n",
    "#             if y > max_y and x > max_x:\n",
    "#                 max_y = y\n",
    "#                 max_x = x\n",
    "#                 pbar.n = max_x * max_y \n",
    "#                 pbar.last_print_n = max_x * max_y\n",
    "#                 pbar.refresh()\n",
    "#             if point == target:\n",
    "#                 break\n",
    "#             queue.remove(current_node)\n",
    "#             # print(current_node)\n",
    "\n",
    "#             next_directions = possible_directions(direction, hops)\n",
    "#             # print(next_directions)\n",
    "#             new_points = [(point + new_direction, new_direction, new_hops) for (new_direction, new_hops) in next_directions]\n",
    "#             # print(new_points)\n",
    "            \n",
    "#             for new_ in new_points:\n",
    "#                 if new_ in queue:\n",
    "#                     # print(new_)\n",
    "#                     alt = dist[current_node] + graph[point.y][point.x]\n",
    "#                     # print(alt)\n",
    "#                     if alt < dist[new_]:\n",
    "#                         dist[new_] = alt\n",
    "#                         prev[new_] = current_node\n",
    "#                     # break\n",
    "#             # break\n",
    "        \n",
    "#         return dist, prev"
   ]
  },
  {
   "cell_type": "code",
   "execution_count": 27,
   "metadata": {},
   "outputs": [],
   "source": [
    "from functools import reduce\n",
    "from tqdm import tqdm\n",
    "\n",
    "def dijkstra2(graph: list[list[int]], source: Point, target: Point):\n",
    "    dist = {}\n",
    "    prev = {}\n",
    "\n",
    "    queue = set()\n",
    "    queue_dict = {}\n",
    "    queue_dict[float(\"inf\")] = set()\n",
    "\n",
    "    def add_to_queue(node, distance):\n",
    "        queue.add(node)\n",
    "        if distance not in queue_dict:\n",
    "            queue_dict[distance] = set()\n",
    "        queue_dict[distance].add(node)\n",
    "\n",
    "    def remove_from_queue(node, distance):\n",
    "        queue.remove(node)\n",
    "        queue_dict[distance].remove(node)\n",
    "        if len(queue_dict[distance]) == 0:\n",
    "            queue_dict.pop(distance)\n",
    "\n",
    "\n",
    "    for y in range(len(graph)):\n",
    "        for x in range(len(graph[0])):\n",
    "            point = Point(y, x)\n",
    "            for d in Direction:\n",
    "                for hops in [1, 2, 3]:\n",
    "                    dist[(point, d, hops)] = float(\"inf\")\n",
    "                    prev[(point, d, hops)] = None\n",
    "\n",
    "                    add_to_queue((point, d, hops), float(\"inf\"))\n",
    "\n",
    "\n",
    "    starting_node = (source, Direction.DOWN, 0)\n",
    "    add_to_queue(starting_node, 0)\n",
    "    dist[starting_node] = 0\n",
    "\n",
    "    def get_min():\n",
    "        min_dist = min(queue_dict.keys())\n",
    "        min_node = next(iter(queue_dict[min_dist]))\n",
    "        return min_node, min_dist\n",
    "    \n",
    "    with tqdm(total=target.x * target.y) as pbar:\n",
    "        max_y, max_x = 0, 0\n",
    "        while len(queue) > 0:\n",
    "            current_node, current_dist = get_min()\n",
    "            # print(current_node)\n",
    "            if current_node is None:\n",
    "                break\n",
    "            point, direction, hops = current_node\n",
    "            y, x = point\n",
    "            if y > max_y and x > max_x:\n",
    "                max_y = y\n",
    "                max_x = x\n",
    "                pbar.n = max_x * max_y \n",
    "                pbar.last_print_n = max_x * max_y\n",
    "                pbar.refresh()\n",
    "            if point == target:\n",
    "                break\n",
    "            remove_from_queue(current_node, current_dist)\n",
    "            # print(current_node)\n",
    "\n",
    "            next_directions = possible_directions(direction, hops)\n",
    "            # print(next_directions)\n",
    "            new_points = [(point + new_direction, new_direction, new_hops) for (new_direction, new_hops) in next_directions]\n",
    "            # print(new_points)\n",
    "            \n",
    "            for new_ in new_points:\n",
    "                if new_ in queue:\n",
    "                    new_point_current_dist = dist[new_]\n",
    "                    alt = dist[current_node] + graph[point.y][point.x]\n",
    "                    if alt < dist[new_]:\n",
    "                        dist[new_] = alt\n",
    "                        prev[new_] = current_node\n",
    "                        remove_from_queue(new_, new_point_current_dist)\n",
    "                        add_to_queue(new_, alt)\n",
    "                    # break\n",
    "            # break\n",
    "        \n",
    "        return dist, prev"
   ]
  },
  {
   "cell_type": "code",
   "execution_count": 28,
   "metadata": {},
   "outputs": [],
   "source": [
    "# from functools import reduce\n",
    "# from tqdm import tqdm\n",
    "\n",
    "# def dijkstra_simple(graph: list[list[int]], source: Point, target: Point):\n",
    "#     dist = {}\n",
    "#     prev = {}\n",
    "\n",
    "#     queue = set()\n",
    "#     for y in range(len(graph)):\n",
    "#         for x in range(len(graph[0])):\n",
    "#             point = Point(y, x)\n",
    "#             dist[point] = float(\"inf\")\n",
    "#             prev[point] = None\n",
    "#             queue.add(point)\n",
    "\n",
    "#     dist[source] = 0\n",
    "\n",
    "#     def get_min():\n",
    "#         min_node = None\n",
    "#         min_dist = float(\"inf\")\n",
    "#         for node in queue:\n",
    "#             if dist[node] < min_dist:\n",
    "#                 min_dist = dist[node]\n",
    "#                 min_node = node\n",
    "#         return min_node, min_dist\n",
    "    \n",
    "    \n",
    "#     while len(queue) > 0:\n",
    "#         point, current_dist = get_min()\n",
    "#         if point == target:\n",
    "#             break\n",
    "#         queue.remove(point)\n",
    "\n",
    "#         new_points = [point + d for d in Direction]\n",
    "        \n",
    "#         for new_ in new_points:\n",
    "#             if new_ in queue:\n",
    "#                 alt = dist[point] + graph[point.y][point.x]\n",
    "                \n",
    "#                 if alt < dist[new_]:\n",
    "#                     dist[new_] = alt\n",
    "#                     prev[new_] = point\n",
    "#                 # break\n",
    "#         # break\n",
    "    \n",
    "#     return dist, prev"
   ]
  },
  {
   "cell_type": "code",
   "execution_count": 29,
   "metadata": {},
   "outputs": [
    {
     "name": "stdout",
     "output_type": "stream",
     "text": [
      "Point(y=0, x=0) Point(y=12, x=12)\n"
     ]
    },
    {
     "name": "stderr",
     "output_type": "stream",
     "text": [
      " 75%|███████▌  | 108/144 [00:00<00:00, 6622.88it/s]\n"
     ]
    }
   ],
   "source": [
    "source = Point(0,0)\n",
    "target = Point(len(graph) - 1, len(graph[0]) - 1)\n",
    "# target = Point(12, 12)\n",
    "print(source, target)\n",
    "dist, prev = dijkstra2(graph, source, target)"
   ]
  },
  {
   "cell_type": "code",
   "execution_count": 30,
   "metadata": {},
   "outputs": [],
   "source": [
    "# %lprun -f dijkstra2 dijkstra2(graph, source, target)"
   ]
  },
  {
   "cell_type": "code",
   "execution_count": 31,
   "metadata": {},
   "outputs": [],
   "source": [
    "# source = Point(0,0)\n",
    "# target = Point(len(graph) - 1, len(graph[0]) - 1)\n",
    "# print(source, target)\n",
    "# dist, prev = dijkstra_simple(graph, source, target)"
   ]
  },
  {
   "cell_type": "code",
   "execution_count": 32,
   "metadata": {},
   "outputs": [],
   "source": [
    "# source = Point(0,0)\n",
    "# target = Point(len(graph) - 1, len(graph[0]) - 1)\n",
    "# print(source, target)\n",
    "# dist, prev = dijkstra(graph, source, target)"
   ]
  },
  {
   "cell_type": "code",
   "execution_count": 33,
   "metadata": {},
   "outputs": [],
   "source": [
    "# dist[Point(y=140, x=140)]"
   ]
  },
  {
   "cell_type": "code",
   "execution_count": 34,
   "metadata": {},
   "outputs": [],
   "source": [
    "# dist"
   ]
  },
  {
   "cell_type": "code",
   "execution_count": 35,
   "metadata": {},
   "outputs": [],
   "source": [
    "# [\n",
    "#     d for d in dist.items() if d[0][0] == Point(12, 12)\n",
    "# ]"
   ]
  },
  {
   "cell_type": "code",
   "execution_count": 36,
   "metadata": {},
   "outputs": [
    {
     "data": {
      "text/plain": [
       "[(Point(y=0, x=0), <Direction.DOWN: Point(y=1, x=0)>, 0),\n",
       " (Point(y=0, x=1), <Direction.RIGHT: Point(y=0, x=1)>, 1),\n",
       " (Point(y=0, x=2), <Direction.RIGHT: Point(y=0, x=1)>, 2),\n",
       " (Point(y=1, x=2), <Direction.DOWN: Point(y=1, x=0)>, 1),\n",
       " (Point(y=1, x=3), <Direction.RIGHT: Point(y=0, x=1)>, 1),\n",
       " (Point(y=1, x=4), <Direction.RIGHT: Point(y=0, x=1)>, 2),\n",
       " (Point(y=1, x=5), <Direction.RIGHT: Point(y=0, x=1)>, 3),\n",
       " (Point(y=0, x=5), <Direction.UP: Point(y=-1, x=0)>, 1),\n",
       " (Point(y=0, x=6), <Direction.RIGHT: Point(y=0, x=1)>, 1),\n",
       " (Point(y=0, x=7), <Direction.RIGHT: Point(y=0, x=1)>, 2),\n",
       " (Point(y=0, x=8), <Direction.RIGHT: Point(y=0, x=1)>, 3),\n",
       " (Point(y=1, x=8), <Direction.DOWN: Point(y=1, x=0)>, 1),\n",
       " (Point(y=1, x=9), <Direction.RIGHT: Point(y=0, x=1)>, 1),\n",
       " (Point(y=2, x=9), <Direction.DOWN: Point(y=1, x=0)>, 1),\n",
       " (Point(y=2, x=10), <Direction.RIGHT: Point(y=0, x=1)>, 1),\n",
       " (Point(y=3, x=10), <Direction.DOWN: Point(y=1, x=0)>, 1),\n",
       " (Point(y=4, x=10), <Direction.DOWN: Point(y=1, x=0)>, 2),\n",
       " (Point(y=4, x=11), <Direction.RIGHT: Point(y=0, x=1)>, 1),\n",
       " (Point(y=5, x=11), <Direction.DOWN: Point(y=1, x=0)>, 1),\n",
       " (Point(y=6, x=11), <Direction.DOWN: Point(y=1, x=0)>, 2),\n",
       " (Point(y=7, x=11), <Direction.DOWN: Point(y=1, x=0)>, 3),\n",
       " (Point(y=7, x=12), <Direction.RIGHT: Point(y=0, x=1)>, 1),\n",
       " (Point(y=8, x=12), <Direction.DOWN: Point(y=1, x=0)>, 1),\n",
       " (Point(y=9, x=12), <Direction.DOWN: Point(y=1, x=0)>, 2),\n",
       " (Point(y=10, x=12), <Direction.DOWN: Point(y=1, x=0)>, 3),\n",
       " (Point(y=10, x=11), <Direction.LEFT: Point(y=0, x=-1)>, 1),\n",
       " (Point(y=11, x=11), <Direction.DOWN: Point(y=1, x=0)>, 1),\n",
       " (Point(y=12, x=11), <Direction.DOWN: Point(y=1, x=0)>, 2),\n",
       " (Point(y=12, x=12), <Direction.RIGHT: Point(y=0, x=1)>, 1)]"
      ]
     },
     "execution_count": 36,
     "metadata": {},
     "output_type": "execute_result"
    }
   ],
   "source": [
    "s = []\n",
    "target = Point(len(graph) - 1, len(graph[0]) - 1)\n",
    "targets = [\n",
    "    (n, d) for (n, d) in dist.items()\n",
    "    if n[0] == target\n",
    "]\n",
    "target = reduce(lambda p1, p2: p1 if p1[1] < p2[1] else p2, targets)\n",
    "u, min_dist = target\n",
    "if prev[u] or u == Point(0, 0):\n",
    "    while u:\n",
    "        s.append(u)\n",
    "        if u in prev:\n",
    "            u = prev[u]\n",
    "        else:\n",
    "            u = None\n",
    "s = s[::-1]\n",
    "s"
   ]
  },
  {
   "cell_type": "code",
   "execution_count": 37,
   "metadata": {},
   "outputs": [],
   "source": [
    "# s = []\n",
    "# target = Point(len(graph) - 1, len(graph[0]) - 1)\n",
    "# targets = [\n",
    "#     (n, d) for (n, d) in dist.items()\n",
    "#     if n[0] == target\n",
    "# ]\n",
    "# target = reduce(lambda p1, p2: p1 if p1[1] < p2[1] else p2, targets)\n",
    "# u, min_dist = target\n",
    "# if prev[u] or u == Point(0, 0):\n",
    "#     while u:\n",
    "#         s.append(u)\n",
    "#         if u in prev:\n",
    "#             u = prev[u]\n",
    "#         else:\n",
    "#             u = None\n",
    "# s[::-1]"
   ]
  },
  {
   "cell_type": "code",
   "execution_count": 38,
   "metadata": {},
   "outputs": [],
   "source": [
    "dir_map = {\n",
    "    Direction.UP: \"^\",\n",
    "    Direction.DOWN: \"v\",\n",
    "    Direction.RIGHT: \">\",\n",
    "    Direction.LEFT: \"<\"\n",
    "}"
   ]
  },
  {
   "cell_type": "code",
   "execution_count": 39,
   "metadata": {},
   "outputs": [],
   "source": [
    "# from copy import deepcopy\n",
    "# def print_graph_simple(graph, s = None):\n",
    "#     graph = deepcopy(graph)\n",
    "#     graph = [\"\".join([str(x) for x in row]) for row in graph]\n",
    "\n",
    "#     if s:\n",
    "#         for p in s:\n",
    "#             y, x = p[0]\n",
    "#             graph[y] = graph[y][:x] + \"x\" + graph[y][x+1:]\n",
    "            \n",
    "#     return graph\n",
    "\n",
    "# print_graph_simple(graph, s)"
   ]
  },
  {
   "cell_type": "code",
   "execution_count": 40,
   "metadata": {},
   "outputs": [
    {
     "data": {
      "text/plain": [
       "['v>>34^>>>1323',\n",
       " '32v>>>35v>623',\n",
       " '325524565v>54',\n",
       " '3446585845v52',\n",
       " '4546657867v>6',\n",
       " '14385987984v4',\n",
       " '44578769877v6',\n",
       " '36378779796v>',\n",
       " '465496798688v',\n",
       " '456467998645v',\n",
       " '12246868655<v',\n",
       " '25465488877v5',\n",
       " '43226746555v>']"
      ]
     },
     "execution_count": 40,
     "metadata": {},
     "output_type": "execute_result"
    }
   ],
   "source": [
    "from copy import deepcopy\n",
    "def print_graph(graph, s = None):\n",
    "    graph = deepcopy(graph)\n",
    "    graph = [\"\".join([str(x) for x in row]) for row in graph]\n",
    "\n",
    "    if s:\n",
    "        for p, direction, _ in s:\n",
    "            y, x = p\n",
    "            graph[y] = graph[y][:x] + dir_map[direction] + graph[y][x+1:]\n",
    "            \n",
    "    return graph\n",
    "\n",
    "print_graph(graph, s)"
   ]
  },
  {
   "cell_type": "code",
   "execution_count": 41,
   "metadata": {},
   "outputs": [
    {
     "data": {
      "text/plain": [
       "2"
      ]
     },
     "execution_count": 41,
     "metadata": {},
     "output_type": "execute_result"
    }
   ],
   "source": [
    "graph[0][0]"
   ]
  },
  {
   "cell_type": "code",
   "execution_count": 42,
   "metadata": {},
   "outputs": [
    {
     "data": {
      "text/plain": [
       "102"
      ]
     },
     "execution_count": 42,
     "metadata": {},
     "output_type": "execute_result"
    }
   ],
   "source": [
    "rr = 0\n",
    "\n",
    "for p, _, _ in s:\n",
    "    y, x = p\n",
    "    rr += graph[y][x]\n",
    "rr - graph[0][0]"
   ]
  },
  {
   "cell_type": "markdown",
   "metadata": {},
   "source": [
    "## Part 2"
   ]
  },
  {
   "cell_type": "code",
   "execution_count": 43,
   "metadata": {},
   "outputs": [],
   "source": [
    "def possible_directions(last_direction: Direction, hops_in_this_direction: int):\n",
    "    match last_direction, hops_in_this_direction:\n",
    "        case _, 10:\n",
    "            return [(turn, 1) for turn in last_direction.turns()]\n",
    "        \n",
    "        case _, hops if hops >= 4:\n",
    "            return [(last_direction, hops_in_this_direction + 1), *[(t, 1) for t in last_direction.turns()]]\n",
    "        \n",
    "        case _:\n",
    "            return [(last_direction, hops_in_this_direction + 1)]"
   ]
  },
  {
   "cell_type": "code",
   "execution_count": 44,
   "metadata": {},
   "outputs": [
    {
     "name": "stdout",
     "output_type": "stream",
     "text": [
      "Point(y=0, x=0) Point(y=12, x=12)\n"
     ]
    },
    {
     "name": "stderr",
     "output_type": "stream",
     "text": [
      " 33%|███▎      | 48/144 [00:00<00:00, 61455.00it/s]  \n"
     ]
    }
   ],
   "source": [
    "source = Point(0,0)\n",
    "target = Point(len(graph) - 1, len(graph[0]) - 1)\n",
    "# target = Point(12, 12)\n",
    "print(source, target)\n",
    "dist, prev = dijkstra2(graph, source, target)"
   ]
  },
  {
   "cell_type": "code",
   "execution_count": 45,
   "metadata": {},
   "outputs": [
    {
     "data": {
      "text/plain": [
       "[]"
      ]
     },
     "execution_count": 45,
     "metadata": {},
     "output_type": "execute_result"
    }
   ],
   "source": [
    "s = []\n",
    "target = Point(len(graph) - 1, len(graph[0]) - 1)\n",
    "targets = [\n",
    "    (n, d) for (n, d) in dist.items()\n",
    "    if n[0] == target\n",
    "]\n",
    "target = reduce(lambda p1, p2: p1 if p1[1] < p2[1] else p2, targets)\n",
    "u, min_dist = target\n",
    "if prev[u] or u == Point(0, 0):\n",
    "    while u:\n",
    "        s.append(u)\n",
    "        if u in prev:\n",
    "            u = prev[u]\n",
    "        else:\n",
    "            u = None\n",
    "s = s[::-1]\n",
    "s"
   ]
  }
 ],
 "metadata": {
  "kernelspec": {
   "display_name": "env",
   "language": "python",
   "name": "python3"
  },
  "language_info": {
   "codemirror_mode": {
    "name": "ipython",
    "version": 3
   },
   "file_extension": ".py",
   "mimetype": "text/x-python",
   "name": "python",
   "nbconvert_exporter": "python",
   "pygments_lexer": "ipython3",
   "version": "3.10.13"
  }
 },
 "nbformat": 4,
 "nbformat_minor": 2
}
