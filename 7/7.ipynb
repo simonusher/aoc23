{
 "cells": [
  {
   "cell_type": "code",
   "execution_count": null,
   "metadata": {},
   "outputs": [],
   "source": [
    "with open(\"7/input.txt\") as f:\n",
    "    data = f.read().splitlines()\n",
    "data"
   ]
  },
  {
   "cell_type": "code",
   "execution_count": null,
   "metadata": {},
   "outputs": [],
   "source": [
    "hands_with_bids = list(map(str.split, data))\n",
    "hands_with_bids = [(hand, int(bid)) for hand, bid in hands_with_bids]\n",
    "hands_with_bids"
   ]
  },
  {
   "cell_type": "code",
   "execution_count": null,
   "metadata": {},
   "outputs": [],
   "source": [
    "from collections import Counter\n",
    "\n",
    "POSSIBLE_CARDS = [\n",
    "    \"A\",\n",
    "    \"K\",\n",
    "    \"Q\",\n",
    "    \"J\",\n",
    "    \"T\",\n",
    "    \"9\",\n",
    "    \"8\",\n",
    "    \"7\",\n",
    "    \"6\",\n",
    "    \"5\",\n",
    "    \"4\",\n",
    "    \"3\",\n",
    "    \"2\"\n",
    "]\n",
    "\n",
    "CARD_TO_SORT_KEY = dict((y,x) for (x,y) in enumerate(reversed(POSSIBLE_CARDS)))\n",
    "\n",
    "def get_card_counts(cards: str) -> dict[str, int]:\n",
    "    return Counter(cards)\n",
    "\n",
    "def get_hand_power(cards: str) -> int:\n",
    "    card_counts = get_card_counts(cards)\n",
    "    repeat_counts = Counter(card_counts.values())\n",
    "\n",
    "    if 5 in repeat_counts:\n",
    "        return 7\n",
    "    elif 4 in repeat_counts:\n",
    "        return 6\n",
    "    elif 3 in repeat_counts:\n",
    "        if 2 in repeat_counts:\n",
    "            return 5\n",
    "        else:\n",
    "            return 4\n",
    "    elif 2 in repeat_counts:\n",
    "        if repeat_counts[2] == 2:\n",
    "            return 3\n",
    "        else:\n",
    "            return 2\n",
    "    else:\n",
    "        return 1"
   ]
  },
  {
   "cell_type": "code",
   "execution_count": null,
   "metadata": {},
   "outputs": [],
   "source": [
    "CARD_TO_SORT_KEY"
   ]
  },
  {
   "cell_type": "code",
   "execution_count": null,
   "metadata": {},
   "outputs": [],
   "source": [
    "from typing import Callable\n",
    "def add_sort_keys(hand_with_bid: tuple[str, int], hand_power: Callable[[str], int]=get_hand_power, card_to_sort_key=CARD_TO_SORT_KEY) -> tuple[str, int, tuple[int, list[int]]]:\n",
    "    hand, bid = hand_with_bid\n",
    "    hand_power = hand_power(hand)\n",
    "    sort_keys = [card_to_sort_key[card] for card in hand]\n",
    "    return hand, bid, (hand_power, sort_keys)\n",
    "\n",
    "hands_with_sort_keys = list(map(add_sort_keys, hands_with_bids))\n",
    "hands_from_weakest = sorted(hands_with_sort_keys, key=lambda hand: hand[2])\n",
    "hands_from_weakest"
   ]
  },
  {
   "cell_type": "code",
   "execution_count": null,
   "metadata": {},
   "outputs": [],
   "source": [
    "from operator import mul\n",
    "ranks_with_bids = list(enumerate(map(lambda x: x[1], hands_from_weakest), 1))\n",
    "sum(map(lambda x: mul(*x), ranks_with_bids))"
   ]
  },
  {
   "cell_type": "markdown",
   "metadata": {},
   "source": [
    "## Part 2"
   ]
  },
  {
   "cell_type": "code",
   "execution_count": null,
   "metadata": {},
   "outputs": [],
   "source": [
    "from collections import Counter\n",
    "\n",
    "POSSIBLE_CARDS_2 = [\n",
    "    \"A\",\n",
    "    \"K\",\n",
    "    \"Q\",\n",
    "    \"T\",\n",
    "    \"9\",\n",
    "    \"8\",\n",
    "    \"7\",\n",
    "    \"6\",\n",
    "    \"5\",\n",
    "    \"4\",\n",
    "    \"3\",\n",
    "    \"2\",\n",
    "    \"J\",\n",
    "]\n",
    "\n",
    "CARD_TO_SORT_KEY_2 = dict((y,x) for (x,y) in enumerate(reversed(POSSIBLE_CARDS_2)))\n",
    "\n",
    "\n",
    "# FIXME: think of a not awful solution to this\n",
    "def get_hand_power_2(cards: str) -> int:\n",
    "    power_without_jokers = get_hand_power(cards)\n",
    "    card_counts = get_card_counts(cards)\n",
    "    num_jokers = card_counts[\"J\"]\n",
    "\n",
    "\n",
    "    card_counts_without_jokers = { card: count for card, count in card_counts.items() if card != \"J\"}\n",
    "\n",
    "    if power_without_jokers == 7 or any([x >= (5 - num_jokers) for x in card_counts_without_jokers.values()]):\n",
    "        return 7\n",
    "    if power_without_jokers == 6 or any([x >= (4 - num_jokers) for x in card_counts_without_jokers.values()]):\n",
    "        return 6\n",
    "    else:\n",
    "        if power_without_jokers == 5:\n",
    "            return 5\n",
    "        for card, count in card_counts_without_jokers.items():\n",
    "            other_cards = { other_card: other_count for other_card, other_count in card_counts_without_jokers.items() if other_card != card }\n",
    "            if count >= (3 - num_jokers):\n",
    "                jokers_left = num_jokers - max(0, (3 - count))\n",
    "                cards_needed_for_2 = 2 - jokers_left\n",
    "                if any([x >= cards_needed_for_2 for x in other_cards.values()]):\n",
    "                    return 5\n",
    "        if power_without_jokers == 4:\n",
    "            return 4\n",
    "\n",
    "        if any([x >= (3 - num_jokers) for x in card_counts_without_jokers.values()]):\n",
    "            return 4\n",
    "        \n",
    "        if power_without_jokers == 3:\n",
    "            return 3\n",
    "\n",
    "        for card, count in card_counts_without_jokers.items():\n",
    "            other_cards = { other_card: other_count for other_card, other_count in card_counts_without_jokers.items() if other_card != card }\n",
    "            if count >= (2 - num_jokers):\n",
    "                jokers_left = num_jokers - max(0, (2 - count))\n",
    "                cards_needed_for_2 = 2 - jokers_left\n",
    "                if any([x >= cards_needed_for_2 for x in other_cards.values()]):\n",
    "                    return 3\n",
    "        \n",
    "        if power_without_jokers == 2:\n",
    "            return 2\n",
    "        \n",
    "        if any([x >= (2 - num_jokers) for x in card_counts_without_jokers.values()]):\n",
    "            return 2\n",
    "        \n",
    "        return 1"
   ]
  },
  {
   "cell_type": "code",
   "execution_count": null,
   "metadata": {},
   "outputs": [],
   "source": [
    "hands_with_sort_keys = list(map(lambda x: add_sort_keys(x, get_hand_power_2, CARD_TO_SORT_KEY_2), hands_with_bids))\n",
    "hands_from_weakest = sorted(hands_with_sort_keys, key=lambda hand: hand[2])\n",
    "hands_from_weakest"
   ]
  },
  {
   "cell_type": "code",
   "execution_count": null,
   "metadata": {},
   "outputs": [],
   "source": [
    "from operator import mul\n",
    "ranks_with_bids = list(enumerate(map(lambda x: x[1], hands_from_weakest), 1))\n",
    "sum(map(lambda x: mul(*x), ranks_with_bids))"
   ]
  },
  {
   "cell_type": "code",
   "execution_count": null,
   "metadata": {},
   "outputs": [],
   "source": []
  }
 ],
 "metadata": {
  "kernelspec": {
   "display_name": "env",
   "language": "python",
   "name": "python3"
  },
  "language_info": {
   "codemirror_mode": {
    "name": "ipython",
    "version": 3
   },
   "file_extension": ".py",
   "mimetype": "text/x-python",
   "name": "python",
   "nbconvert_exporter": "python",
   "pygments_lexer": "ipython3",
   "version": "3.10.13"
  }
 },
 "nbformat": 4,
 "nbformat_minor": 2
}
